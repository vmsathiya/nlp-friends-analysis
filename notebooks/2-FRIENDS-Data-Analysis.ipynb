{
 "cells": [
  {
   "cell_type": "markdown",
   "metadata": {},
   "source": [
    "## FRIENDS Data Analysis"
   ]
  },
  {
   "cell_type": "markdown",
   "metadata": {},
   "source": [
    "____\n",
    "** Import numpy and pandas **"
   ]
  },
  {
   "cell_type": "code",
   "execution_count": 7,
   "metadata": {},
   "outputs": [],
   "source": [
    "import pandas as pd\n",
    "import numpy as np"
   ]
  },
  {
   "cell_type": "markdown",
   "metadata": {},
   "source": [
    "** Import visualization libraries and set %matplotlib inline. **"
   ]
  },
  {
   "cell_type": "code",
   "execution_count": 8,
   "metadata": {},
   "outputs": [],
   "source": [
    "import matplotlib.pyplot as plt\n",
    "import seaborn as sns\n",
    "sns.set_style('whitegrid')\n",
    "%matplotlib inline"
   ]
  },
  {
   "cell_type": "markdown",
   "metadata": {},
   "source": [
    "** Read in the csv file as a dataframe called df **"
   ]
  },
  {
   "cell_type": "code",
   "execution_count": 22,
   "metadata": {},
   "outputs": [],
   "source": [
    "\n",
    "df = pd.read_csv('../dataset/friends_dataset_allseasons.csv',sep='\\t')\n",
    "df['Location'] = df['Location'].replace('the hallway', 'The Hallway')"
   ]
  },
  {
   "cell_type": "markdown",
   "metadata": {},
   "source": [
    "\n",
    "** Check the info() of the df **"
   ]
  },
  {
   "cell_type": "code",
   "execution_count": 23,
   "metadata": {},
   "outputs": [
    {
     "name": "stdout",
     "output_type": "stream",
     "text": [
      "<class 'pandas.core.frame.DataFrame'>\n",
      "RangeIndex: 61517 entries, 0 to 61516\n",
      "Data columns (total 6 columns):\n",
      " #   Column        Non-Null Count  Dtype \n",
      "---  ------        --------------  ----- \n",
      " 0   Season        61517 non-null  int64 \n",
      " 1   Episode       61517 non-null  object\n",
      " 2   Episode Name  61517 non-null  object\n",
      " 3   Location      61010 non-null  object\n",
      " 4   Character     61517 non-null  object\n",
      " 5   Dialogue      61517 non-null  object\n",
      "dtypes: int64(1), object(5)\n",
      "memory usage: 2.8+ MB\n"
     ]
    }
   ],
   "source": [
    "df.info()"
   ]
  },
  {
   "cell_type": "markdown",
   "metadata": {},
   "source": [
    "** Check the head of df **"
   ]
  },
  {
   "cell_type": "code",
   "execution_count": 24,
   "metadata": {},
   "outputs": [
    {
     "data": {
      "text/html": [
       "<div>\n",
       "<style scoped>\n",
       "    .dataframe tbody tr th:only-of-type {\n",
       "        vertical-align: middle;\n",
       "    }\n",
       "\n",
       "    .dataframe tbody tr th {\n",
       "        vertical-align: top;\n",
       "    }\n",
       "\n",
       "    .dataframe thead th {\n",
       "        text-align: right;\n",
       "    }\n",
       "</style>\n",
       "<table border=\"1\" class=\"dataframe\">\n",
       "  <thead>\n",
       "    <tr style=\"text-align: right;\">\n",
       "      <th></th>\n",
       "      <th>Season</th>\n",
       "      <th>Episode</th>\n",
       "      <th>Episode Name</th>\n",
       "      <th>Location</th>\n",
       "      <th>Character</th>\n",
       "      <th>Dialogue</th>\n",
       "    </tr>\n",
       "  </thead>\n",
       "  <tbody>\n",
       "    <tr>\n",
       "      <th>0</th>\n",
       "      <td>1</td>\n",
       "      <td>01</td>\n",
       "      <td>The One Where Monica Gets a New Roommate (The ...</td>\n",
       "      <td>Central Perk</td>\n",
       "      <td>Monica</td>\n",
       "      <td>There's nothing to tell! He's just some guy I ...</td>\n",
       "    </tr>\n",
       "    <tr>\n",
       "      <th>1</th>\n",
       "      <td>1</td>\n",
       "      <td>01</td>\n",
       "      <td>The One Where Monica Gets a New Roommate (The ...</td>\n",
       "      <td>Central Perk</td>\n",
       "      <td>Joey</td>\n",
       "      <td>C'mon, you're going out with the guy! There's ...</td>\n",
       "    </tr>\n",
       "    <tr>\n",
       "      <th>2</th>\n",
       "      <td>1</td>\n",
       "      <td>01</td>\n",
       "      <td>The One Where Monica Gets a New Roommate (The ...</td>\n",
       "      <td>Central Perk</td>\n",
       "      <td>Chandler</td>\n",
       "      <td>All right Joey, be nice.  So does he have a hu...</td>\n",
       "    </tr>\n",
       "    <tr>\n",
       "      <th>3</th>\n",
       "      <td>1</td>\n",
       "      <td>01</td>\n",
       "      <td>The One Where Monica Gets a New Roommate (The ...</td>\n",
       "      <td>Central Perk</td>\n",
       "      <td>Phoebe</td>\n",
       "      <td>Wait, does he eat chalk</td>\n",
       "    </tr>\n",
       "    <tr>\n",
       "      <th>4</th>\n",
       "      <td>1</td>\n",
       "      <td>01</td>\n",
       "      <td>The One Where Monica Gets a New Roommate (The ...</td>\n",
       "      <td>Central Perk</td>\n",
       "      <td>Phoebe</td>\n",
       "      <td>Just, 'cause, I don't want her to go through w...</td>\n",
       "    </tr>\n",
       "  </tbody>\n",
       "</table>\n",
       "</div>"
      ],
      "text/plain": [
       "   Season Episode                                       Episode Name  \\\n",
       "0       1      01  The One Where Monica Gets a New Roommate (The ...   \n",
       "1       1      01  The One Where Monica Gets a New Roommate (The ...   \n",
       "2       1      01  The One Where Monica Gets a New Roommate (The ...   \n",
       "3       1      01  The One Where Monica Gets a New Roommate (The ...   \n",
       "4       1      01  The One Where Monica Gets a New Roommate (The ...   \n",
       "\n",
       "       Location Character                                           Dialogue  \n",
       "0  Central Perk    Monica  There's nothing to tell! He's just some guy I ...  \n",
       "1  Central Perk      Joey  C'mon, you're going out with the guy! There's ...  \n",
       "2  Central Perk  Chandler  All right Joey, be nice.  So does he have a hu...  \n",
       "3  Central Perk    Phoebe                            Wait, does he eat chalk  \n",
       "4  Central Perk    Phoebe  Just, 'cause, I don't want her to go through w...  "
      ]
     },
     "execution_count": 24,
     "metadata": {},
     "output_type": "execute_result"
    }
   ],
   "source": [
    "df.head(5)"
   ]
  },
  {
   "cell_type": "markdown",
   "metadata": {},
   "source": [
    "## Basic Questions"
   ]
  },
  {
   "cell_type": "markdown",
   "metadata": {},
   "source": [
    "** What are the top 6 Lead Charactes? **"
   ]
  },
  {
   "cell_type": "code",
   "execution_count": 69,
   "metadata": {},
   "outputs": [
    {
     "data": {
      "text/plain": [
       "Rachel      9294\n",
       "Ross        9175\n",
       "Chandler    8454\n",
       "Monica      8437\n",
       "Joey        8198\n",
       "Phoebe      7531\n",
       "Name: Character, dtype: int64"
      ]
     },
     "execution_count": 69,
     "metadata": {},
     "output_type": "execute_result"
    }
   ],
   "source": [
    "df['Character'].value_counts().head(6)"
   ]
  },
  {
   "cell_type": "markdown",
   "metadata": {},
   "source": [
    "** What are the top 5 supporting characters? **\n"
   ]
  },
  {
   "cell_type": "code",
   "execution_count": 33,
   "metadata": {},
   "outputs": [
    {
     "data": {
      "text/plain": [
       "Mike          360\n",
       "Richard       254\n",
       "Mr. Geller    231\n",
       "Janice        219\n",
       "Carol         205\n",
       "Charlie       190\n",
       "Name: Character, dtype: int64"
      ]
     },
     "execution_count": 33,
     "metadata": {},
     "output_type": "execute_result"
    }
   ],
   "source": [
    "#Ignoring Character == 'All'\n",
    "df_new = df[df['Character'] != 'All']\n",
    "df_new['Character'].value_counts().head(12).tail(6)"
   ]
  },
  {
   "cell_type": "markdown",
   "metadata": {},
   "source": [
    "** What are the top 5 set(Location)? **"
   ]
  },
  {
   "cell_type": "code",
   "execution_count": 35,
   "metadata": {},
   "outputs": [
    {
     "data": {
      "text/plain": [
       "Monica's Apartment               18561\n",
       "Central Perk                     10896\n",
       "Chandler and Joey's Apartment     7188\n",
       "Ross's Apartment                  1228\n",
       "The Hallway                        692\n",
       "Ross and Rachel's Apartment        599\n",
       "Name: Location, dtype: int64"
      ]
     },
     "execution_count": 35,
     "metadata": {},
     "output_type": "execute_result"
    }
   ],
   "source": [
    "df['Location'].value_counts().head(6)"
   ]
  },
  {
   "cell_type": "markdown",
   "metadata": {},
   "source": []
  },
  {
   "cell_type": "markdown",
   "metadata": {},
   "source": [
    "# Total number of lines by each lead characters"
   ]
  },
  {
   "cell_type": "code",
   "execution_count": 75,
   "metadata": {
    "scrolled": true
   },
   "outputs": [
    {
     "data": {
      "text/plain": [
       "<matplotlib.axes._subplots.AxesSubplot at 0x1983f602748>"
      ]
     },
     "execution_count": 75,
     "metadata": {},
     "output_type": "execute_result"
    },
    {
     "data": {
      "image/png": "[encoded data removed]",
      "text/plain": [
       "<Figure size 432x288 with 1 Axes>"
      ]
     },
     "metadata": {
      "needs_background": "light"
     },
     "output_type": "display_data"
    }
   ],
   "source": [
    "df_leadcharacters=df[(df['Character'] == 'Chandler') | (df['Character'] == 'Ross') | (df['Character'] == 'Joey')  |(df['Character'] == 'Monica') | (df['Character'] == 'Rachel') | (df['Character'] == 'Phoebe')      ]\n",
    "sns.countplot(x='Character',data=df_leadcharacters)"
   ]
  },
  {
   "cell_type": "markdown",
   "metadata": {},
   "source": [
    "Findings: Ross and Rachel had more lines(Dialogues) than anyone else.\n",
    "          Rachel and Ross both had 9k+ lines. This was really close. While Phoebe had the least number of lines, 7.5k. "
   ]
  },
  {
   "cell_type": "markdown",
   "metadata": {},
   "source": [
    "# Total number of lines by supporting characters"
   ]
  },
  {
   "cell_type": "markdown",
   "metadata": {},
   "source": [
    "** Now use seaborn to create a countplot Friends by Supporting Characters. **\n",
    "Mike          360\n",
    "Richard       254\n",
    "Mr. Geller    231\n",
    "Janice        219\n",
    "Carol         205\n",
    "Charlie       190"
   ]
  },
  {
   "cell_type": "code",
   "execution_count": 34,
   "metadata": {
    "scrolled": true
   },
   "outputs": [
    {
     "data": {
      "text/plain": [
       "<matplotlib.axes._subplots.AxesSubplot at 0x1983d080588>"
      ]
     },
     "execution_count": 34,
     "metadata": {},
     "output_type": "execute_result"
    },
    {
     "data": {
      "image/png": "[encoded data removed]",
      "text/plain": [
       "<Figure size 432x288 with 1 Axes>"
      ]
     },
     "metadata": {
      "needs_background": "light"
     },
     "output_type": "display_data"
    }
   ],
   "source": [
    "df_supporingcharacters=df[(df['Character'] == 'Mike') | (df['Character'] == 'Richard') | (df['Character'] == 'Mr. Geller')  |(df['Character'] == 'Janice') | (df['Character'] == 'Carol') | (df['Character'] == 'Charlie')      ]\n",
    "sns.countplot(x='Character',data=df_supporingcharacters)"
   ]
  },
  {
   "cell_type": "code",
   "execution_count": null,
   "metadata": {},
   "outputs": [],
   "source": [
    "Findings: Despite 'Gunther' appeared in most number of sean. Interestingly Mike and Richard had the most number of Lines (Dialogue)."
   ]
  },
  {
   "cell_type": "markdown",
   "metadata": {},
   "source": [
    "# The Main Set (Location)"
   ]
  },
  {
   "cell_type": "markdown",
   "metadata": {},
   "source": [
    "** Now use seaborn to create a countplot Friends by Location. **\n",
    "Monica's Apartment               18561\n",
    "Central Perk                     10896\n",
    "Chandler and Joey's Apartment     7188\n",
    "Ross's Apartment                  1228\n",
    "The Hallway                        692\n",
    "Ross and Rachel's Apartment        599"
   ]
  },
  {
   "cell_type": "code",
   "execution_count": 73,
   "metadata": {},
   "outputs": [
    {
     "data": {
      "text/plain": [
       "<matplotlib.axes._subplots.AxesSubplot at 0x1983f550788>"
      ]
     },
     "execution_count": 73,
     "metadata": {},
     "output_type": "execute_result"
    },
    {
     "data": {
      "image/png": "[encoded data removed]",
      "text/plain": [
       "<Figure size 432x288 with 1 Axes>"
      ]
     },
     "metadata": {
      "needs_background": "light"
     },
     "output_type": "display_data"
    }
   ],
   "source": [
    "df_locations=df[(df['Location'] == \"Monica's Apartment\") | (df['Location'] == \"Central Perk\") | (df['Location'] == \"Chandler and Joey's Apartment\")  |(df['Location'] == \"Ross's Apartment\") | (df['Location'] == 'The Hallway') | (df['Location'] == \"Ross and Rachel's Apartment\")  ]\n",
    "sns.countplot(x='Location',data=df_locations)"
   ]
  },
  {
   "cell_type": "markdown",
   "metadata": {},
   "source": [
    "Findings: The main set for Friends was Monica's Apartment then 'Central Perk'"
   ]
  },
  {
   "cell_type": "markdown",
   "metadata": {},
   "source": [
    "# Total Number of Lines by each lead characters at Central Perk"
   ]
  },
  {
   "cell_type": "code",
   "execution_count": 72,
   "metadata": {
    "scrolled": true
   },
   "outputs": [
    {
     "data": {
      "text/plain": [
       "<matplotlib.axes._subplots.AxesSubplot at 0x19840ca3f08>"
      ]
     },
     "execution_count": 72,
     "metadata": {},
     "output_type": "execute_result"
    },
    {
     "data": {
      "image/png": "[encoded data removed]",
      "text/plain": [
       "<Figure size 432x288 with 1 Axes>"
      ]
     },
     "metadata": {
      "needs_background": "light"
     },
     "output_type": "display_data"
    }
   ],
   "source": [
    "df_linesat_centralperkt=df[((df['Character'] == 'Chandler') | (df['Character'] == 'Ross') | (df['Character'] == 'Joey')  |(df['Character'] == 'Monica') | (df['Character'] == 'Rachel') | (df['Character'] == 'Phoebe')) & (df['Location'] == \"Central Perk\")]\n",
    "sns.countplot(x='Character',data=df_linesat_centralperkt)"
   ]
  },
  {
   "cell_type": "code",
   "execution_count": null,
   "metadata": {},
   "outputs": [],
   "source": [
    "Findings: Phoebe had the most number of lines in 'Central Perk' followed by Ross and then Rachel."
   ]
  },
  {
   "cell_type": "markdown",
   "metadata": {},
   "source": [
    "# Total Number of Lines by each lead characters at Monica's Apartment\n"
   ]
  },
  {
   "cell_type": "code",
   "execution_count": 71,
   "metadata": {},
   "outputs": [
    {
     "data": {
      "text/plain": [
       "<matplotlib.axes._subplots.AxesSubplot at 0x19840e04788>"
      ]
     },
     "execution_count": 71,
     "metadata": {},
     "output_type": "execute_result"
    },
    {
     "data": {
      "image/png": "[encoded data removed]",
      "text/plain": [
       "<Figure size 432x288 with 1 Axes>"
      ]
     },
     "metadata": {
      "needs_background": "light"
     },
     "output_type": "display_data"
    }
   ],
   "source": [
    "df_linesat_monicaspartment=df[((df['Character'] == 'Chandler') | (df['Character'] == 'Ross') | (df['Character'] == 'Joey')  |(df['Character'] == 'Monica') | (df['Character'] == 'Rachel') | (df['Character'] == 'Phoebe')) & (df['Location'] == \"Monica's Apartment\")]\n",
    "sns.countplot(x='Character',data=df_linesat_monicaspartment)"
   ]
  },
  {
   "cell_type": "code",
   "execution_count": null,
   "metadata": {},
   "outputs": [],
   "source": [
    "Findings: Of course, no surprises here. Monica had the most number of lines in her apartment followed by Chandler and then Rachel."
   ]
  },
  {
   "cell_type": "markdown",
   "metadata": {},
   "source": [
    "# Total number of lines by each lead characters in each season"
   ]
  },
  {
   "cell_type": "markdown",
   "metadata": {},
   "source": [
    "** Now use seaborn to create a countplot of the Season column with the hue based off of the Character column. **"
   ]
  },
  {
   "cell_type": "code",
   "execution_count": 37,
   "metadata": {},
   "outputs": [
    {
     "data": {
      "text/plain": [
       "<matplotlib.legend.Legend at 0x1983a05b048>"
      ]
     },
     "execution_count": 37,
     "metadata": {},
     "output_type": "execute_result"
    },
    {
     "data": {
      "image/png": "[encoded data removed]",
      "text/plain": [
       "<Figure size 432x288 with 1 Axes>"
      ]
     },
     "metadata": {
      "needs_background": "light"
     },
     "output_type": "display_data"
    }
   ],
   "source": [
    "sns.countplot(x='Season',data=df_leadcharacters,hue='Character',palette='viridis')\n",
    "\n",
    "# To relocate the legend\n",
    "plt.legend(bbox_to_anchor=(1.05, 1), loc=2, borderaxespad=0.)"
   ]
  },
  {
   "cell_type": "markdown",
   "metadata": {},
   "source": [
    "# Total number of lines by each lead characters in each set"
   ]
  },
  {
   "cell_type": "code",
   "execution_count": 39,
   "metadata": {},
   "outputs": [
    {
     "data": {
      "text/plain": [
       "<matplotlib.legend.Legend at 0x1983f600188>"
      ]
     },
     "execution_count": 39,
     "metadata": {},
     "output_type": "execute_result"
    },
    {
     "data": {
      "image/png": "[encoded data removed]",
      "text/plain": [
       "<Figure size 432x288 with 1 Axes>"
      ]
     },
     "metadata": {
      "needs_background": "light"
     },
     "output_type": "display_data"
    }
   ],
   "source": [
    "sns.countplot(x='Season',data=df_locations,hue='Location',palette='viridis')\n",
    "\n",
    "# To relocate the legend\n",
    "plt.legend(bbox_to_anchor=(1.05, 1), loc=2, borderaxespad=0.)"
   ]
  },
  {
   "cell_type": "markdown",
   "metadata": {},
   "source": [
    "** Now create a gropuby object called bySeason, where you group the DataFrame by the Seasib column and use the count() method for aggregation. Use the head() method on this returned DataFrame. **"
   ]
  },
  {
   "cell_type": "code",
   "execution_count": 43,
   "metadata": {},
   "outputs": [
    {
     "data": {
      "text/html": [
       "<div>\n",
       "<style scoped>\n",
       "    .dataframe tbody tr th:only-of-type {\n",
       "        vertical-align: middle;\n",
       "    }\n",
       "\n",
       "    .dataframe tbody tr th {\n",
       "        vertical-align: top;\n",
       "    }\n",
       "\n",
       "    .dataframe thead th {\n",
       "        text-align: right;\n",
       "    }\n",
       "</style>\n",
       "<table border=\"1\" class=\"dataframe\">\n",
       "  <thead>\n",
       "    <tr style=\"text-align: right;\">\n",
       "      <th></th>\n",
       "      <th>Episode</th>\n",
       "      <th>Episode Name</th>\n",
       "      <th>Location</th>\n",
       "      <th>Character</th>\n",
       "      <th>Dialogue</th>\n",
       "    </tr>\n",
       "    <tr>\n",
       "      <th>Season</th>\n",
       "      <th></th>\n",
       "      <th></th>\n",
       "      <th></th>\n",
       "      <th></th>\n",
       "      <th></th>\n",
       "    </tr>\n",
       "  </thead>\n",
       "  <tbody>\n",
       "    <tr>\n",
       "      <th>1</th>\n",
       "      <td>5994</td>\n",
       "      <td>5994</td>\n",
       "      <td>5985</td>\n",
       "      <td>5994</td>\n",
       "      <td>5994</td>\n",
       "    </tr>\n",
       "    <tr>\n",
       "      <th>2</th>\n",
       "      <td>6024</td>\n",
       "      <td>6024</td>\n",
       "      <td>5574</td>\n",
       "      <td>6024</td>\n",
       "      <td>6024</td>\n",
       "    </tr>\n",
       "    <tr>\n",
       "      <th>3</th>\n",
       "      <td>6499</td>\n",
       "      <td>6499</td>\n",
       "      <td>6498</td>\n",
       "      <td>6499</td>\n",
       "      <td>6499</td>\n",
       "    </tr>\n",
       "    <tr>\n",
       "      <th>4</th>\n",
       "      <td>5996</td>\n",
       "      <td>5996</td>\n",
       "      <td>5988</td>\n",
       "      <td>5996</td>\n",
       "      <td>5996</td>\n",
       "    </tr>\n",
       "    <tr>\n",
       "      <th>5</th>\n",
       "      <td>6225</td>\n",
       "      <td>6225</td>\n",
       "      <td>6225</td>\n",
       "      <td>6225</td>\n",
       "      <td>6225</td>\n",
       "    </tr>\n",
       "    <tr>\n",
       "      <th>6</th>\n",
       "      <td>6460</td>\n",
       "      <td>6460</td>\n",
       "      <td>6443</td>\n",
       "      <td>6460</td>\n",
       "      <td>6460</td>\n",
       "    </tr>\n",
       "    <tr>\n",
       "      <th>7</th>\n",
       "      <td>6299</td>\n",
       "      <td>6299</td>\n",
       "      <td>6287</td>\n",
       "      <td>6299</td>\n",
       "      <td>6299</td>\n",
       "    </tr>\n",
       "    <tr>\n",
       "      <th>8</th>\n",
       "      <td>6226</td>\n",
       "      <td>6226</td>\n",
       "      <td>6225</td>\n",
       "      <td>6226</td>\n",
       "      <td>6226</td>\n",
       "    </tr>\n",
       "    <tr>\n",
       "      <th>9</th>\n",
       "      <td>6498</td>\n",
       "      <td>6498</td>\n",
       "      <td>6489</td>\n",
       "      <td>6498</td>\n",
       "      <td>6498</td>\n",
       "    </tr>\n",
       "    <tr>\n",
       "      <th>10</th>\n",
       "      <td>5296</td>\n",
       "      <td>5296</td>\n",
       "      <td>5296</td>\n",
       "      <td>5296</td>\n",
       "      <td>5296</td>\n",
       "    </tr>\n",
       "  </tbody>\n",
       "</table>\n",
       "</div>"
      ],
      "text/plain": [
       "        Episode  Episode Name  Location  Character  Dialogue\n",
       "Season                                                      \n",
       "1          5994          5994      5985       5994      5994\n",
       "2          6024          6024      5574       6024      6024\n",
       "3          6499          6499      6498       6499      6499\n",
       "4          5996          5996      5988       5996      5996\n",
       "5          6225          6225      6225       6225      6225\n",
       "6          6460          6460      6443       6460      6460\n",
       "7          6299          6299      6287       6299      6299\n",
       "8          6226          6226      6225       6226      6226\n",
       "9          6498          6498      6489       6498      6498\n",
       "10         5296          5296      5296       5296      5296"
      ]
     },
     "execution_count": 43,
     "metadata": {},
     "output_type": "execute_result"
    }
   ],
   "source": [
    "bySeason = df.groupby('Season').count()\n",
    "bySeason.head(10)"
   ]
  },
  {
   "cell_type": "markdown",
   "metadata": {},
   "source": [
    "# creating a simple plot off of the dataframe indicating the no. of lines(Dialogue) per season. "
   ]
  },
  {
   "cell_type": "code",
   "execution_count": 42,
   "metadata": {},
   "outputs": [
    {
     "data": {
      "text/plain": [
       "<matplotlib.axes._subplots.AxesSubplot at 0x19841765808>"
      ]
     },
     "execution_count": 42,
     "metadata": {},
     "output_type": "execute_result"
    },
    {
     "data": {
      "image/png": "[encoded data removed]",
      "text/plain": [
       "<Figure size 432x288 with 1 Axes>"
      ]
     },
     "metadata": {
      "needs_background": "light"
     },
     "output_type": "display_data"
    }
   ],
   "source": [
    "# Could be any column\n",
    "bySeason['Dialogue'].plot()"
   ]
  },
  {
   "cell_type": "markdown",
   "metadata": {},
   "source": [
    "\n",
    "# Now see if we can use seaborn's lmplot() to create a linear fit on the number of lines per season. "
   ]
  },
  {
   "cell_type": "code",
   "execution_count": 77,
   "metadata": {},
   "outputs": [
    {
     "data": {
      "text/plain": [
       "<seaborn.axisgrid.FacetGrid at 0x1983f5ecb08>"
      ]
     },
     "execution_count": 77,
     "metadata": {},
     "output_type": "execute_result"
    },
    {
     "data": {
      "image/png": "[encoded data removed]",
      "text/plain": [
       "<Figure size 360x360 with 1 Axes>"
      ]
     },
     "metadata": {
      "needs_background": "light"
     },
     "output_type": "display_data"
    }
   ],
   "source": [
    "#need to reset the index to a column. \n",
    "sns.lmplot(x='Season',y='Dialogue',data=bySeason.reset_index())"
   ]
  },
  {
   "cell_type": "markdown",
   "metadata": {},
   "source": [
    "# heatmap"
   ]
  },
  {
   "cell_type": "code",
   "execution_count": 49,
   "metadata": {},
   "outputs": [
    {
     "data": {
      "text/plain": [
       "array(['01', '02', '03', '04', '05', '06', '07', '08', '09', '10', '11',\n",
       "       '12', '13', '14', '15', '16', '17', '18', '19', '20', '21', '22',\n",
       "       '23', '24', '25', '23-24', '17-18'], dtype=object)"
      ]
     },
     "execution_count": 49,
     "metadata": {},
     "output_type": "execute_result"
    }
   ],
   "source": [
    "df['Episode'].unique()"
   ]
  },
  {
   "cell_type": "code",
   "execution_count": 52,
   "metadata": {},
   "outputs": [],
   "source": [
    "df['Episode'] = df['Episode'].replace('23-24', '23')\n",
    "df['Episode'] = df['Episode'].replace('17-18', '17')"
   ]
  },
  {
   "cell_type": "code",
   "execution_count": 63,
   "metadata": {
    "scrolled": true
   },
   "outputs": [
    {
     "data": {
      "text/html": [
       "<div>\n",
       "<style scoped>\n",
       "    .dataframe tbody tr th:only-of-type {\n",
       "        vertical-align: middle;\n",
       "    }\n",
       "\n",
       "    .dataframe tbody tr th {\n",
       "        vertical-align: top;\n",
       "    }\n",
       "\n",
       "    .dataframe thead th {\n",
       "        text-align: right;\n",
       "    }\n",
       "</style>\n",
       "<table border=\"1\" class=\"dataframe\">\n",
       "  <thead>\n",
       "    <tr style=\"text-align: right;\">\n",
       "      <th>Episode</th>\n",
       "      <th>01</th>\n",
       "      <th>02</th>\n",
       "      <th>03</th>\n",
       "      <th>04</th>\n",
       "      <th>05</th>\n",
       "      <th>06</th>\n",
       "      <th>07</th>\n",
       "      <th>08</th>\n",
       "      <th>09</th>\n",
       "      <th>10</th>\n",
       "      <th>...</th>\n",
       "      <th>16</th>\n",
       "      <th>17</th>\n",
       "      <th>18</th>\n",
       "      <th>19</th>\n",
       "      <th>20</th>\n",
       "      <th>21</th>\n",
       "      <th>22</th>\n",
       "      <th>23</th>\n",
       "      <th>24</th>\n",
       "      <th>25</th>\n",
       "    </tr>\n",
       "    <tr>\n",
       "      <th>Season</th>\n",
       "      <th></th>\n",
       "      <th></th>\n",
       "      <th></th>\n",
       "      <th></th>\n",
       "      <th></th>\n",
       "      <th></th>\n",
       "      <th></th>\n",
       "      <th></th>\n",
       "      <th></th>\n",
       "      <th></th>\n",
       "      <th></th>\n",
       "      <th></th>\n",
       "      <th></th>\n",
       "      <th></th>\n",
       "      <th></th>\n",
       "      <th></th>\n",
       "      <th></th>\n",
       "      <th></th>\n",
       "      <th></th>\n",
       "      <th></th>\n",
       "      <th></th>\n",
       "    </tr>\n",
       "  </thead>\n",
       "  <tbody>\n",
       "    <tr>\n",
       "      <th>1</th>\n",
       "      <td>300.0</td>\n",
       "      <td>243.0</td>\n",
       "      <td>258.0</td>\n",
       "      <td>252.0</td>\n",
       "      <td>238.0</td>\n",
       "      <td>220.0</td>\n",
       "      <td>231.0</td>\n",
       "      <td>234.0</td>\n",
       "      <td>227.0</td>\n",
       "      <td>233.0</td>\n",
       "      <td>...</td>\n",
       "      <td>271.0</td>\n",
       "      <td>282.0</td>\n",
       "      <td>276.0</td>\n",
       "      <td>244.0</td>\n",
       "      <td>244.0</td>\n",
       "      <td>211.0</td>\n",
       "      <td>277.0</td>\n",
       "      <td>268.0</td>\n",
       "      <td>258.0</td>\n",
       "      <td>0.0</td>\n",
       "    </tr>\n",
       "    <tr>\n",
       "      <th>2</th>\n",
       "      <td>218.0</td>\n",
       "      <td>203.0</td>\n",
       "      <td>198.0</td>\n",
       "      <td>214.0</td>\n",
       "      <td>278.0</td>\n",
       "      <td>226.0</td>\n",
       "      <td>209.0</td>\n",
       "      <td>213.0</td>\n",
       "      <td>242.0</td>\n",
       "      <td>296.0</td>\n",
       "      <td>...</td>\n",
       "      <td>272.0</td>\n",
       "      <td>235.0</td>\n",
       "      <td>247.0</td>\n",
       "      <td>265.0</td>\n",
       "      <td>287.0</td>\n",
       "      <td>289.0</td>\n",
       "      <td>227.0</td>\n",
       "      <td>247.0</td>\n",
       "      <td>201.0</td>\n",
       "      <td>0.0</td>\n",
       "    </tr>\n",
       "    <tr>\n",
       "      <th>3</th>\n",
       "      <td>241.0</td>\n",
       "      <td>285.0</td>\n",
       "      <td>233.0</td>\n",
       "      <td>236.0</td>\n",
       "      <td>278.0</td>\n",
       "      <td>248.0</td>\n",
       "      <td>238.0</td>\n",
       "      <td>236.0</td>\n",
       "      <td>289.0</td>\n",
       "      <td>219.0</td>\n",
       "      <td>...</td>\n",
       "      <td>283.0</td>\n",
       "      <td>294.0</td>\n",
       "      <td>241.0</td>\n",
       "      <td>237.0</td>\n",
       "      <td>271.0</td>\n",
       "      <td>332.0</td>\n",
       "      <td>275.0</td>\n",
       "      <td>252.0</td>\n",
       "      <td>247.0</td>\n",
       "      <td>288.0</td>\n",
       "    </tr>\n",
       "    <tr>\n",
       "      <th>4</th>\n",
       "      <td>219.0</td>\n",
       "      <td>226.0</td>\n",
       "      <td>239.0</td>\n",
       "      <td>239.0</td>\n",
       "      <td>237.0</td>\n",
       "      <td>248.0</td>\n",
       "      <td>237.0</td>\n",
       "      <td>269.0</td>\n",
       "      <td>261.0</td>\n",
       "      <td>223.0</td>\n",
       "      <td>...</td>\n",
       "      <td>256.0</td>\n",
       "      <td>256.0</td>\n",
       "      <td>251.0</td>\n",
       "      <td>273.0</td>\n",
       "      <td>258.0</td>\n",
       "      <td>250.0</td>\n",
       "      <td>255.0</td>\n",
       "      <td>261.0</td>\n",
       "      <td>228.0</td>\n",
       "      <td>0.0</td>\n",
       "    </tr>\n",
       "    <tr>\n",
       "      <th>5</th>\n",
       "      <td>261.0</td>\n",
       "      <td>244.0</td>\n",
       "      <td>252.0</td>\n",
       "      <td>217.0</td>\n",
       "      <td>255.0</td>\n",
       "      <td>229.0</td>\n",
       "      <td>269.0</td>\n",
       "      <td>247.0</td>\n",
       "      <td>238.0</td>\n",
       "      <td>261.0</td>\n",
       "      <td>...</td>\n",
       "      <td>266.0</td>\n",
       "      <td>223.0</td>\n",
       "      <td>280.0</td>\n",
       "      <td>302.0</td>\n",
       "      <td>256.0</td>\n",
       "      <td>311.0</td>\n",
       "      <td>336.0</td>\n",
       "      <td>273.0</td>\n",
       "      <td>250.0</td>\n",
       "      <td>0.0</td>\n",
       "    </tr>\n",
       "    <tr>\n",
       "      <th>6</th>\n",
       "      <td>252.0</td>\n",
       "      <td>242.0</td>\n",
       "      <td>246.0</td>\n",
       "      <td>245.0</td>\n",
       "      <td>240.0</td>\n",
       "      <td>255.0</td>\n",
       "      <td>245.0</td>\n",
       "      <td>251.0</td>\n",
       "      <td>253.0</td>\n",
       "      <td>230.0</td>\n",
       "      <td>...</td>\n",
       "      <td>269.0</td>\n",
       "      <td>230.0</td>\n",
       "      <td>278.0</td>\n",
       "      <td>312.0</td>\n",
       "      <td>239.0</td>\n",
       "      <td>280.0</td>\n",
       "      <td>257.0</td>\n",
       "      <td>259.0</td>\n",
       "      <td>304.0</td>\n",
       "      <td>246.0</td>\n",
       "    </tr>\n",
       "    <tr>\n",
       "      <th>7</th>\n",
       "      <td>263.0</td>\n",
       "      <td>227.0</td>\n",
       "      <td>260.0</td>\n",
       "      <td>270.0</td>\n",
       "      <td>283.0</td>\n",
       "      <td>251.0</td>\n",
       "      <td>257.0</td>\n",
       "      <td>255.0</td>\n",
       "      <td>255.0</td>\n",
       "      <td>250.0</td>\n",
       "      <td>...</td>\n",
       "      <td>359.0</td>\n",
       "      <td>281.0</td>\n",
       "      <td>219.0</td>\n",
       "      <td>256.0</td>\n",
       "      <td>259.0</td>\n",
       "      <td>256.0</td>\n",
       "      <td>271.0</td>\n",
       "      <td>253.0</td>\n",
       "      <td>257.0</td>\n",
       "      <td>0.0</td>\n",
       "    </tr>\n",
       "    <tr>\n",
       "      <th>8</th>\n",
       "      <td>280.0</td>\n",
       "      <td>271.0</td>\n",
       "      <td>276.0</td>\n",
       "      <td>268.0</td>\n",
       "      <td>300.0</td>\n",
       "      <td>295.0</td>\n",
       "      <td>268.0</td>\n",
       "      <td>260.0</td>\n",
       "      <td>271.0</td>\n",
       "      <td>275.0</td>\n",
       "      <td>...</td>\n",
       "      <td>225.0</td>\n",
       "      <td>223.0</td>\n",
       "      <td>235.0</td>\n",
       "      <td>238.0</td>\n",
       "      <td>292.0</td>\n",
       "      <td>266.0</td>\n",
       "      <td>233.0</td>\n",
       "      <td>309.0</td>\n",
       "      <td>217.0</td>\n",
       "      <td>0.0</td>\n",
       "    </tr>\n",
       "    <tr>\n",
       "      <th>9</th>\n",
       "      <td>286.0</td>\n",
       "      <td>257.0</td>\n",
       "      <td>272.0</td>\n",
       "      <td>201.0</td>\n",
       "      <td>252.0</td>\n",
       "      <td>317.0</td>\n",
       "      <td>219.0</td>\n",
       "      <td>281.0</td>\n",
       "      <td>274.0</td>\n",
       "      <td>282.0</td>\n",
       "      <td>...</td>\n",
       "      <td>246.0</td>\n",
       "      <td>259.0</td>\n",
       "      <td>289.0</td>\n",
       "      <td>267.0</td>\n",
       "      <td>296.0</td>\n",
       "      <td>278.0</td>\n",
       "      <td>302.0</td>\n",
       "      <td>596.0</td>\n",
       "      <td>0.0</td>\n",
       "      <td>0.0</td>\n",
       "    </tr>\n",
       "    <tr>\n",
       "      <th>10</th>\n",
       "      <td>346.0</td>\n",
       "      <td>251.0</td>\n",
       "      <td>260.0</td>\n",
       "      <td>275.0</td>\n",
       "      <td>333.0</td>\n",
       "      <td>302.0</td>\n",
       "      <td>276.0</td>\n",
       "      <td>329.0</td>\n",
       "      <td>271.0</td>\n",
       "      <td>288.0</td>\n",
       "      <td>...</td>\n",
       "      <td>262.0</td>\n",
       "      <td>584.0</td>\n",
       "      <td>0.0</td>\n",
       "      <td>0.0</td>\n",
       "      <td>0.0</td>\n",
       "      <td>0.0</td>\n",
       "      <td>0.0</td>\n",
       "      <td>0.0</td>\n",
       "      <td>0.0</td>\n",
       "      <td>0.0</td>\n",
       "    </tr>\n",
       "  </tbody>\n",
       "</table>\n",
       "<p>10 rows × 25 columns</p>\n",
       "</div>"
      ],
      "text/plain": [
       "Episode     01     02     03     04     05     06     07     08     09     10  \\\n",
       "Season                                                                          \n",
       "1        300.0  243.0  258.0  252.0  238.0  220.0  231.0  234.0  227.0  233.0   \n",
       "2        218.0  203.0  198.0  214.0  278.0  226.0  209.0  213.0  242.0  296.0   \n",
       "3        241.0  285.0  233.0  236.0  278.0  248.0  238.0  236.0  289.0  219.0   \n",
       "4        219.0  226.0  239.0  239.0  237.0  248.0  237.0  269.0  261.0  223.0   \n",
       "5        261.0  244.0  252.0  217.0  255.0  229.0  269.0  247.0  238.0  261.0   \n",
       "6        252.0  242.0  246.0  245.0  240.0  255.0  245.0  251.0  253.0  230.0   \n",
       "7        263.0  227.0  260.0  270.0  283.0  251.0  257.0  255.0  255.0  250.0   \n",
       "8        280.0  271.0  276.0  268.0  300.0  295.0  268.0  260.0  271.0  275.0   \n",
       "9        286.0  257.0  272.0  201.0  252.0  317.0  219.0  281.0  274.0  282.0   \n",
       "10       346.0  251.0  260.0  275.0  333.0  302.0  276.0  329.0  271.0  288.0   \n",
       "\n",
       "Episode  ...     16     17     18     19     20     21     22     23     24  \\\n",
       "Season   ...                                                                  \n",
       "1        ...  271.0  282.0  276.0  244.0  244.0  211.0  277.0  268.0  258.0   \n",
       "2        ...  272.0  235.0  247.0  265.0  287.0  289.0  227.0  247.0  201.0   \n",
       "3        ...  283.0  294.0  241.0  237.0  271.0  332.0  275.0  252.0  247.0   \n",
       "4        ...  256.0  256.0  251.0  273.0  258.0  250.0  255.0  261.0  228.0   \n",
       "5        ...  266.0  223.0  280.0  302.0  256.0  311.0  336.0  273.0  250.0   \n",
       "6        ...  269.0  230.0  278.0  312.0  239.0  280.0  257.0  259.0  304.0   \n",
       "7        ...  359.0  281.0  219.0  256.0  259.0  256.0  271.0  253.0  257.0   \n",
       "8        ...  225.0  223.0  235.0  238.0  292.0  266.0  233.0  309.0  217.0   \n",
       "9        ...  246.0  259.0  289.0  267.0  296.0  278.0  302.0  596.0    0.0   \n",
       "10       ...  262.0  584.0    0.0    0.0    0.0    0.0    0.0    0.0    0.0   \n",
       "\n",
       "Episode     25  \n",
       "Season          \n",
       "1          0.0  \n",
       "2          0.0  \n",
       "3        288.0  \n",
       "4          0.0  \n",
       "5          0.0  \n",
       "6        246.0  \n",
       "7          0.0  \n",
       "8          0.0  \n",
       "9          0.0  \n",
       "10         0.0  \n",
       "\n",
       "[10 rows x 25 columns]"
      ]
     },
     "execution_count": 63,
     "metadata": {},
     "output_type": "execute_result"
    }
   ],
   "source": [
    "SeasonEpisode = df.groupby(by=['Season','Episode']).count()['Dialogue'].unstack().fillna(0)\n",
    "SeasonEpisode.head(10)"
   ]
  },
  {
   "cell_type": "markdown",
   "metadata": {},
   "source": [
    "** Now create a HeatMap using this new DataFrame. **"
   ]
  },
  {
   "cell_type": "code",
   "execution_count": 64,
   "metadata": {},
   "outputs": [
    {
     "data": {
      "text/plain": [
       "<matplotlib.axes._subplots.AxesSubplot at 0x19841420348>"
      ]
     },
     "execution_count": 64,
     "metadata": {},
     "output_type": "execute_result"
    },
    {
     "data": {
      "image/png": "[encoded data removed]",
      "text/plain": [
       "<Figure size 864x432 with 2 Axes>"
      ]
     },
     "metadata": {
      "needs_background": "light"
     },
     "output_type": "display_data"
    }
   ],
   "source": [
    "plt.figure(figsize=(12,6))\n",
    "sns.heatmap(SeasonEpisode,cmap='viridis')"
   ]
  },
  {
   "cell_type": "markdown",
   "metadata": {},
   "source": [
    "** Now create a clustermap using this DataFrame. **"
   ]
  },
  {
   "cell_type": "code",
   "execution_count": 65,
   "metadata": {},
   "outputs": [
    {
     "data": {
      "text/plain": [
       "<seaborn.matrix.ClusterGrid at 0x1984113d5c8>"
      ]
     },
     "execution_count": 65,
     "metadata": {},
     "output_type": "execute_result"
    },
    {
     "data": {
      "image/png": "[encoded data removed]",
      "text/plain": [
       "<Figure size 720x720 with 4 Axes>"
      ]
     },
     "metadata": {
      "needs_background": "light"
     },
     "output_type": "display_data"
    }
   ],
   "source": [
    "sns.clustermap(SeasonEpisode,cmap='viridis')"
   ]
  },
  {
   "cell_type": "markdown",
   "metadata": {
    "collapsed": true
   },
   "source": []
  }
 ],
 "metadata": {
  "kernelspec": {
   "display_name": "Python 3",
   "language": "python",
   "name": "python3"
  },
  "language_info": {
   "codemirror_mode": {
    "name": "ipython",
    "version": 3
   },
   "file_extension": ".py",
   "mimetype": "text/x-python",
   "name": "python",
   "nbconvert_exporter": "python",
   "pygments_lexer": "ipython3",
   "version": "3.7.6"
  }
 },
 "nbformat": 4,
 "nbformat_minor": 1
}
