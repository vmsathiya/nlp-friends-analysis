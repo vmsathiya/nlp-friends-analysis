{
 "cells": [
  {
   "cell_type": "markdown",
   "metadata": {},
   "source": [
    "## FRIENDS Data Analysis"
   ]
  },
  {
   "cell_type": "markdown",
   "metadata": {},
   "source": [
    "____\n",
    "** Import numpy and pandas **"
   ]
  },
  {
   "cell_type": "code",
   "execution_count": null,
   "metadata": {},
   "outputs": [],
   "source": [
    "import pandas as pd\n",
    "import numpy as np"
   ]
  },
  {
   "cell_type": "markdown",
   "metadata": {},
   "source": [
    "** Import visualization libraries and set %matplotlib inline. **"
   ]
  },
  {
   "cell_type": "code",
   "execution_count": null,
   "metadata": {},
   "outputs": [],
   "source": [
    "import matplotlib.pyplot as plt\n",
    "import seaborn as sns\n",
    "sns.set_style('whitegrid')\n",
    "%matplotlib inline"
   ]
  },
  {
   "cell_type": "markdown",
   "metadata": {},
   "source": [
    "** Read in the csv file as a dataframe called df **"
   ]
  },
  {
   "cell_type": "code",
   "execution_count": null,
   "metadata": {},
   "outputs": [],
   "source": [
    "\n",
    "df = pd.read_csv('../dataset/friends_dataset_allseasons.csv',sep='\\t')\n",
    "df['Location'] = df['Location'].replace('the hallway', 'The Hallway')"
   ]
  },
  {
   "cell_type": "markdown",
   "metadata": {},
   "source": [
    "\n",
    "** Check the info() of the df **"
   ]
  },
  {
   "cell_type": "code",
   "execution_count": null,
   "metadata": {},
   "outputs": [],
   "source": [
    "df.info()"
   ]
  },
  {
   "cell_type": "markdown",
   "metadata": {},
   "source": [
    "** Check the head of df **"
   ]
  },
  {
   "cell_type": "code",
   "execution_count": null,
   "metadata": {},
   "outputs": [],
   "source": [
    "df.head(5)"
   ]
  },
  {
   "cell_type": "markdown",
   "metadata": {},
   "source": [
    "## Basic Questions"
   ]
  },
  {
   "cell_type": "markdown",
   "metadata": {},
   "source": [
    "** What are the top 6 Lead Charactes? **"
   ]
  },
  {
   "cell_type": "code",
   "execution_count": null,
   "metadata": {},
   "outputs": [],
   "source": [
    "df['Character'].value_counts().head(6)"
   ]
  },
  {
   "cell_type": "markdown",
   "metadata": {},
   "source": [
    "** What are the top 5 supporting characters? **\n"
   ]
  },
  {
   "cell_type": "code",
   "execution_count": null,
   "metadata": {},
   "outputs": [],
   "source": [
    "#Ignoring Character == 'All'\n",
    "df_new = df[df['Character'] != 'All']\n",
    "df_new['Character'].value_counts().head(12).tail(6)"
   ]
  },
  {
   "cell_type": "markdown",
   "metadata": {},
   "source": [
    "** What are the top 5 set(Location)? **"
   ]
  },
  {
   "cell_type": "code",
   "execution_count": null,
   "metadata": {},
   "outputs": [],
   "source": [
    "df['Location'].value_counts().head(6)"
   ]
  },
  {
   "cell_type": "markdown",
   "metadata": {},
   "source": []
  },
  {
   "cell_type": "markdown",
   "metadata": {},
   "source": [
    "# Total number of lines by each lead characters"
   ]
  },
  {
   "cell_type": "code",
   "execution_count": null,
   "metadata": {
    "scrolled": true
   },
   "outputs": [],
   "source": [
    "df_leadcharacters=df[(df['Character'] == 'Chandler') | (df['Character'] == 'Ross') | (df['Character'] == 'Joey')  |(df['Character'] == 'Monica') | (df['Character'] == 'Rachel') | (df['Character'] == 'Phoebe')      ]\n",
    "sns.countplot(x='Character',data=df_leadcharacters)"
   ]
  },
  {
   "cell_type": "markdown",
   "metadata": {},
   "source": [
    "Findings: Ross and Rachel had more lines(Dialogues) than anyone else.\n",
    "          Rachel and Ross both had 9k+ lines. This was really close. While Phoebe had the least number of lines, 7.5k. "
   ]
  },
  {
   "cell_type": "markdown",
   "metadata": {},
   "source": [
    "# Total number of lines by supporting characters"
   ]
  },
  {
   "cell_type": "markdown",
   "metadata": {},
   "source": [
    "** Now use seaborn to create a countplot Friends by Supporting Characters. **\n",
    "Mike          360\n",
    "Richard       254\n",
    "Mr. Geller    231\n",
    "Janice        219\n",
    "Carol         205\n",
    "Charlie       190"
   ]
  },
  {
   "cell_type": "code",
   "execution_count": null,
   "metadata": {
    "scrolled": true
   },
   "outputs": [],
   "source": [
    "df_supporingcharacters=df[(df['Character'] == 'Mike') | (df['Character'] == 'Richard') | (df['Character'] == 'Mr. Geller')  |(df['Character'] == 'Janice') | (df['Character'] == 'Carol') | (df['Character'] == 'Charlie')      ]\n",
    "sns.countplot(x='Character',data=df_supporingcharacters)"
   ]
  },
  {
   "cell_type": "code",
   "execution_count": null,
   "metadata": {},
   "outputs": [],
   "source": [
    "Findings: Despite 'Gunther' appeared in most number of sean. Interestingly Mike and Richard had the most number of Lines (Dialogue)."
   ]
  },
  {
   "cell_type": "markdown",
   "metadata": {},
   "source": [
    "# The Main Set (Location)"
   ]
  },
  {
   "cell_type": "markdown",
   "metadata": {},
   "source": [
    "** Now use seaborn to create a countplot Friends by Location. **\n",
    "Monica's Apartment               18561\n",
    "Central Perk                     10896\n",
    "Chandler and Joey's Apartment     7188\n",
    "Ross's Apartment                  1228\n",
    "The Hallway                        692\n",
    "Ross and Rachel's Apartment        599"
   ]
  },
  {
   "cell_type": "code",
   "execution_count": null,
   "metadata": {},
   "outputs": [],
   "source": [
    "df_locations=df[(df['Location'] == \"Monica's Apartment\") | (df['Location'] == \"Central Perk\") | (df['Location'] == \"Chandler and Joey's Apartment\")  |(df['Location'] == \"Ross's Apartment\") | (df['Location'] == 'The Hallway') | (df['Location'] == \"Ross and Rachel's Apartment\")  ]\n",
    "sns.countplot(x='Location',data=df_locations)"
   ]
  },
  {
   "cell_type": "markdown",
   "metadata": {},
   "source": [
    "Findings: The main set for Friends was Monica's Apartment then 'Central Perk'"
   ]
  },
  {
   "cell_type": "markdown",
   "metadata": {},
   "source": [
    "# Total Number of Lines by each lead characters at Central Perk"
   ]
  },
  {
   "cell_type": "code",
   "execution_count": null,
   "metadata": {
    "scrolled": true
   },
   "outputs": [],
   "source": [
    "df_linesat_centralperkt=df[((df['Character'] == 'Chandler') | (df['Character'] == 'Ross') | (df['Character'] == 'Joey')  |(df['Character'] == 'Monica') | (df['Character'] == 'Rachel') | (df['Character'] == 'Phoebe')) & (df['Location'] == \"Central Perk\")]\n",
    "sns.countplot(x='Character',data=df_linesat_centralperkt)"
   ]
  },
  {
   "cell_type": "code",
   "execution_count": null,
   "metadata": {},
   "outputs": [],
   "source": [
    "Findings: Phoebe had the most number of lines in 'Central Perk' followed by Ross and then Rachel."
   ]
  },
  {
   "cell_type": "markdown",
   "metadata": {},
   "source": [
    "# Total Number of Lines by each lead characters at Monica's Apartment\n"
   ]
  },
  {
   "cell_type": "code",
   "execution_count": null,
   "metadata": {},
   "outputs": [],
   "source": [
    "df_linesat_monicaspartment=df[((df['Character'] == 'Chandler') | (df['Character'] == 'Ross') | (df['Character'] == 'Joey')  |(df['Character'] == 'Monica') | (df['Character'] == 'Rachel') | (df['Character'] == 'Phoebe')) & (df['Location'] == \"Monica's Apartment\")]\n",
    "sns.countplot(x='Character',data=df_linesat_monicaspartment)"
   ]
  },
  {
   "cell_type": "code",
   "execution_count": null,
   "metadata": {},
   "outputs": [],
   "source": [
    "Findings: Of course, no surprises here. Monica had the most number of lines in her apartment followed by Chandler and then Rachel."
   ]
  },
  {
   "cell_type": "markdown",
   "metadata": {},
   "source": [
    "# Total number of lines by each lead characters in each season"
   ]
  },
  {
   "cell_type": "markdown",
   "metadata": {},
   "source": [
    "** Now use seaborn to create a countplot of the Season column with the hue based off of the Character column. **"
   ]
  },
  {
   "cell_type": "code",
   "execution_count": null,
   "metadata": {},
   "outputs": [],
   "source": [
    "sns.countplot(x='Season',data=df_leadcharacters,hue='Character',palette='viridis')\n",
    "\n",
    "# To relocate the legend\n",
    "plt.legend(bbox_to_anchor=(1.05, 1), loc=2, borderaxespad=0.)"
   ]
  },
  {
   "cell_type": "markdown",
   "metadata": {},
   "source": [
    "# Total number of lines by each lead characters in each set"
   ]
  },
  {
   "cell_type": "code",
   "execution_count": null,
   "metadata": {},
   "outputs": [],
   "source": [
    "sns.countplot(x='Season',data=df_locations,hue='Location',palette='viridis')\n",
    "\n",
    "# To relocate the legend\n",
    "plt.legend(bbox_to_anchor=(1.05, 1), loc=2, borderaxespad=0.)"
   ]
  },
  {
   "cell_type": "markdown",
   "metadata": {},
   "source": [
    "** Now create a gropuby object called bySeason, where you group the DataFrame by the Seasib column and use the count() method for aggregation. Use the head() method on this returned DataFrame. **"
   ]
  },
  {
   "cell_type": "code",
   "execution_count": null,
   "metadata": {},
   "outputs": [],
   "source": [
    "bySeason = df.groupby('Season').count()\n",
    "bySeason.head(10)"
   ]
  },
  {
   "cell_type": "markdown",
   "metadata": {},
   "source": [
    "# creating a simple plot off of the dataframe indicating the no. of lines(Dialogue) per season. "
   ]
  },
  {
   "cell_type": "code",
   "execution_count": null,
   "metadata": {},
   "outputs": [],
   "source": [
    "# Could be any column\n",
    "bySeason['Dialogue'].plot()"
   ]
  },
  {
   "cell_type": "markdown",
   "metadata": {},
   "source": [
    "\n",
    "# Now see if we can use seaborn's lmplot() to create a linear fit on the number of lines per season. "
   ]
  },
  {
   "cell_type": "code",
   "execution_count": null,
   "metadata": {},
   "outputs": [],
   "source": [
    "#need to reset the index to a column. \n",
    "sns.lmplot(x='Season',y='Dialogue',data=bySeason.reset_index())"
   ]
  },
  {
   "cell_type": "markdown",
   "metadata": {},
   "source": [
    "# heatmap"
   ]
  },
  {
   "cell_type": "code",
   "execution_count": null,
   "metadata": {},
   "outputs": [],
   "source": [
    "df['Episode'].unique()"
   ]
  },
  {
   "cell_type": "code",
   "execution_count": null,
   "metadata": {},
   "outputs": [],
   "source": [
    "df['Episode'] = df['Episode'].replace('23-24', '23')\n",
    "df['Episode'] = df['Episode'].replace('17-18', '17')"
   ]
  },
  {
   "cell_type": "code",
   "execution_count": null,
   "metadata": {
    "scrolled": true
   },
   "outputs": [],
   "source": [
    "SeasonEpisode = df.groupby(by=['Season','Episode']).count()['Dialogue'].unstack().fillna(0)\n",
    "SeasonEpisode.head(10)"
   ]
  },
  {
   "cell_type": "markdown",
   "metadata": {},
   "source": [
    "** Now create a HeatMap using this new DataFrame. **"
   ]
  },
  {
   "cell_type": "code",
   "execution_count": null,
   "metadata": {},
   "outputs": [],
   "source": [
    "plt.figure(figsize=(12,6))\n",
    "sns.heatmap(SeasonEpisode,cmap='viridis')"
   ]
  },
  {
   "cell_type": "markdown",
   "metadata": {},
   "source": [
    "** Now create a clustermap using this DataFrame. **"
   ]
  },
  {
   "cell_type": "code",
   "execution_count": null,
   "metadata": {},
   "outputs": [],
   "source": [
    "sns.clustermap(SeasonEpisode,cmap='viridis')"
   ]
  },
  {
   "cell_type": "code",
   "execution_count": null,
   "metadata": {},
   "outputs": [],
   "source": []
  },
  {
   "cell_type": "code",
   "execution_count": null,
   "metadata": {},
   "outputs": [],
   "source": []
  },
  {
   "cell_type": "code",
   "execution_count": null,
   "metadata": {},
   "outputs": [],
   "source": [
    "df_leadcharacters.groupby('Character').describe()"
   ]
  },
  {
   "cell_type": "code",
   "execution_count": null,
   "metadata": {},
   "outputs": [],
   "source": [
    "df_leadcharacters['Lengthofdialogue'] = df_leadcharacters['Dialogue'].apply(len)\n",
    "df_leadcharacters.head(2)"
   ]
  },
  {
   "cell_type": "code",
   "execution_count": null,
   "metadata": {},
   "outputs": [],
   "source": [
    "df_leadcharacters['Lengthofdialogue'].plot.hist(bins=100)"
   ]
  },
  {
   "cell_type": "code",
   "execution_count": null,
   "metadata": {},
   "outputs": [],
   "source": [
    "df_leadcharacters.hist(column='Lengthofdialogue',by=\"Character\",bins=200,figsize=(12,4))"
   ]
  },
  {
   "cell_type": "code",
   "execution_count": null,
   "metadata": {},
   "outputs": [],
   "source": []
  },
  {
   "cell_type": "markdown",
   "metadata": {},
   "source": [
    "Findings: As expected Rachel has long line\n",
    "\n",
    "    "
   ]
  },
  {
   "cell_type": "markdown",
   "metadata": {},
   "source": [
    "## Most common word - find these and create word clouds"
   ]
  },
  {
   "cell_type": "code",
   "execution_count": 378,
   "metadata": {},
   "outputs": [
    {
     "name": "stderr",
     "output_type": "stream",
     "text": [
      "[nltk_data] Downloading package stopwords to\n",
      "[nltk_data]     C:\\Users\\admin\\AppData\\Roaming\\nltk_data...\n",
      "[nltk_data]   Package stopwords is already up-to-date!\n"
     ]
    },
    {
     "data": {
      "text/plain": [
       "True"
      ]
     },
     "execution_count": 378,
     "metadata": {},
     "output_type": "execute_result"
    }
   ],
   "source": [
    "import nltk\n",
    "nltk.download('stopwords')"
   ]
  },
  {
   "cell_type": "code",
   "execution_count": 379,
   "metadata": {},
   "outputs": [
    {
     "data": {
      "text/plain": [
       "['i', 'me', 'my', 'myself', 'we', 'our', 'ours', 'ourselves', 'you', \"you're\"]"
      ]
     },
     "execution_count": 379,
     "metadata": {},
     "output_type": "execute_result"
    }
   ],
   "source": [
    "from nltk.corpus import stopwords\n",
    "stopwords.words('english')[0:10] # Show some stop words"
   ]
  },
  {
   "cell_type": "code",
   "execution_count": null,
   "metadata": {},
   "outputs": [],
   "source": []
  },
  {
   "cell_type": "code",
   "execution_count": 380,
   "metadata": {},
   "outputs": [],
   "source": [
    "# Apply a first round of text cleaning techniques\n",
    "import re\n",
    "import string\n",
    "from nltk.stem import PorterStemmer\n",
    "\n",
    "#create an object of class PorterStemmer\n",
    "porter = PorterStemmer()\n",
    "\n",
    "def clean_text_round1(text):\n",
    "    '''Make text lowercase, remove text in square brackets, remove punctuation and remove words containing numbers.'''\n",
    "    text = text.lower()\n",
    "    text = re.sub('\\[[^\\]*]\\]', '', text)\n",
    "    text = re.sub('[%s]' % re.escape(string.punctuation), '', text)\n",
    "    #text = re.sub('[!\"#$%&\\'()*+,-./:;<=>?@[\\]\\\\\\^_{|}~`]','',text) \n",
    "    text = re.sub('\\w*\\d\\w*', '', text)\n",
    "    text = porter.stem(text)\n",
    "    # Now just remove any stopwords\n",
    "    return ' '.join([word for word in text.split() if word.lower() not in stopwords.words('english')])\n",
    "    #return text\n",
    "\n",
    "round1 = lambda x: clean_text_round1(x)"
   ]
  },
  {
   "cell_type": "code",
   "execution_count": 381,
   "metadata": {},
   "outputs": [
    {
     "name": "stdout",
     "output_type": "stream",
     "text": [
      "test testing tested test\n"
     ]
    }
   ],
   "source": [
    "#testing the function\n",
    "print (round1(\"test testing tested will test !@#$% 4353\"))"
   ]
  },
  {
   "cell_type": "code",
   "execution_count": 382,
   "metadata": {
    "scrolled": true
   },
   "outputs": [
    {
     "data": {
      "text/html": [
       "<div>\n",
       "<style scoped>\n",
       "    .dataframe tbody tr th:only-of-type {\n",
       "        vertical-align: middle;\n",
       "    }\n",
       "\n",
       "    .dataframe tbody tr th {\n",
       "        vertical-align: top;\n",
       "    }\n",
       "\n",
       "    .dataframe thead th {\n",
       "        text-align: right;\n",
       "    }\n",
       "</style>\n",
       "<table border=\"1\" class=\"dataframe\">\n",
       "  <thead>\n",
       "    <tr style=\"text-align: right;\">\n",
       "      <th></th>\n",
       "      <th>Character</th>\n",
       "      <th>Dialogue</th>\n",
       "    </tr>\n",
       "  </thead>\n",
       "  <tbody>\n",
       "    <tr>\n",
       "      <th>0</th>\n",
       "      <td>Monica</td>\n",
       "      <td>There's nothing to tell! He's just some guy I work with!</td>\n",
       "    </tr>\n",
       "    <tr>\n",
       "      <th>1</th>\n",
       "      <td>Joey</td>\n",
       "      <td>C'mon, you're going out with the guy! There's gotta be something wrong with him!</td>\n",
       "    </tr>\n",
       "    <tr>\n",
       "      <th>2</th>\n",
       "      <td>Chandler</td>\n",
       "      <td>All right Joey, be nice.  So does he have a hump? A hump and a hairpiece</td>\n",
       "    </tr>\n",
       "    <tr>\n",
       "      <th>3</th>\n",
       "      <td>Phoebe</td>\n",
       "      <td>Wait, does he eat chalk</td>\n",
       "    </tr>\n",
       "    <tr>\n",
       "      <th>4</th>\n",
       "      <td>Phoebe</td>\n",
       "      <td>Just, 'cause, I don't want her to go through what I went through with Carl- oh!</td>\n",
       "    </tr>\n",
       "  </tbody>\n",
       "</table>\n",
       "</div>"
      ],
      "text/plain": [
       "  Character  \\\n",
       "0    Monica   \n",
       "1      Joey   \n",
       "2  Chandler   \n",
       "3    Phoebe   \n",
       "4    Phoebe   \n",
       "\n",
       "                                                                           Dialogue  \n",
       "0                          There's nothing to tell! He's just some guy I work with!  \n",
       "1  C'mon, you're going out with the guy! There's gotta be something wrong with him!  \n",
       "2          All right Joey, be nice.  So does he have a hump? A hump and a hairpiece  \n",
       "3                                                           Wait, does he eat chalk  \n",
       "4   Just, 'cause, I don't want her to go through what I went through with Carl- oh!  "
      ]
     },
     "execution_count": 382,
     "metadata": {},
     "output_type": "execute_result"
    }
   ],
   "source": [
    "df_leadcharacters[['Character','Dialogue']].head(5)"
   ]
  },
  {
   "cell_type": "code",
   "execution_count": 383,
   "metadata": {},
   "outputs": [],
   "source": [
    "df_lcd = df_leadcharacters[['Character','Dialogue']]"
   ]
  },
  {
   "cell_type": "code",
   "execution_count": 384,
   "metadata": {},
   "outputs": [
    {
     "data": {
      "text/html": [
       "<div>\n",
       "<style scoped>\n",
       "    .dataframe tbody tr th:only-of-type {\n",
       "        vertical-align: middle;\n",
       "    }\n",
       "\n",
       "    .dataframe tbody tr th {\n",
       "        vertical-align: top;\n",
       "    }\n",
       "\n",
       "    .dataframe thead th {\n",
       "        text-align: right;\n",
       "    }\n",
       "</style>\n",
       "<table border=\"1\" class=\"dataframe\">\n",
       "  <thead>\n",
       "    <tr style=\"text-align: right;\">\n",
       "      <th></th>\n",
       "      <th>Character</th>\n",
       "      <th>Dialogue</th>\n",
       "    </tr>\n",
       "  </thead>\n",
       "  <tbody>\n",
       "    <tr>\n",
       "      <th>0</th>\n",
       "      <td>Monica</td>\n",
       "      <td>There's nothing to tell! He's just some guy I work with!</td>\n",
       "    </tr>\n",
       "    <tr>\n",
       "      <th>1</th>\n",
       "      <td>Joey</td>\n",
       "      <td>C'mon, you're going out with the guy! There's gotta be something wrong with him!</td>\n",
       "    </tr>\n",
       "    <tr>\n",
       "      <th>2</th>\n",
       "      <td>Chandler</td>\n",
       "      <td>All right Joey, be nice.  So does he have a hump? A hump and a hairpiece</td>\n",
       "    </tr>\n",
       "    <tr>\n",
       "      <th>3</th>\n",
       "      <td>Phoebe</td>\n",
       "      <td>Wait, does he eat chalk</td>\n",
       "    </tr>\n",
       "    <tr>\n",
       "      <th>4</th>\n",
       "      <td>Phoebe</td>\n",
       "      <td>Just, 'cause, I don't want her to go through what I went through with Carl- oh!</td>\n",
       "    </tr>\n",
       "    <tr>\n",
       "      <th>5</th>\n",
       "      <td>Monica</td>\n",
       "      <td>Okay, everybody relax. This is not even a date. It's just two people going out to dinner and- not having sex.</td>\n",
       "    </tr>\n",
       "    <tr>\n",
       "      <th>6</th>\n",
       "      <td>Chandler</td>\n",
       "      <td>Sounds like a date to me.</td>\n",
       "    </tr>\n",
       "    <tr>\n",
       "      <th>7</th>\n",
       "      <td>Chandler</td>\n",
       "      <td>Alright, so I'm back in high school, I'm standing in the middle of the cafeteria, and I realize I am totally naked.</td>\n",
       "    </tr>\n",
       "    <tr>\n",
       "      <th>9</th>\n",
       "      <td>Chandler</td>\n",
       "      <td>Then I look down, and I realize there's a phone... there.</td>\n",
       "    </tr>\n",
       "    <tr>\n",
       "      <th>10</th>\n",
       "      <td>Joey</td>\n",
       "      <td>Instead of...</td>\n",
       "    </tr>\n",
       "  </tbody>\n",
       "</table>\n",
       "</div>"
      ],
      "text/plain": [
       "   Character  \\\n",
       "0     Monica   \n",
       "1       Joey   \n",
       "2   Chandler   \n",
       "3     Phoebe   \n",
       "4     Phoebe   \n",
       "5     Monica   \n",
       "6   Chandler   \n",
       "7   Chandler   \n",
       "9   Chandler   \n",
       "10      Joey   \n",
       "\n",
       "                                                                                                               Dialogue  \n",
       "0                                                              There's nothing to tell! He's just some guy I work with!  \n",
       "1                                      C'mon, you're going out with the guy! There's gotta be something wrong with him!  \n",
       "2                                              All right Joey, be nice.  So does he have a hump? A hump and a hairpiece  \n",
       "3                                                                                               Wait, does he eat chalk  \n",
       "4                                       Just, 'cause, I don't want her to go through what I went through with Carl- oh!  \n",
       "5         Okay, everybody relax. This is not even a date. It's just two people going out to dinner and- not having sex.  \n",
       "6                                                                                             Sounds like a date to me.  \n",
       "7   Alright, so I'm back in high school, I'm standing in the middle of the cafeteria, and I realize I am totally naked.  \n",
       "9                                                             Then I look down, and I realize there's a phone... there.  \n",
       "10                                                                                                        Instead of...  "
      ]
     },
     "execution_count": 384,
     "metadata": {},
     "output_type": "execute_result"
    }
   ],
   "source": [
    "df_lcd.head(10)"
   ]
  },
  {
   "cell_type": "code",
   "execution_count": 385,
   "metadata": {},
   "outputs": [],
   "source": [
    "#pd.set_option('max_colwidth',10000)"
   ]
  },
  {
   "cell_type": "code",
   "execution_count": 386,
   "metadata": {},
   "outputs": [
    {
     "data": {
      "text/html": [
       "<div>\n",
       "<style scoped>\n",
       "    .dataframe tbody tr th:only-of-type {\n",
       "        vertical-align: middle;\n",
       "    }\n",
       "\n",
       "    .dataframe tbody tr th {\n",
       "        vertical-align: top;\n",
       "    }\n",
       "\n",
       "    .dataframe thead th {\n",
       "        text-align: right;\n",
       "    }\n",
       "</style>\n",
       "<table border=\"1\" class=\"dataframe\">\n",
       "  <thead>\n",
       "    <tr style=\"text-align: right;\">\n",
       "      <th></th>\n",
       "      <th>Character</th>\n",
       "      <th>Dialogue</th>\n",
       "    </tr>\n",
       "  </thead>\n",
       "  <tbody>\n",
       "    <tr>\n",
       "      <th>0</th>\n",
       "      <td>Chandler</td>\n",
       "      <td>All right Joey, be nice.  So does he have a hump? A hump and a hairpiece,Sounds like a date to me.,Alright, so I'm back in high school, I'm standing in the middle of the cafeteria, and I realize I am totally naked.,Then I look down, and I realize there's a phone... there.,That's right.,All of a sudden, the phone starts to ring. Now I don't know what to do, everybody starts looking at me.,Finally, I figure I'd better answer it, and it turns out it's my mother, which is very-very weird, because- she never calls me!,Cookie,Sometimes I wish I was a lesbian... (They all stare at him.) Did I say that out loud,And I just want a million dollars! (He extends his hand hopefully.),(imitating the characters) Tuna or egg salad?  Decide!,(re TV) Ooh, she should not be wearing those pants.,Please don't do that again, it's a horrible sound.,Ooh, this is a Dear Diary moment.,I'm sorry, I didn't catch your name. Paul, was it,(deadpan) Yes, and we're very excited about it.,It's a beautiful thing.,I would have to say that is an 'L'-shaped bracket.,I have no idea.,All finished!,Yes, please don't spoil all this fun.,Oh, God.,Oh my God!,You must stop! (Chandler hits what he is working on with a hammer and it collapses.),Look, Ross, you gotta understand, between us we haven't had a relationship that has lasted longer than a Mento.   You, however have had the love of a woman for four years.   Four years of closeness and sharing at the end of which she ripped your heart out, and that is why we don't do it!  I don't think that was my point!,Stay out of my freezer!,Angela's the screamer, Andrea has cats.,That is amazing.,If can invade Poland, there isn't anything I can't do.,Hi, Paul, is it,All right, kids, I gotta get to work. If I don't input those numbers,... it doesn't make much of a difference...,'Look, Gippetto, I'm a real live boy.',You're right, I'm sorry. (Burst into song and dances out of the door.) \"Once I was a wooden boy, a little wooden boy...\",And yet you're surprisingly upbeat.,Oh, how well you know me...,(as Rachel is cutting up her cards) Y'know, if you listen closely, you can hear a thousand retailers scream.,Did you make it, or are you just serving it,Kids, new dream... I'm in Las Vegas. (Rachel sits down to hear Chandler's dream.),Okay, so, I'm in Las Vegas... I'm Liza Minelli-,Yeah, I think for us, kissing is pretty much like an opening act, y'know? I mean it's like the stand-up comedian you have to sit through before Pink Floyd comes out.,The problem is, though, after the concert's over, no matter how great the show was, you girls are always looking for the comedian again, y'know? I mean, we're in the car, we're fighting traffic... basically just trying to stay awake.,Oh, I think this is the episode of Three's Company where there's some kind of misunderstanding.,Oh, uh, that would be mine. See, I wrote a note to myself, and then I realised I didn't need it, so I balled it up and... (sees that Monica is glaring at him) ...now I wish I was dead.,Yes, and we all know how cruel a parent can be about the flatness of a child's pillow.,(looking out the window) Ew, ew, ew, ew ew ew ew ew!,Ugly Naked Guy got a Thighmaster!,You don't get a lot of 'doy' these days...,...Dinah,Now, Monica, you know that's not how you look for an engagement ring in a lasagne...,Boys? We're going in.,Kinda puts that whole pillow thing in perspective, huh, Mon,I mean presumably, the biggest part of your job is done.,What does she do,Well, no, although I did have an imaginary friend, who... my parents actually preferred.,I dunno, but.. I think it's about to attack the Enterprise.,Or 'You're such a nice guy' means 'I'm gonna be dating leather-wearing alcoholics and complaining about them to you'.,Yeah, it's like when you're a kid, and your parents put your dog to sleep, and they tell you it went off to live on some farm.,\"So how does it feel knowing you're about to die?\",Hey, that was really good!,Okay. \"So. Whaddya want from me, Damone, huh?\",\"Smoke away.\",I think this is probably why Damone smokes in his cell alone.,Relax your hand!,Not so much!,Hey!,Alright, now try taking a puff.,Alright.. okay. No. Give it to me.,It's fine, it's fine. Look, do you wanna get this part, or not? Here.,Don't think of it as a cigarette. Think of it as the thing that's been missing from your hand. When you're holding it, you feel right. You feel complete.,Nah, not so much. Alright, now we smoke. (Takes a puff.) Oh.. my.. God. (He continues to smoke.),Oh, Satan's minions at work again...,I'm smoking. I'm smoking, I'm smoking.,And this- is my reward!,Okay, so this time I won't quit!,All right! I'm putting it out, I'm putting it out. (He drops it in Phoebe's coffee.),What are you talking about? We love Schhteve! Schhteve was schhexy!.. Sorry.,Oh, yeah. I'd marry him just for his David Hasselhof impression alone. You know I'm gonna be doing that at parties, right? (Does the impression),Yep, we sure showed those Hassidic jewellers a thing or two about softball..,I personally could have a gallon of Alan.,Well, maybe it's a contest, y'know? Like, collect all five,Hey, this is so unfair!,So I have a flaw! Big deal! Like Joey's constant knuckle-cracking isn't annoying? And Ross, with his over-pronouncing every single word? And Monica, with that snort when she laughs? I mean, what the hell is that thing? ...I accept all those flaws, why can't you accept me for this,Hey, y'know, I have had it with you guys and your cancer and your emphysema and your heart disease. The bottom line is, smoking is cool, and you know it.,Really? He does? (taking the phone) Hey, buddy, what's up! Oh, she told you about that, huh. Well, yeah, I have one now and then. Well, yeah, now. Well, it's not that big- ..well, that's true,.. Gee, y'know, no-one- no-one's ever put it like that before. Well, okay, thanks! (He hands the phone back and stubs out his cigarette.),Ooh, Lambchop. How old is that sock? If I had a sock on my hand for thirty years it'd be talking too.,Joey ate my last stick of gum, so I killed him. Do you think that was wrong,(deadpan) Ooh, I'm alive with pleasure now.,(sarcastic) Oh, she's sorry! I feel better!,...That's it. I'm getting cigarettes.,(leaving) I don't care, I don't care! Game's over! I'm weak! I've gotta smoke! I've gotta have the smoke!,(returns) Yeah, alright.,Uh, if I were omnipotent for a day, I'd.. make myself omnipotent forever.,You got waaaay too much free time.,Happy birthday, pal!,Well, aren't we Mr. \"The glass is half empty.\",Eleven days before Halloween.. all the good costumes are gone,(trying to stop Ross leaving) C'mon, Ross! You, me, Joey, ice, guys' night out, c'mon, whaddya say, big guy, (Pretending to punch him in the stomach.) Huh? Huh? Huh,(stops) I have no idea.,You got it.,(looking) Oh, this is not that bad.,...Poulet passes it up to Leetch! (Passes it to Joey.),We'll take a brief time out while Messier stops to look at some women's shoes.,Yes, Bunny,(to Joey) Could've been a peach.,What? There was ice there that night with Carol? Plastic seats? Four thousand angry Pittsburgh fans,(to Ross) See buddy, that's all you need, a bunch of toothless guys hitting each other with sticks.,He's open!,Hey, look, we're on that TV thing!,(to the receptionist)'Scuse me.,Listen, it's kind of an emergency. Well, I guess you know that, or we'd be in the predicament room. (The receptionist glares at him.),Excuse me, look, we've been here for over an hour, and a lot of people less sick than my friend have gone in. I mean, that guy with the toe thing? Who's he sleeping with? (She slides the gladd panel over and Chandler talks through it in a loud voice.) Oh, c'mon Dora, don't be mad... I know we both said some things we didn't mean, but that doesn't mean we still don't love each other. (To the waiting room.) Y'know, I feel like I've lost her.. (She slides the panel back, he turns, and it takes him by surprise.) Ba-!,Yes, the moon, the glow, the magical feeling, you did this part- Could I get some painkillers over here, please,Well, what? What? What is it? That she left you? That she likes women? That she left you for another woman that likes women,Then what,So in your whole life, you've only been with one—(He gets a look too)—oh.,I think it's great. Y'know, it's sweet, it's romantic...,No, you kidding? The guy's a freak.. (Ross enters off camera),Oh, I thought you were great in Silence of the Lambs. Oh come on, admit it! All things considered, you had fun tonight.,You gotta do it, man.,Thanks. (The guy nods and leaves),Hello? Oh, uh, Rachel, it's the Visa card people.,Alright. (on phone) Yes, this is Rachel.,To the left, to the left- aww! (They all collapse),We can? All right, I'm tryin' that.,So, Saturday night, the big night, date night, Saturday night, Sat-ur-day night!,Not a one.,Oh, right, right, shut up.,No, I know, but it's just so hard, you know? I mean, you're sitting there with her, she has no idea what's happening, and then you finally get up the courage to do it, and there's the horrible awkward moment when you've handed her the note.,Oh, thanks, but I think she'd feel like we're gangin' up on her.,Ooh, I hate when my father calls me that.,Oh. Well, hold on camper, are you sure you've thought this thing through,It's just you and Rachel, just the two of you? This is a date. You're going on a date.,Yuh-huh.,Well, you may wanna rethink the dirty underwear. This is basically the first time she's gonna see your underwear—you want it to be dirty,Oh, and uh, the fabric softener,There you go.,Where are they? Where are they,It's great. Maybe tomorrow we can rent a car and run over some puppies.,Here we go.,Hey, Janice.,Hey, that's not good. Can I get an espresso and a latte over here, please,What,(covering) What... did you get me there,Bullwinkle socks. That's so sweet.,That's great.,Well, I'm gonna get another espresso. Can I get you another latte,That's it,Oh, yeah, that hug looked pretty brutal.,Janice. Hi, Janice. Ok, here we go. I don't think we should go out...</td>\n",
       "    </tr>\n",
       "    <tr>\n",
       "      <th>1</th>\n",
       "      <td>Joey</td>\n",
       "      <td>C'mon, you're going out with the guy! There's gotta be something wrong with him!,Instead of...,Never had that dream.,This guy says hello, I wanna kill myself.,Ohh.,And you never knew she was a lesbian...,Alright Ross, look. You're feeling a lot of pain right now. You're angry. You're hurting. Can I tell you what the answer is,Strip joint! C'mon, you're single! Have some hormones!,I say push her down the stairs.,(comforting her) And hey, you need anything, you can always come to Joey. Me and Chandler live across the hall. And he's away a lot.,What, like there's a rule or something,Who's Paul,Hey, Paul!,Here's a little tip, she really likes it when you rub her neck in the same spot over and over and over again until it starts to get a little red.,Hey Pheebs, you wanna help,I'm thinking we've got a bookcase here.,(picking up a leftover part) What's this,Which goes where,Done with the bookcase!,Hey-hey-hey-hey, if you're gonna start with that stuff we're outta here.,Ross, let me ask you a question. She got the furniture, the stereo, the good TV- what did you get,You got screwed.,Shut up!,What are you talking about? 'One woman'? That's like saying there's only one flavor of ice cream for you. Lemme tell you something, Ross. There's lots of flavors out there. There's Rocky Road, and Cookie Dough, and Bing! Cherry Vanilla. You could get 'em with Jimmies, or nuts, or whipped cream! This is the best thing that ever happened to you! You got married, you were, like, what, eight? Welcome back to the world! Grab a spoon!,Great story!  But, I uh, I gotta go, I got a date with Andrea--Angela--Andrea...  Oh man, (looks to Chandler),Right.  Thanks.  It's June.  I'm outta here. (Exits.),Congratulations.,Listen, while you're on a roll, if you feel like you gotta make like a Western omelet or something... (Joey and Chandler taste the coffee, grimace, and pour it into a plant pot.) Although actually I'm really not that hungry...,Morning, Paul.,That wasn't a real date?! What the hell do you do on a real date,Yeah, I'm an actor.,I doubt it. Mostly regional work.,Look, it was a job all right,I will not take this abuse. (Walks to the door and opens it to leave.),You should both know, that he's a dead man.  Oh, Chandler? (Starts after Chandler.),(sitting on the arm of the couch)Of course it was a line!,(bursts out laughing again) I can't believe you didn't know it was a line!,I can't believe what I'm hearing here.,Oh, you wouldn't know a great butt if it came up and bit ya.,Yeah, right!.......Y'serious,(pause)....Are we still talking about sex,Yeah, sorry, the swallowing slowed me down.,Yeah, calm down. You don't see Ross getting all chaotic and twirly every time they come.,Alright, when'd'ya have it on last,.....Well, this is still ruined, right,Your folks are really that bad, huh,What are we supposed to be seeing here,Since always. It's like dating language. Y'know, like 'It's not you' means 'It is you'.,Yeah. Cushions the blow.,\"Warden, in five minutes my pain will be over. But you'll have to live with the knowledge that you sent an honest man to die.\",Thanks! Let's keep going.,\"I just wanna go back to my cell. 'Cause in my cell, I can smoke.\",What,Whoah!,Hey!,No no no, I am not giving you a cigarette.,Y'miss it,That's ridiculous!,Y'okay, Phoebe,What are you talking about? Keep it!,So when do we get to meet the guy,Let it go, Ross.,You can come in, but your filter-tipped little buddy has to stay outside!,(shouting to Chandler) Chandler! He's here!,Know what was great? The way his smile was kinda crooked.,Alan.,...Does the knuckle-cracking bother everybody,Well, is it, like, a little annoying, or is it like when Phoebe chews her hair,Oh, (Imitating Ross) \"you do, do you\",Do you have any respect for your body,(dragged in by Monica, he has just gotten out of the shower) What's going on,Even nicer when everyone gets to wear their underwear..,Oh, God! (Hurriedly closes his legs.),So that's it? It's over? Just like that,Okay!,Probably kill myself!,Hey, if Little Joey's dead, then I got no reason to live!,You are? Ross, I'm sorry..,...Ninety-five, ninety-six, ninety-seven. See, I told you! Less than a hundred steps from our place to here.,(to Ross) Hey! Here's the birthday boy! Ross, check it out: hockey tickets, Rangers-Penguins, tonight at the Garden, and we're taking you.,We love you, man. (Kisses Ross),So,What's wrong with the twentieth,The hell with hockey, let's all do that!,C'mon, Ross!,Oh, you're fine, yeah, for a first job.,Leetch spots Messier in the crease- there's the pass! (He kicks it to Ross, but Ross is staring into a shop window.),What,-Peaches,Hey, that woman's got an ass like Carol's! (They turn to stare at him.) What? Thought we were trying to find stuff.,C'mon, sit. Just sit down, sit.,Well, how long do you think it'll be,He's right, enough, already. What is the big deal about today? So you slept with her for the first time, so what? You slept with her for seven years after that.,What,With Carol? (Ross gives him a look.) Oh.,Whoah, boy, hockey was a big mistake! There was a whole bunch of stuff we could've done tonight!,Man. Can you believe he's only had sex with one woman,Really,Oh, ah- the kid has it.,Ok, you know what blows my mind? Women can see breasts any time they want. You just look down and there they are. How you get any work done is beyond me.,No plans, huh,Why do you have to break up with her? Be a man, just stop calling.,My god, Angela.,No, yeah, no, ok, but not yet. I don't wanna seem too eager. One Mississippi, two Mississippi, three Mississippi. That seems pretty cool. (he walks over to her) Hey, Angela.,You look good.,You don't say.,Bob? Who the hell's Bob,Come on, we were great together. And not just at the fun stuff, but like, talking too.,What,Fine, fine, so, why don't the four of us go out and have dinner together tonight? You know, as friends,You know, you and Bob, and me and my girlfriend, uh, uh, Monica.,Monica, I'm tellin' you, this guy is perfect for you.,Come on. This guy's great. His name's Bob. He's Angela's... brother. He's smart, he's sophisticated, and he has a real job. Me, I go on three auditions a month and call myself an actor, but Bob is...,What,Eww! Look, I'm asking a favor here. If I do this for her brother, maybe Angela will come back to me.,(proud) I know, but, I made a huge mistake. I never should have broken up with her. Will you help me? Please,Yep.,Which what,No, but he's...,Oh my god.,I suddenly had the feeling that I was falling. But I'm not.,So, you and Angela, huh,You're a lucky man. You know what I miss the most about her? That cute nibbly noise when she eats. Like a happy little squirrel, or a weasel.,Oh, yeah, yeah, listen for it.,Yeah, but it's not gonna last. She's too much for me in bed. Sexually.,What,Come on, they're close.,Oh, like you've never gotten a little rambunctious with Ross.,Well, who's to say what's true? I mean...,All right, look, I'm not proud of this, ok? Well, maybe I am a little.,Ow!,Wait, wait, wait. You want him, I want her. He likes you.,Yeah. I'm thinking, if we put our heads together, between the two of us, we can break them up.,Uh, waiter, one more plate of chicken wings over here.,Excellent.,Vell, Eva, ve've done some excellent vork here, and I vould have to say, your pwoblem is qviiite clear. (He goes into a song and dance number.),[singing] All you want is a dingle, What you envy's a schwang, A thing through which you can tinkle, Or play with, or simply let hang...,Whadja think,C'mon, you guys, it wasn't that bad. It was better than that thing I did with the trolls, at least you got to see my head.,The Estelle Leonard Talent Agency. Wow, an agency left me its card! Maybe they wanna sign me!,Who's Rick,I couldn't do it.,When I'm with a woman, I need to know that I'm going out with more people than she is.,(on phone) Uh huh.. uh huh... oh my God! Okay! Okay, I'll be there! (He hangs up and to all.) That was my agent. (He tosses and catches the phone.) My agent has just gotten me a job...in the new Al Pacino movie!,Can you believe this? Al Pacino! This guy's the reason I became an actor! \"I'm out of order? Pfeeeh. You're out of order! This whole courtroom's out of order!\",\"Just when I thought I was out, they pull me back in!\",...I'm his (mumbles),...I'm his butt double. 'Kay? I play Al Pacino's butt. Alright? He goes into the shower, and then- I'm his butt.,C'mon, you guys. This is a real movie, and Al Pacino's in it, and that's big!,Okay, okay, fine! Make jokes, I don't care! This is a big break for me!,Here. I need to borrow some moisturizer.,Whaddya think? Today's the big day!,Thank you! (He goes into the bathroom.),Uh, listen, I just wanna thank you for this great opportunity.,Me,Right. Okay. Losing the robe. (He takes off the robe.) And the robe is lost.,Well, I'm- I'm showering.,Oh. Well, the way I see it, the guy's upset here, y'know? I mean, his wife's dead, his brother's missing... I think his butt would be angry here.,I was going for quiet desperation. But if you have to ask...,Nope.,I got fired.,Yeah, they said I acted too much with it. I told everybody about this! Now everybody's gonna go to the theatre, expecting to see me, and...,My mom will.,Y'know, I've done nothing but crappy plays for six years. And I finally get my shot, and I blow it!,Hard to tell, I was naked.,Yeah? That's so nice! (They hug.),Hi everyone.,Well, Chandler's old roomate was Jewish, and these are the only candles we have, so... Happy Chanukah, everyone.,What's up man,(to everyone) Oh my God! He's trapped in an ATM vestibule with Jill Goodacre! (on phone) Chandler, listen. (says something intentionally garbled),OK... my weirdest place would have to be... the women's room on the second floor of the New York CIty public library.,We have a winner!,It's never gonna happen.,You and Rachel.,Because you waited too long to make your move, and now you're in the friend zone.,Ross, you're mayor of the zone.,Priesthood! Look Ross, I'm telling you, she has no idea w...</td>\n",
       "    </tr>\n",
       "    <tr>\n",
       "      <th>2</th>\n",
       "      <td>Monica</td>\n",
       "      <td>There's nothing to tell! He's just some guy I work with!,Okay, everybody relax. This is not even a date. It's just two people going out to dinner and- not having sex.,And they weren't looking at you before?!,Are you okay, sweetie,(explaining to the others) Carol moved her stuff out today.,(to Ross) Let me get you some coffee.,No you don't.,Oh really, so that hysterical phone call I got from a woman at sobbing 3:00 A.M., \"I'll never have grandchildren, I'll never have grandchildren.\" was what?  A wrong number,Rachel?!,(pointing at Rachel) De-caff. (to All) Okay, everybody, this is Rachel, another Lincoln High survivor. (to Rachel) This is everybody, this is Chandler, and Phoebe, and Joey, and- you remember my brother Ross,So you wanna tell us now, or are we waiting for four wet bridesmaids,Who wasn't invited to the wedding.,Now I'm guessing that he bought her the big pipe organ, and she's really not happy about it.,Well, I guess we've established who's staying here with Monica...,Just breathe, breathe.. that's it. Just try to think of nice calm things...,Okay, look, this is probably for the best, y'know? Independence. Taking control of your life.  The whole, 'hat' thing.,Joey, stop hitting on her! It's her wedding day!,Oh God, is it 6:30?  Buzz him in!,Maybe. Joey: Wait. Your 'not a real date' tonight is with Paul the Wine Guy,Yes!,Rach, wait, I can cancel...,(to Ross) Are, are you okay? I mean, do you want me to stay,(horrified) Really,Hi, come in! Paul, this is.. (They are all lined up next to the door.)... everybody, everybody, this is Paul.,Okay, umm-umm, I'll just--I'll be right back, I just gotta go ah, go ah...,Change!  Okay, sit down. (Shows Paul in) Two seconds.,(yelling from the bedroom) Shut up, Joey!,Oh my God!,My brother's going through that right now, he's such a mess. How did you get through it,-leg,You actually broke her watch?  Wow!  The worst thing I ever did was, I-I shredded by boyfriend's favorite bath towel.,That's right.,What?..... What, you wanna spell it out with noodles,Oh, so there is gonna be a fifth date,Yeah... yeah, I think there is. -What were you gonna say,(spitting out her drink in shock) Oh God, oh God, I am sorry... I am so sorry...,I know being spit on is probably not what you need right now. Um... how long,Wow! I'm-I'm-I'm glad you smashed her watch!,(pause)...Yeah. Yeah, I do.,(entering, to herself) Oh good, Lenny and Squigy are here.,Stop!,We'll talk later.,Shut up, and put my table back.,Yeah, we all have jobs. See, that's how we buy stuff.,Oh wait, wait, unless you happened to catch the Reruns' production of Pinocchio, at the little theater in the park.,So how you doing today? Did you sleep okay? Talk to Barry? I can't stop smiling.,I know, he's just so, so... Do you remember you and Tony DeMarco,Well, it's like that. With feelings.,Big time!,I think we are getting a little ahead of selves here. Okay. Okay. I am just going to get up, go to work and not think about him all day. Or else I'm just gonna get up and go to work.,What for,Hey Frannie, welcome back! How was Florida,How do you do that,You know Paul,You mean you know Paul like I know Paul,Why?! Why? Why, why would anybody do something like that,I hate men!  I hate men!,Is it me? Is it like I have some sort of beacon that only dogs and men with severe emotional problems can hear,I just thought he was nice, y'know,How'd you pay for them,And who pays for that,C'mon, you can't live off your parents your whole life.,All right, you ready,You can, I know you can!,Rachel!  That was a library card!,Welcome to the real world! It sucks. You're gonna love it!,Well, that's it (To Ross) You gonna crash on the couch,You be okay,That's Paul's watch. You just put it back where you found it. Oh boy. Alright. Goodnight, everybody.,See ya.... Waitwait, what's with you,What? I-I said you had a-,(to Phoebe) Would you stop,I said that you had a nice butt, it's just not a great butt.,What you guys don't understand is, for us, kissing is as important as any part of it.,Absolutely.,(taking a drink from Joey) Are you through with that,Whose little ball of paper is this?!,Look , I'm sorry, guys, I just don't wanna give them any more ammunition than they already have.,That's because as far as my parents are concerned, Ross can do no wrong. Y'see, he's the Prince. Apparently they had some big ceremony before I was born.,What,Easy Rach, we'll find it. (To all) Won't we!,You didn't.,I gave you one job! (Starts to examin the lasagne through the bottom of the glass pan.),(puts down the lasagne) I just... can't do it.,Wow. That is not a happy hi.,W-w-wh-... wha-... w-w-w-...,What does she mean by 'involved',Curry.,I'm sorry, why is this girl going to call me,No Mom, I don't have a restaurant, I work in a restaurant.,Ross, could you come and help me with the spaghetti, please,I know this is going to sound unbelievably selfish, but, were you planning on bringing up the whole baby/lesbian thing? Because I think it might take some of the heat off me.,What's that supposed to mean,No it's not.,(trying desperately to change the subject) So, Ross, what's going on with you? Any stories? (Digs her elbow into his hand.) No news, no little anecdotes to share with the folks,Boy, I know they say you can't change your parents,... boy, if you could- (To Ross) -I'd want yours.,Chandler, you're an only child, right? You don't have any of this.,(welling up) Mm-hmm.,No.,Am not!,(pushes him and starts to cry) Oh shut up!,Uh, no. Loosely translated 'We should do this again' means 'You will never see me naked'.,Uh, Ross.,No, no, no. They say it's the same as the distance from the tip of a guy's thumb to the tip of his index finger.,What did they do to you,We're with you. We got it.,(puling him up) Hey. Whaddya doing,Alright. I'm gonna go change, I've got a date.,'S'going pretty good, y'know? It's nice, and, we're having fun.,Let's see, today's Monday... Never.,No. Not after what happened with Steve.,Look, I don't even know how I feel about him yet. Just give me a chance to figure that out.,Nope. Schhorry.,I mean, why should I let them meet him? I mean, I bring a guy home, and within five minutes they're all over him. I mean, they're like- coyotes, picking off the weak members of the herd.,I know. I just wish that once, I'd bring a guy home that they actually liked.,Do you all promise,(shouts to Chandler) Chandler? Do you promise to be good,Hey. It's him. (On the intercom) Who is it,(to all) Okay, please be good, please. Just remember how much you all like me.,Hi. Alan, this is everybody. Everybody, this is Alan.,(to Alan) Thanks. I'll call you tomorrow. (Alan exits, to all) Okay. Okay, let's let the Alan-bashing begin. Who's gonna take the first shot, hmm,C'mon!,Wait a minute! We're talking about someone that I'm going out with,Really!,Hi.. how was the game,Fantastic! I have one question: How is that possible,Can I ask you guys a question? D'you ever think that Alan is maybe.. sometimes..,..I dunno, a little too Alan,Oh, why is it unfair,Did you ever go out with a guy your friends all really like,Okay.. Well, I'm going out with a guy my friends all really like.,Can you believe it? ...Y'know what? I just don't feel the thing. I mean, they feel the thing, I don't feel the thing.,I know.. it's gonna be really hard.,No, he'll be fine. It's the other five I'm worried about.,(entering) Hey. Where's Joey,Thanks. (Goes to fetch him.),Nothing. I just think it's nice when we're all here together.,(turns off the TV) Okay..,Please, guys, we have to talk.,Alright, we have to talk.,Okay. It's-it's about Alan. There's something that you should know. I mean, there's really no easy way to say this.. uh.. I've decided to break up with Alan.,No, nononono.. it's just.. things change. People change.,Look, I- I could go on pretending-,-but that wouldn't be fair to me, it wouldn't be fair to Alan- It wouldn't be fair to you!,I'm sorry..,I'll meet somone else. There'll be other Alans.,Are you guys gonna be okay,(dubious) I understand.,I'm, I'm really sorry.,Relieved,(entering) Hi.,Oh, y'know..,He said he's really gonna miss you guys. (dubious look),Alright. Phoebe,Hey, Joey, what would you do if you were omnipotent,..Excuse me,How does she do that,Would you look at her? She is so peaceful.,What's going on with you,Well, if you want, you can stay with Rachel and me tonight.,Oh, I was hoping you wouldn't remember.,Wow, you worked in a mine,Yeah, yeah.,(to Phoebe) I swear I've seen birds do this on Wild Kingdom.,Hey, Rach. How was it with your friends? (She and Phoebe scream.) Okay! How would you like some Tiki Death Punch? (She pours the contents of the blender into some glasses.),Weeeell, it's rum, and-,We thought since Phoebe was staying over tonight we'd have kinda like a slumber party thing. We got some trashy magazines, we got cookie dough, we got Twister... (The phone rings and Monica answers it.),Uh, Rach, it's the Visa card people.,(on phone) Could you please tell me what this is in reference to? (Listens) Yes, hold on. (To Rachel) Um, they say there's been some unusual activity on your account.,That is the unusual activity. Look, they just wanna see if you're okay.,(pauses then on the phone) Uh- Rachel has left the building, can you call back,You should feel great about yourself! You're doing this amazing independence thing!,Ah, the other Jack.,So what, you're not the only one. I mean, half the time we don't know where we're going. You've just gotta figure at some point it's all gonna come together, and it's just gonna be... un-floopy.,...Pheebs,No, you were right. I don't have a plan. (There's a knock on the door.),Phoebe,Do you have a plan,(leaping off of the couch and runs up) Wait! Did you say 'G.Stephanopoulos?',Wait, was this a-a small mediterranean guy with curiously intelligent good looks,Was he wearing a stunning blue suit,(staggered) Oh God.,Are you nuts?! We've got George Stephanopoulos' pizza! (Rachel pays him, Monica grabs some binoculars, and runs to the window.),I see...</td>\n",
       "    </tr>\n",
       "    <tr>\n",
       "      <th>3</th>\n",
       "      <td>Phoebe</td>\n",
       "      <td>Wait, does he eat chalk,Just, 'cause, I don't want her to go through what I went through with Carl- oh!,No.,Ooh! Oh! (She starts to pluck at the air just in front of Ross.),Fine!  Be murky!,If I let go of my hair, my head will fall off.,(sings) Raindrops on roses and rabbits and kittens, (Rachel and Monica turn to look at her.) bluebells and sleighbells and- something with mittens... La la la la...something and noodles with string.  These are a few...,(grins and walks to the kitchen and says to Chandler and Joey.) I helped!,What does that mean?   Does he sell it, drink it, or just complain a lot? (Chandler doesn't know.),Ooh, I just pulled out four eyelashes. That can't be good.,Oh, I wish I could, but I don't want to.,(singing) Love is sweet as summer showers, love is a wondrous work of art, but your love oh your love, your love...is like a giant pigeon...crapping on my heart.  La-la-la-la-la- (some guy gives her some change and to that guy) Thank you. (sings) La-la-la-la...ohhh!,Oh no, don't hate, you don't want to put that out into the universe.,All right, c'mere, gimme your feet. (She starts massaging them.),Give her a break, it's hard being on your own for the first time.,You're welcome. I remember when I first came to this city. I was fourteen. My mom had just killed herself and my step-dad was back in prison, and I got here, and I didn't know anybody. And I ended up living with this albino guy who was, like, cleaning windshields outside port authority, and then he killed himself, and then I found aromatherapy. So believe me, I know exactly how you feel.,(sings) I can't believe what I'm hearing here...,(sings) What I said you had...,Oh, was I doing it again,Oh, yeah!,...Then I've already seen this one! (Turns off the TV.),She's already fluffed that pillow... Monica, you know, you've already fluffed that- (Monica glares at her.) -but, it's fine!,Monica- Hi! Um, Monica, you're scaring me. I mean, you're like, you're like all chaotic and twirly. And not-not in a good way.,Yeah, it's beautiful.,No, look, don't touch that!,Doy! Probably right before she lost it!,(while everyone else is stunned) Ooh! I found it!,She is so great! I miss her.,Y'know, it's even worse when you're twins.,Yeah. We don't speak. She's like this high-powered, driven career type.,She's a waitress.,You know, if you tilt your head to the left, and relax your eyes, it kinda looks like an old potato.,Okay!,(entering) Hi guys!,Um, not so good. He walked me to the subway and said 'We should do this again!',Or, or, y'know, um, 'I think we should see other people' means 'Ha, ha, I already am'.,Yeah- no- I'm just- it's, I haven't worked- It's my bank.,It's nothing, it's just- Okay. I'm going through my mail, and I open up their monthly, you know, STATEMENT-,- and there's five hundred extra dollars in my account.,Yes, 'cause now I have to go down there, and deal with them.,It's not mine, I didn't earn it, if I kept it, it would be like stealing.,Okay. Okay, let's say I bought a really great pair of shoes. Do you know what I'd hear, with every step I took? 'Not-mine. Not-mine. Not-mine.' And even if I was happy, okay, and, and skipping- 'Not-not-mine, not-not-mine, not-not-mine, not-not-mine'...,Okay. I'd- just- I'd never be able to enjoy it. It would be like this giant karmic debt.,Oh, I can't believe you! You've been so good, for three years!,Oh, no! I- I can't drink this now!,'Dear Ms. Buffay. Thank you for calling attention to our error. We have credited your account with five hundred dollars. We're sorry for the inconvenience, and hope you'll accept this- (Searches in her purse) -football phone as our free gift.' Do you believe this?! Now I have a thousand dollars, and a football phone!,Yes, yes! Like the man in the shoe!,From the nursery rhyme. 'There was a crooked man, Who had a crooked smile, Who lived in a shoe, For a... while...',Hey, Lizzie.,I brought you alphabet soup.,Yes. But I left in the Ys. 'Cause, y'know, \"sometimes y\". Uh, I also have something else for you. (She searches in her purse.),No, but would you like a thousand dollars and a football phone,I know.,No, I want you to have it. I don't want it.,Oh, that's fine, no.,No. 'Cause you need that. No, it's okay, thanks.,Okay, alright, you buy me a soda, and then we're even. Okay,Okay.,No, I'm fine.,Huh!,I know! I know, I opened it up and there it was, just floating in there, like this tiny little hitch-hiker!,Does, um, anyone wanna see,Yeah, 'cause otherwise someone might get what they actually ordered.,Does anyone want the rest of this Pop-Tart,Sorry. ..Y'know, those stupid soda people gave me seven thousand dollars for the thumb.,And on my way over here, I stepped in gum. ...What is up with the universe?!,Wait, wait, I'm getting a deja vu...no, I'm not.,There it is!,You know.. you let your guard down, you start to really care about someone, and I just- I- (starts chewing her hair),Did he mention us,(shouting as he leaves) If you never smoke again I'll give you seven thousand dollars!,Okay, okay. If I were omnipotent for a day, I would want, um, world peace, no more hunger, good things for the rain-forest...And bigger boobs!,(waking and startling them) Oh! What what what! ...Hi.,I got no sleep last night!,My grandmother has this new boyfriend, and they're both kind of insecure in bed. Oh, and deaf. So they're constantly, like, having to reassure each other that they're having a good time. You have no idea how loud they are!,Thanks.,I remember the day I got my first pay check. There was a cave in in one of the mines, and eight people were killed.,I worked in a Dairy Queen, why,(to Monica) Look, look, I have elbows! (They scream.),Ooh! Ooh! And I brought Operation! But, um, I lost the tweezers, so we can't operate. But we can prep the guy!,You are just like Jack.,No, Jack and the Beanstalk.,Yeah, right! See, he gave up something, but then he got those magic beans. And then he woke up, and there was this, this big plant outside his window, full of possibilities and stuff.. And he lived in a village, and you live in the Village..,Oh, see, Jack did love the cow.,Floopy,Oh, like that's a word.,Oh, well... 'cause.... you just... I don't like this question.,What,I don't even have a 'pl'.,And-and a power tie,Big Bird's friend.,Oh, I wanna see! Lemme see! Lemme see! (She runs up and takes the binoculars.),Ooh, wait.. wait, I see a woman.,Definitely not his mother.,Oh, wait, she's walking across the floor.. she's walking.. she's walking.. she's going for the pizza- (Yelling) Hey, that's not for you, bitch! (Phoebe covers her mouth with her hand walks away from the window.),Yeah,Uh-huh.,Oh! Oh! Oh! Okay, fine, fine. Now I don't feel so bad about sleeping with Jason Hurley.,You'd already broken up.,A couple hours.,There he is! There he is!,Right- where we've been looking all night!,Oh, ok, you know what I don't get? The way guys can do so many mean things, and then not even care.,You know, if you want, I'll do it with you.,No, I mean you break up with Janice and I'll break up with Tony.,Yeah, I know, he's sweet, but it's just not fun anymore, you know? I don't know if it's me, or his hunger strike, or, I don't know.,(to Rachel) What's the matter? Why so scrunchy,(rhythmically) Uh-huh, uh-huh.,Are you gonna go over there,This is nice. We never do anything just the two of us.,Eww, I don't wanna do that.,Ok, have a good break-up.,Yeah, it was really hard.,Ok, you weren't there.,Ok, you can do this. It's just like pulling off a Band-aid. Just do it really fast, and then the wound is exposed.,Oh my god. (Chandler downs another espresso.) How many of those have you had,Chandler, easy, easy. Go to your happy place. La la la la la la la.,All right.,Wait here. Breathe.,It's like a gift.,Oh, I'd like that.,(seeing Rachel's clothes) What a neat idea. All your clothes match. I'm gonna do this.,Hey, how'd it go,Oh, he needed some time to grieve.,That oughta do it.,The exclamation point in the title scares me. (Gesturing) Y'know, it's not just Freud, it's Freud!,Oh, oh, but y'know, you always see these really beautiful women with these really nothing guys, you could be one of those guys.,Based on this play? ...Based on this play!,(reading Monica's palm) No, 'cause this line is passion, and this is... just a line.,Oh, yeah. That is not true. Ross, is this your fantasy,(to Rachel) I can't believe you tried to move the green ottoman.,Yeah, you are, Monica. Remember when I lived with you? You were like, a little, y'know, (psycho) Ree! Ree! Ree! Ree!,Ree! Ree! Ree! Ree! Ree!,Seriously, what-what's the part,No, I don't think this was your shot. I mean, I don't even think you just get one shot. I really believe big things are gonna happen for you, I do! You've gotta just keep thinking about the day that some kid is gonna run up to his friends and go 'I got the part! I got the part! I'm gonna be Joey Tribbiani's ass!'.,Hi. Um, I want to start with a song thats about that moment when you suddenly realize what life is all about. OK, here we go. (plays a chord, then the lights go out) OK, thank you very much.,Can I borrow the phone? I want to call my apartment and check on my grandma. (to Monica) What's my number,Well, I never call me.,(at window) Eww, look. Ugly Naked Guy lit a bunch of candles.,Oh... Milwaukee.,Oh, Rachel.,(singing) New York City has no power, and the milk is getting sour. But to me it is not scary, 'cause I stay away from dairy.... la la la, la la, la la... (she writes the lyrics down),About what,What surprise party,Well, he didn't tell me.,This is so typical. I'm always the last one to know everything.,Yuh-huh! I was the last one to know when Chandler got bitten by the peacock at the zoo. I was the last one to know when you had a crush on Joey when he was moving in. (Monica gestures at Phoebe to shut up; Joey looks surprised but pleased) Looks like I was second to last.,Oh, poor little Tooty is scared to death. We should find his owner.,(stops at a door) Oh no, the Mendels, they hate all liv...</td>\n",
       "    </tr>\n",
       "    <tr>\n",
       "      <th>4</th>\n",
       "      <td>Rachel</td>\n",
       "      <td>Oh God Monica hi! Thank God! I just went to your building and you weren't there and then this guy with a big hammer said you might be here and you are, you are!,Hi, sure!,Oh God... well, it started about a half hour before the wedding. I was in the room where we were keeping all the presents, and I was looking at this gravy boat. This really gorgeous Lamauge gravy boat. When all of a sudden- (to the waitress that brought her coffee)Sweet 'n' Lo?- I realized that I was more turned on by this gravy boat than by Barry! And then I got really freaked out, and that's when it hit me: how much Barry looks like Mr. Potato Head. Y'know, I mean, I always knew looked familiar, but... Anyway, I just had to get out of there, and I started wondering 'Why am I doing this, and who am I doing this for?'. (to Monica) So anyway I just didn't know where to go, and I know that you and I have kinda drifted apart, but you're the only person I knew who lived here in the city.,Ooh, I was kinda hoping that wouldn't be an issue...,(on phone) Daddy, I just... I can't marry him! I'm sorry. I just don't love him. Well, it matters to me!,C'mon Daddy, listen to me! It's like, it's like, all of my life, everyone has always told me, 'You're a shoe! You're a shoe, you're a shoe, you're a shoe!'. And today I just stopped and I said, 'What if I don't wanna be a shoe? What if I wanna be a- a purse, y'know? Or a- or a hat! No, I'm not saying I want you to buy me a hat, I'm saying I am a ha- It's a metaphor, Daddy!,Look Daddy, it's my life. Well maybe I'll just stay here with Monica.,Well, maybe that's my decision. Well, maybe I don't need your money. Wait!! Wait, I said maybe!!,I'm all better now.,Please, no, go, that'd be fine!,Well, I was kinda supposed to be headed for Aruba on my honeymoon, so nothing!,Well actually thanks, but I think I'm just gonna hang out here tonight.  It's been kinda a long day.,Barry, I'm sorry... I am so sorry... I know you probably think that this is all about what I said the other day about you making love with your socks on, but it isn't... it isn't, it's about me, and I ju- (She stops talking and dials the phone.) Hi, machine cut me off again... anyway...look, look, I know that some girl is going to be incredibly lucky to become Mrs. Barry Finkel, but it isn't me, it's not me.  And not that I have any idea who me is right now, but you just have to give me a chance too... (The maching cuts her off again and she redials.),Oh...see... but Joanne loved Chachi! That's the difference!,Isn't this amazing? I mean, I have never made coffee before in my entire life.,Y'know, I figure if I can make coffee, there isn't anything I can't do.,Hello, Paul.,So, like, you guys all have jobs,Wow! Would I have seen you in anything,I can see that. You look like you slept with a hanger in your mouth.,Oh, yeah.,Oh wow. Are you in trouble.,Want a wedding dress?   Hardly used.,Oh, look, wish me luck!,I'm gonna go get one of those (Thinks) job things.,Guess what,Are you kidding? I'm trained for nothing! I was laughed out of twelve interviews today.,You would be too if you found John and David boots on sale, fifty percent off!,They're my new 'I don't need a job, I don't need my parents, I've got great boots' boots!,Uh, credit card.,Um... my... father.,Oh God, come on you guys, is this really necessary?  I mean, I can stop charging anytime I want.,I know that. That's why I was getting married.,Thank you.,No.  No, no, I'm not ready!  How can I be ready?  \"Hey, Rach!  You ready to jump out the airplane without your parachute?\"  Come on, I can't do this!,I don't think so.,Y'know what?  I think we can just leave it at that.  It's kinda like a symbolic gesture...,Hey Mon, look what I just found on the floor. (Monica smiles.) What,Sorry-,No, you have it, really, I don't want it-,Okay.,I knew.,I did.,Yeah, maybe...,Goodnight.,(walks up with a pot of coffee) Would anybody like more coffee,I'm just serving it.,Ugh. (To another customer that's leaving.) Excuse me, could you give this to that guy over there? (Hands him the coffee pot.) Go ahead. (He does so.) Thank you. (To the gang.) Sorry.  Okay, Las Vegas.,Everything you need to know is in that first kiss.,Yeah, well, word of advice: Bring back the comedian. Otherwise next time you're gonna find yourself sitting at home, listening to that album alone.,Has anybody seen my engagement ring,Oh God, oh God, oh God oh God oh God oh God.... (Starts to look under the couch cushions.),Oh, like I wasn't dreading tomorrow enough, having to give it back to him... 'Hi Barry! Remember me? I'm the girl in the veil who stomped on your heart in front of your entire family!' Oh God and now I'm gonna have to return the ring, without the ring, which makes it so much harder...,I know I had it this morning, and I know I had it when I was in the kitchen with...,(looks at the lasagne and realizes something) Ohhhhh, don't be mad...,Oh, I am sorry...,Oh, but look how straight those noodles are!,Well now, how-how do you fit into this whole thing,So what are you gonna do,You're twins,All right, you guys, I kinda gotta clean up now. (They all start to leave.),The lights, please..,I'm just cleaning up.,Uh.. okay, sure! Thanks! (She hands him the broom and sits down.),Oh.. a little..,A lot.,So, got any advice? Y'know, as someone who's recently been- dumped,Oh, you've got Carol tomorrow.. When did it get so complicated,Remember when we were in high school together,I mean, didn't you think you were just gonna meet somone, fall in love- and that'd be it? (Ross gazes at her.) ..Ross,Oh! Man, I never thought I'd be here.. (She leans back onto his hand.),Barry,(hesitates) Are you sure,I'm- uh- I'm okay... You look great!,I dumped him.,Oh, not much. I-I got a job.,Why are- why are you so tanned,Oh no. You went on our honeymoon alone,Mindy?! My maid of honour, Mindy?!,Oh! Well, um.. (Grabs his forehand) You've got plugs!,And you've got lenses! But you hate sticking your finger in your eye!,Okay..,Wow.,What,Anyway, um, (Gets the ring out of her purse.) I guess this belongs to you. And thank you for giving it to me.,(on phone) Hi, Mindy. Hi, it-it's Rachel. Yeah, I'm fine. I-I saw Barry today. Oh, yeah, yeah he-he told me. No, no, it's okay. I hope you two are very happy, I really do. Oh, oh, and Mind, y'know, if-if everything works out, and you guys end up getting married and having kids- and everything- I just hope they have his old hairline and your old nose. (Slams the phone down.) (To everyone) Okay, I know it was a cheap shot, but I feel so much better now.,What? He said 'we should do it again', that's good, right,Since when,And everybody knows this,(carrying a tray of drinks) Alright, don't tell me, don't tell me! (Starts handing them out.) Decaf cappucino for Joey.. Coffee black.. Late.. And an iced tea. I'm getting pretty good at this!,(leaving to serve others) Good for me!,Yeah, but if you spent it, it would be like shopping!,Chandler, what are you doing,This Alan again? How's it goin',Well, then can we meet him,What bank is this,And did you notice...? (She spreads her thumb and index finger.),What future boyfriends? Nono, I th- I think this could be, y'know, it.,I mean, it-it was like, it was like he made us into a team.,Well, no. That's impossible. You can never be too Alan.,It's worse than the thumb!,Well, I-I could live without it.,\"Indeed there isn't\"... I should really get back to work.,Ohh-ho-hooohhh. The hair comes out, and the gloves come on.,(holding the phone out to Chandler) Chandler? It's Alan, he wants to speak to you.,(to Ross, who has wandered up) God, he's good.,Yeah.,I think he's across the hall.,Uh, Joey..,We didn't change..,(tearful) I just can't believe this! I mean, with the holidays coming up- I wanted him to meet my family-,Remember when we went to Central Park and rented boats?.. That was fun.,See, there's always one guy. (Mocking) \"If I had a wish, I'd wish for three more wishes.\" (Joey enters.),Look-look-look-look-look, my first pay check! Look at the window, there's my name! Hi, me!,God, isn't this exciting? I earned this. I wiped tables for it, I steamed milk for it, and it was totally—(opens envelope)—not worth it. Who's FICA? Why's he getting all my money? I mean, what- Chandler, look at that.,Oh my God! (Rachel, Leslie, Kiki, and Joanne all scream and hug each other.,What are you guys doing here,(to a pregnant Leslie) Look at you, you are so big I can't believe it!,(to Joanne) So what's going on with you,So c'mon, you guys, tell me all the dirt!,Okay.,What? Guys, I'm not.,I'm not! This is what I'm doing now. I've got this job-,Okay, I'm not just waitressing. I'm.. I, um... I write the specials on the specials board, and, uh... and I, uh... I take the uh dead flowers out of the vase... Oh, and, um, sometimes Artelle lets me put the little chocolate blobbies on the cookies.,What's that,Okay. (Grabs the blender and starts to drink.),Oh, God, ask them what they want.,But I haven't used my card in weeks!,They wanna know if I'm okay. Okay.. they wanna know if I'm okay, okay, let's see. Well, let's see, the FICA guys took all my money, everyone I know is either getting married, or getting promoted, or getting pregnant, and I'm getting coffee! And it's not even for me! So if that sounds like I'm okay, okay, then you can tell them I'm okay, okay,Alright, c'mon! (Miserably) Let's play Twister!,Monica, what is so amazing? I gave up, like, everything. And for what,...Jack from downstairs,Okay, but Pheebs, Pheebs, Jack gave up a cow, I gave up an orthodontist. Okay, I-I-I know, I know I didn't love him-,But see, it was a plan. Y'know, it was clear. It was figured out, and now everything's just kinda like...,Yeah.,Okay, but Monica, what if- what if it doesn't come together,Okay, see, see, you guys, what if we don't get magic beans? I mean, what if all we've got are.. beans,I'm so sorry, you guys. I didn't mean to bring you down.,Thank God. Food. (She goes to answer the door.),(miserably) No, no, that's not what...</td>\n",
       "    </tr>\n",
       "    <tr>\n",
       "      <th>5</th>\n",
       "      <td>Ross</td>\n",
       "      <td>(mortified) Hi.,I just feel like someone reached down my throat, grabbed my small intestine, pulled it out of my mouth and tied it around my neck...,Thanks.,No, no don't! Stop cleansing my aura! No, just leave my aura alone, okay,I'll be fine, alright? Really, everyone. I hope she'll be very happy.,No I don't, to hell with her, she left me!,No!! Okay?! Why does everyone keep fixating on that? She didn't know, how should I know,I told mom and dad last night, they seemed to take it pretty well.,Sorry.,I don't want to be single, okay? I just... I just- I just wanna be married again!,Hi.,(in a deep voice) I'll have whatever Christine is having.,You can see where he'd have trouble.,Paul the Wine Guy, Paul,He finally asked you out,(choked voice) That'd be good...,(normal voice) No, go on! It's Paul the Wine Guy!,A wandering,So Rachel, what're you, uh... what're you up to tonight,Right, you're not even getting your honeymoon, God.. No, no, although, Aruba, this time of year... talk about your- (thinks) -big lizards... Anyway, if you don't feel like being alone tonight, Joey and Chandler are coming over to help me put together my new furniture.,Okay, sure.,(squatting and reading the instructions) I'm supposed to attach a brackety thing to the side things, using a bunch of these little worm guys. I have no brackety thing, I see no whim guys whatsoever and- I cannot feel my legs.,(clutching a beer can and sniffing) This was Carol's favorite beer. She always drank it out of the can, I should have known.,You guys.,I'm divorced!  I'm only 26 and I'm divorced!,That only took me an hour.,You know what the scariest part is? What if there's only one woman for everybody, y'know? I mean what if you get one woman- and that's it? Unfortunately in my case, there was only one woman- for her...,I honestly don't know if I'm hungry or horny.,(scornful) Grab a spoon. Do you know how long it's been since I've grabbed a spoon? Do the words 'Billy, don't be a hero' mean anything to you,Y'know, here's the thing. Even if I could get it together enough to- to ask a woman out,... who am I gonna ask? (He gazes out of the window.),I assume we're looking for an answer more sophisticated than 'to get you into bed'.,You got a job,The word you're looking for is 'Anyway'...,Come on, you made coffee!   You can do anything! (Chandler slowly tries to hide the now dead plant from that morning when he and Joey poured their coffee into it.),C'mon, cut. Cut, cut, cut,...,No. No, I gotta go home sometime.,Yeah.,Mmm. (They both reach for the last cookie) Oh, no-,No no no, go-,Split it,Okay. (They split it.) You know you probably didn't know this, but back in high school, I had a, um, major crush on you.,You did! Oh.... I always figured you just thought I was Monica's geeky older brother.,Oh. Listen, do you think- and try not to let my intense vulnerability become any kind of a factor here- but do you think it would be okay if I asked you out? Sometime? Maybe,Okay... okay, maybe I will...,Goodnight.,I just grabbed a spoon. (Ross exits and Monica has no idea what that means.),There's an image.,Yeah, and-and it's not that we don't like the comedian, it's that-that... that's not why we bought the ticket.,No, it's good, it is good, it's just that- mm- doesn't she seem a little angry,Does she.,Marsha, these are cave people. Okay? They have issues like 'Gee, that glacier's getting kinda close.' See,(trying to ignore her) No. No.,Okay, okay, yes, it is. (waves) How about I'll, uh, catch up with you in the Ice Age.,Hi.,You look great. I, uh... I hate that.,Ah, well, in here, anyone who... stands erect... So what's new? Still, uh...,Well... you never know. How's, um.. how's the family,Why- why are you here, Carol,Pregnant?!,(standing outside the door).....Hi.,Carol's pregnant.,Yeah. Do that for another two hours, you might be where I am right about now. (He enters.),Well, Carol says she and Susan want me to be involved, but if I'm not comfortable with it, I don't have to be involved.. basically it's entirely up to me.,Anyway, they want me to go down to this- sonogram thing with them tomorrow.,I have no idea. No matter what I do, though, I'm still gonna be a father.,I- I think they're great! I, I really do.,Aw, Mom...,Yeah. (They go to the kitchen.),(pulls his hand away) Okay! Okay. (To his parents) Look, I, uh- I realise you guys have been wondering what exactly happened between Carol and me, and, so, well, here's the deal. Carol's a lesbian. She's living with a woman named Susan. She's pregnant with my child, and she and Susan are going to raise the baby.,Well, y'know, these people are pros. They know what they're doing, they take their time, they get the job done.,Must pee. (Goes to pee.),...How long was I in there,D'ya.. uh.. d'ya need any help,Anyway.. um.. (Starts to sweep.) So, you- uh- you nervous about Barry tomorrow,Mm-hmm..,Mm.,Well, you may wanna steer clear of the word 'dumped'. Chances are he's gonna be this, this broken shell of a man, y'know, so you should try not to look too terrific, I know it'll be hard. Or, y'know, uh, hey!, I'll go down there, and I'll give Barry back his ring, and you can go with Carol and Susan to the OB/GYN...,Got me.,Yeah.,Yes, yes!,Me either... (He pulls up a stool so that he doesn't have to move his hand.),(entering) Sorry I'm late, I was stuck at work. There was this big dinosaur.. thing.. anyway.,How could I forget,(they shake hands) Hello, Susan. (To Carol) Good shake. Good shake. So, uh, we're just waiting for...,..Dr. Oberman. Okay. And is he-,-she, of course, she- uh- familiar with our.. special situation,Okay, that's great. (Susan gives her drink to Carol.) No, I'm- Oh.,(picks up a surgical instrament and mimes a duck with it) Quack, quack..,So, um- so how's this, uh, how's this gonna work? Y'know, with us? Y'know, when, like, important decisions have to be made,Well, uh, uh, I don't know, okay, okay, how about with the, uh, with the baby's name,Marlon?!,...As in Mouse,Still, you- you say Minnie, you hear Mouse. Um, how about, um.. how about Julia,'S'funny, um, uh, we agreed we'd spend the rest of our lives together. Things change, roll with the punches. I believe Julia's on the table..,Helen Geller? I don't think so.,Thank you!,What, it's gonna be Helen Willick,Well, wait a minute, wha- why is she in the title,Oh, 's'funny, really? Um, I don't remember you making any sperm.,No no no, she gets a credit, hey, I'm in there too.,Of course not, I'm... suggesting Geller-Willick-Bunch.,My way?! You-you think this is my way? Believe me, of all the ways I ever imagined this moment in my life being, this is not my way- y'know what? Uh, um, this is too hard. I'm not, I can't do-,You- uh- y'know what, I'm gonna go. I don't- I don't think I can be involved in this particular thing right now.,Oh my God.,Well? Isn't that amazing,Then don't do that, alright,(walks over to where Monica is standing)Monica. Whaddya think,Wh- are you welling up,You are, you're welling up.,You're gonna be an aunt.,Hey. Oh, oh, how'd it go,That's funny, that, no, because, uh, our parents actually did, uh, send our dog off to live on a farm.,What? Wh- hello? The Millners' farm in Connecticut? The Millners, they had this unbelievable farm, they had horses, and, and rabbits that he could chase and it was- it w- .....Oh my God, Chi Chi!,Can I use.. either thumb,Easy.,What is this?!,Hold on a second, alright? Just think about what you went through the last time you quit.,Yeah, well, you didn't know Chi Chi.,Hey, Pheebs.,...I'll go. Let's start with the way he kept picking at- no, I'm sorry, I can't do this, can't do this. We loved him.,...What shoe,...So I think Alan will become the yardstick against which all future boyfriends will be measured.,You know what I like most about him, though,The way he makes me feel about myself.,Well..,He was unbelievable. He was like that-that-that Bugs Bunny cartoon where Bugs is playing all the positions, right, but instead of Bugs it was first base-Alan, second base-Alan, third base-...,What,Yeah, it's his, uh, innate Alan-ness that-that-that we adore.,A thumb?!,Oh, now, don't listen to him, Pheebs, I think it's endearing.,You know, there's nothing wrong with speaking correctly.,Don't you realise what you're-you're doing to yourself,If only he were a woman.,Okay. I think it's time to change somebody's nicotine patch. (Does so.),(finishing changing Chandler's nicotine patch) There y'go.,Hey Pheebs, you gonna have the rest of that Pop-Tart?.. Pheebs,Hey, I might!,Is there somebody else,Who-who wants fair? Y'know, I just want things back. Y'know, the way they were.,Hey hey, we'll be fine. We're just gonna need a little time.,Yeah. He could row like a viking.,So how'd it go,You had a rough day, huh.. c'mere. (She sits down and Ross strokes her forehead.),Yeah, see.. you took mine. Chandler, what about you,Joey, uh- OMnipotent.,I cannot sleep in a public place.,It's okay, y'know, you just nodded off again.,Why,Funny, my birthday was seven months ago.,So, I'm guessing you had an extra ticket and couldn't decide which one of you got to bring a date,Oh my God, oh- is today the twentieth, October twentieth,Ohhh.,Today's the day Carol and I first.. consummated our physical relationship. (Joey is puzzled.) Sex. ..You know what, I-I'd better pass on the game. I think I'm just gonna go home and think about my ex-wife and her lesbian lover.,What are you doing,Alright, alright, maybe it'll take my mind off it. Do you promise to buy me a big thumb finger,You can totally, totally live on this.,Oh, by the way, great service tonight.,Carol was wearing boots just like those the night that we- we first- y'know. Fact, she, uh- she never took'em off, 'cause we-we- (off Chandler's look) Sorry. Sorry.,Peach pit.,(points) Peach pit. That night we, uh- we had-,Actually, nectarines, but basically...,Then, uh, then we got dressed, and I-I... I walked her to the- (looks up, realises, and points) -the bus stop... I'm fine.,(squeezing past people) Sorry...</td>\n",
       "    </tr>\n",
       "  </tbody>\n",
       "</table>\n",
       "</div>"
      ],
      "text/plain": [
       "  Character  \\\n",
       "0  Chandler   \n",
       "1      Joey   \n",
       "2    Monica   \n",
       "3    Phoebe   \n",
       "4    Rachel   \n",
       "5      Ross   \n",
       "\n",
       "                                                                                                                                                                                                                                                                                                                                                                                                                                                                                                                                                                                                                                                                                                                                                                                                                                                                                                                                                                                                                                                                                                                                                                                                                                                                                                                                                                                                                                                                                                                                                                                                                                                                                                                                                                                                                                                                                                                                                                                                                                                                                                                                                                                                                                                                                                                                                                                                                                                                                                                                                                                                                                                                                                                                                                                                                                                                                                                                                                                                                                                                                                                                                                                                                                                                                                                                                                                                                                                                                                                                                                                                                                                                                                                                                                                                                                                                                                                                                                                                                                                                                                                                                                                                                                                                                                                                                                                                                                                                                                                                                                                                                                                                                                                                                                                                                                                                                                                                                                                                                                                                                                                                                                                                                                                                                                                                                                                                                                                                                                                                                                                                                                                                                                                                                                                                                                                                                                                                                                                                                                                                                                                                                                                                                                                                                                                                                                                                                                                                                                                                                                                                                                                                                                                                                                                                                                                                                                                                                                                                                                                                                                                                                                                                                                                                                                                                                                                                                                                                                                                                                                                                                                                                                                                                                                                                                                                                                                                                                                                                                                                                                                                                                                                                                                                                                                                                                                                                                                                                                                                                                                                                                                                                                                                                                                                                                                                                                                                                                                                                                                                                                                                                                                                                                                                                                                                                                                                                                                                                                                                                                                                                                                                                                                                                                                                                                                                                                                                                                                                                                                                                                                                                                                                                                                                                                                                                                                                                          Dialogue  \n",
       "0  All right Joey, be nice.  So does he have a hump? A hump and a hairpiece,Sounds like a date to me.,Alright, so I'm back in high school, I'm standing in the middle of the cafeteria, and I realize I am totally naked.,Then I look down, and I realize there's a phone... there.,That's right.,All of a sudden, the phone starts to ring. Now I don't know what to do, everybody starts looking at me.,Finally, I figure I'd better answer it, and it turns out it's my mother, which is very-very weird, because- she never calls me!,Cookie,Sometimes I wish I was a lesbian... (They all stare at him.) Did I say that out loud,And I just want a million dollars! (He extends his hand hopefully.),(imitating the characters) Tuna or egg salad?  Decide!,(re TV) Ooh, she should not be wearing those pants.,Please don't do that again, it's a horrible sound.,Ooh, this is a Dear Diary moment.,I'm sorry, I didn't catch your name. Paul, was it,(deadpan) Yes, and we're very excited about it.,It's a beautiful thing.,I would have to say that is an 'L'-shaped bracket.,I have no idea.,All finished!,Yes, please don't spoil all this fun.,Oh, God.,Oh my God!,You must stop! (Chandler hits what he is working on with a hammer and it collapses.),Look, Ross, you gotta understand, between us we haven't had a relationship that has lasted longer than a Mento.   You, however have had the love of a woman for four years.   Four years of closeness and sharing at the end of which she ripped your heart out, and that is why we don't do it!  I don't think that was my point!,Stay out of my freezer!,Angela's the screamer, Andrea has cats.,That is amazing.,If can invade Poland, there isn't anything I can't do.,Hi, Paul, is it,All right, kids, I gotta get to work. If I don't input those numbers,... it doesn't make much of a difference...,'Look, Gippetto, I'm a real live boy.',You're right, I'm sorry. (Burst into song and dances out of the door.) \"Once I was a wooden boy, a little wooden boy...\",And yet you're surprisingly upbeat.,Oh, how well you know me...,(as Rachel is cutting up her cards) Y'know, if you listen closely, you can hear a thousand retailers scream.,Did you make it, or are you just serving it,Kids, new dream... I'm in Las Vegas. (Rachel sits down to hear Chandler's dream.),Okay, so, I'm in Las Vegas... I'm Liza Minelli-,Yeah, I think for us, kissing is pretty much like an opening act, y'know? I mean it's like the stand-up comedian you have to sit through before Pink Floyd comes out.,The problem is, though, after the concert's over, no matter how great the show was, you girls are always looking for the comedian again, y'know? I mean, we're in the car, we're fighting traffic... basically just trying to stay awake.,Oh, I think this is the episode of Three's Company where there's some kind of misunderstanding.,Oh, uh, that would be mine. See, I wrote a note to myself, and then I realised I didn't need it, so I balled it up and... (sees that Monica is glaring at him) ...now I wish I was dead.,Yes, and we all know how cruel a parent can be about the flatness of a child's pillow.,(looking out the window) Ew, ew, ew, ew ew ew ew ew!,Ugly Naked Guy got a Thighmaster!,You don't get a lot of 'doy' these days...,...Dinah,Now, Monica, you know that's not how you look for an engagement ring in a lasagne...,Boys? We're going in.,Kinda puts that whole pillow thing in perspective, huh, Mon,I mean presumably, the biggest part of your job is done.,What does she do,Well, no, although I did have an imaginary friend, who... my parents actually preferred.,I dunno, but.. I think it's about to attack the Enterprise.,Or 'You're such a nice guy' means 'I'm gonna be dating leather-wearing alcoholics and complaining about them to you'.,Yeah, it's like when you're a kid, and your parents put your dog to sleep, and they tell you it went off to live on some farm.,\"So how does it feel knowing you're about to die?\",Hey, that was really good!,Okay. \"So. Whaddya want from me, Damone, huh?\",\"Smoke away.\",I think this is probably why Damone smokes in his cell alone.,Relax your hand!,Not so much!,Hey!,Alright, now try taking a puff.,Alright.. okay. No. Give it to me.,It's fine, it's fine. Look, do you wanna get this part, or not? Here.,Don't think of it as a cigarette. Think of it as the thing that's been missing from your hand. When you're holding it, you feel right. You feel complete.,Nah, not so much. Alright, now we smoke. (Takes a puff.) Oh.. my.. God. (He continues to smoke.),Oh, Satan's minions at work again...,I'm smoking. I'm smoking, I'm smoking.,And this- is my reward!,Okay, so this time I won't quit!,All right! I'm putting it out, I'm putting it out. (He drops it in Phoebe's coffee.),What are you talking about? We love Schhteve! Schhteve was schhexy!.. Sorry.,Oh, yeah. I'd marry him just for his David Hasselhof impression alone. You know I'm gonna be doing that at parties, right? (Does the impression),Yep, we sure showed those Hassidic jewellers a thing or two about softball..,I personally could have a gallon of Alan.,Well, maybe it's a contest, y'know? Like, collect all five,Hey, this is so unfair!,So I have a flaw! Big deal! Like Joey's constant knuckle-cracking isn't annoying? And Ross, with his over-pronouncing every single word? And Monica, with that snort when she laughs? I mean, what the hell is that thing? ...I accept all those flaws, why can't you accept me for this,Hey, y'know, I have had it with you guys and your cancer and your emphysema and your heart disease. The bottom line is, smoking is cool, and you know it.,Really? He does? (taking the phone) Hey, buddy, what's up! Oh, she told you about that, huh. Well, yeah, I have one now and then. Well, yeah, now. Well, it's not that big- ..well, that's true,.. Gee, y'know, no-one- no-one's ever put it like that before. Well, okay, thanks! (He hands the phone back and stubs out his cigarette.),Ooh, Lambchop. How old is that sock? If I had a sock on my hand for thirty years it'd be talking too.,Joey ate my last stick of gum, so I killed him. Do you think that was wrong,(deadpan) Ooh, I'm alive with pleasure now.,(sarcastic) Oh, she's sorry! I feel better!,...That's it. I'm getting cigarettes.,(leaving) I don't care, I don't care! Game's over! I'm weak! I've gotta smoke! I've gotta have the smoke!,(returns) Yeah, alright.,Uh, if I were omnipotent for a day, I'd.. make myself omnipotent forever.,You got waaaay too much free time.,Happy birthday, pal!,Well, aren't we Mr. \"The glass is half empty.\",Eleven days before Halloween.. all the good costumes are gone,(trying to stop Ross leaving) C'mon, Ross! You, me, Joey, ice, guys' night out, c'mon, whaddya say, big guy, (Pretending to punch him in the stomach.) Huh? Huh? Huh,(stops) I have no idea.,You got it.,(looking) Oh, this is not that bad.,...Poulet passes it up to Leetch! (Passes it to Joey.),We'll take a brief time out while Messier stops to look at some women's shoes.,Yes, Bunny,(to Joey) Could've been a peach.,What? There was ice there that night with Carol? Plastic seats? Four thousand angry Pittsburgh fans,(to Ross) See buddy, that's all you need, a bunch of toothless guys hitting each other with sticks.,He's open!,Hey, look, we're on that TV thing!,(to the receptionist)'Scuse me.,Listen, it's kind of an emergency. Well, I guess you know that, or we'd be in the predicament room. (The receptionist glares at him.),Excuse me, look, we've been here for over an hour, and a lot of people less sick than my friend have gone in. I mean, that guy with the toe thing? Who's he sleeping with? (She slides the gladd panel over and Chandler talks through it in a loud voice.) Oh, c'mon Dora, don't be mad... I know we both said some things we didn't mean, but that doesn't mean we still don't love each other. (To the waiting room.) Y'know, I feel like I've lost her.. (She slides the panel back, he turns, and it takes him by surprise.) Ba-!,Yes, the moon, the glow, the magical feeling, you did this part- Could I get some painkillers over here, please,Well, what? What? What is it? That she left you? That she likes women? That she left you for another woman that likes women,Then what,So in your whole life, you've only been with one—(He gets a look too)—oh.,I think it's great. Y'know, it's sweet, it's romantic...,No, you kidding? The guy's a freak.. (Ross enters off camera),Oh, I thought you were great in Silence of the Lambs. Oh come on, admit it! All things considered, you had fun tonight.,You gotta do it, man.,Thanks. (The guy nods and leaves),Hello? Oh, uh, Rachel, it's the Visa card people.,Alright. (on phone) Yes, this is Rachel.,To the left, to the left- aww! (They all collapse),We can? All right, I'm tryin' that.,So, Saturday night, the big night, date night, Saturday night, Sat-ur-day night!,Not a one.,Oh, right, right, shut up.,No, I know, but it's just so hard, you know? I mean, you're sitting there with her, she has no idea what's happening, and then you finally get up the courage to do it, and there's the horrible awkward moment when you've handed her the note.,Oh, thanks, but I think she'd feel like we're gangin' up on her.,Ooh, I hate when my father calls me that.,Oh. Well, hold on camper, are you sure you've thought this thing through,It's just you and Rachel, just the two of you? This is a date. You're going on a date.,Yuh-huh.,Well, you may wanna rethink the dirty underwear. This is basically the first time she's gonna see your underwear—you want it to be dirty,Oh, and uh, the fabric softener,There you go.,Where are they? Where are they,It's great. Maybe tomorrow we can rent a car and run over some puppies.,Here we go.,Hey, Janice.,Hey, that's not good. Can I get an espresso and a latte over here, please,What,(covering) What... did you get me there,Bullwinkle socks. That's so sweet.,That's great.,Well, I'm gonna get another espresso. Can I get you another latte,That's it,Oh, yeah, that hug looked pretty brutal.,Janice. Hi, Janice. Ok, here we go. I don't think we should go out...  \n",
       "1  C'mon, you're going out with the guy! There's gotta be something wrong with him!,Instead of...,Never had that dream.,This guy says hello, I wanna kill myself.,Ohh.,And you never knew she was a lesbian...,Alright Ross, look. You're feeling a lot of pain right now. You're angry. You're hurting. Can I tell you what the answer is,Strip joint! C'mon, you're single! Have some hormones!,I say push her down the stairs.,(comforting her) And hey, you need anything, you can always come to Joey. Me and Chandler live across the hall. And he's away a lot.,What, like there's a rule or something,Who's Paul,Hey, Paul!,Here's a little tip, she really likes it when you rub her neck in the same spot over and over and over again until it starts to get a little red.,Hey Pheebs, you wanna help,I'm thinking we've got a bookcase here.,(picking up a leftover part) What's this,Which goes where,Done with the bookcase!,Hey-hey-hey-hey, if you're gonna start with that stuff we're outta here.,Ross, let me ask you a question. She got the furniture, the stereo, the good TV- what did you get,You got screwed.,Shut up!,What are you talking about? 'One woman'? That's like saying there's only one flavor of ice cream for you. Lemme tell you something, Ross. There's lots of flavors out there. There's Rocky Road, and Cookie Dough, and Bing! Cherry Vanilla. You could get 'em with Jimmies, or nuts, or whipped cream! This is the best thing that ever happened to you! You got married, you were, like, what, eight? Welcome back to the world! Grab a spoon!,Great story!  But, I uh, I gotta go, I got a date with Andrea--Angela--Andrea...  Oh man, (looks to Chandler),Right.  Thanks.  It's June.  I'm outta here. (Exits.),Congratulations.,Listen, while you're on a roll, if you feel like you gotta make like a Western omelet or something... (Joey and Chandler taste the coffee, grimace, and pour it into a plant pot.) Although actually I'm really not that hungry...,Morning, Paul.,That wasn't a real date?! What the hell do you do on a real date,Yeah, I'm an actor.,I doubt it. Mostly regional work.,Look, it was a job all right,I will not take this abuse. (Walks to the door and opens it to leave.),You should both know, that he's a dead man.  Oh, Chandler? (Starts after Chandler.),(sitting on the arm of the couch)Of course it was a line!,(bursts out laughing again) I can't believe you didn't know it was a line!,I can't believe what I'm hearing here.,Oh, you wouldn't know a great butt if it came up and bit ya.,Yeah, right!.......Y'serious,(pause)....Are we still talking about sex,Yeah, sorry, the swallowing slowed me down.,Yeah, calm down. You don't see Ross getting all chaotic and twirly every time they come.,Alright, when'd'ya have it on last,.....Well, this is still ruined, right,Your folks are really that bad, huh,What are we supposed to be seeing here,Since always. It's like dating language. Y'know, like 'It's not you' means 'It is you'.,Yeah. Cushions the blow.,\"Warden, in five minutes my pain will be over. But you'll have to live with the knowledge that you sent an honest man to die.\",Thanks! Let's keep going.,\"I just wanna go back to my cell. 'Cause in my cell, I can smoke.\",What,Whoah!,Hey!,No no no, I am not giving you a cigarette.,Y'miss it,That's ridiculous!,Y'okay, Phoebe,What are you talking about? Keep it!,So when do we get to meet the guy,Let it go, Ross.,You can come in, but your filter-tipped little buddy has to stay outside!,(shouting to Chandler) Chandler! He's here!,Know what was great? The way his smile was kinda crooked.,Alan.,...Does the knuckle-cracking bother everybody,Well, is it, like, a little annoying, or is it like when Phoebe chews her hair,Oh, (Imitating Ross) \"you do, do you\",Do you have any respect for your body,(dragged in by Monica, he has just gotten out of the shower) What's going on,Even nicer when everyone gets to wear their underwear..,Oh, God! (Hurriedly closes his legs.),So that's it? It's over? Just like that,Okay!,Probably kill myself!,Hey, if Little Joey's dead, then I got no reason to live!,You are? Ross, I'm sorry..,...Ninety-five, ninety-six, ninety-seven. See, I told you! Less than a hundred steps from our place to here.,(to Ross) Hey! Here's the birthday boy! Ross, check it out: hockey tickets, Rangers-Penguins, tonight at the Garden, and we're taking you.,We love you, man. (Kisses Ross),So,What's wrong with the twentieth,The hell with hockey, let's all do that!,C'mon, Ross!,Oh, you're fine, yeah, for a first job.,Leetch spots Messier in the crease- there's the pass! (He kicks it to Ross, but Ross is staring into a shop window.),What,-Peaches,Hey, that woman's got an ass like Carol's! (They turn to stare at him.) What? Thought we were trying to find stuff.,C'mon, sit. Just sit down, sit.,Well, how long do you think it'll be,He's right, enough, already. What is the big deal about today? So you slept with her for the first time, so what? You slept with her for seven years after that.,What,With Carol? (Ross gives him a look.) Oh.,Whoah, boy, hockey was a big mistake! There was a whole bunch of stuff we could've done tonight!,Man. Can you believe he's only had sex with one woman,Really,Oh, ah- the kid has it.,Ok, you know what blows my mind? Women can see breasts any time they want. You just look down and there they are. How you get any work done is beyond me.,No plans, huh,Why do you have to break up with her? Be a man, just stop calling.,My god, Angela.,No, yeah, no, ok, but not yet. I don't wanna seem too eager. One Mississippi, two Mississippi, three Mississippi. That seems pretty cool. (he walks over to her) Hey, Angela.,You look good.,You don't say.,Bob? Who the hell's Bob,Come on, we were great together. And not just at the fun stuff, but like, talking too.,What,Fine, fine, so, why don't the four of us go out and have dinner together tonight? You know, as friends,You know, you and Bob, and me and my girlfriend, uh, uh, Monica.,Monica, I'm tellin' you, this guy is perfect for you.,Come on. This guy's great. His name's Bob. He's Angela's... brother. He's smart, he's sophisticated, and he has a real job. Me, I go on three auditions a month and call myself an actor, but Bob is...,What,Eww! Look, I'm asking a favor here. If I do this for her brother, maybe Angela will come back to me.,(proud) I know, but, I made a huge mistake. I never should have broken up with her. Will you help me? Please,Yep.,Which what,No, but he's...,Oh my god.,I suddenly had the feeling that I was falling. But I'm not.,So, you and Angela, huh,You're a lucky man. You know what I miss the most about her? That cute nibbly noise when she eats. Like a happy little squirrel, or a weasel.,Oh, yeah, yeah, listen for it.,Yeah, but it's not gonna last. She's too much for me in bed. Sexually.,What,Come on, they're close.,Oh, like you've never gotten a little rambunctious with Ross.,Well, who's to say what's true? I mean...,All right, look, I'm not proud of this, ok? Well, maybe I am a little.,Ow!,Wait, wait, wait. You want him, I want her. He likes you.,Yeah. I'm thinking, if we put our heads together, between the two of us, we can break them up.,Uh, waiter, one more plate of chicken wings over here.,Excellent.,Vell, Eva, ve've done some excellent vork here, and I vould have to say, your pwoblem is qviiite clear. (He goes into a song and dance number.),[singing] All you want is a dingle, What you envy's a schwang, A thing through which you can tinkle, Or play with, or simply let hang...,Whadja think,C'mon, you guys, it wasn't that bad. It was better than that thing I did with the trolls, at least you got to see my head.,The Estelle Leonard Talent Agency. Wow, an agency left me its card! Maybe they wanna sign me!,Who's Rick,I couldn't do it.,When I'm with a woman, I need to know that I'm going out with more people than she is.,(on phone) Uh huh.. uh huh... oh my God! Okay! Okay, I'll be there! (He hangs up and to all.) That was my agent. (He tosses and catches the phone.) My agent has just gotten me a job...in the new Al Pacino movie!,Can you believe this? Al Pacino! This guy's the reason I became an actor! \"I'm out of order? Pfeeeh. You're out of order! This whole courtroom's out of order!\",\"Just when I thought I was out, they pull me back in!\",...I'm his (mumbles),...I'm his butt double. 'Kay? I play Al Pacino's butt. Alright? He goes into the shower, and then- I'm his butt.,C'mon, you guys. This is a real movie, and Al Pacino's in it, and that's big!,Okay, okay, fine! Make jokes, I don't care! This is a big break for me!,Here. I need to borrow some moisturizer.,Whaddya think? Today's the big day!,Thank you! (He goes into the bathroom.),Uh, listen, I just wanna thank you for this great opportunity.,Me,Right. Okay. Losing the robe. (He takes off the robe.) And the robe is lost.,Well, I'm- I'm showering.,Oh. Well, the way I see it, the guy's upset here, y'know? I mean, his wife's dead, his brother's missing... I think his butt would be angry here.,I was going for quiet desperation. But if you have to ask...,Nope.,I got fired.,Yeah, they said I acted too much with it. I told everybody about this! Now everybody's gonna go to the theatre, expecting to see me, and...,My mom will.,Y'know, I've done nothing but crappy plays for six years. And I finally get my shot, and I blow it!,Hard to tell, I was naked.,Yeah? That's so nice! (They hug.),Hi everyone.,Well, Chandler's old roomate was Jewish, and these are the only candles we have, so... Happy Chanukah, everyone.,What's up man,(to everyone) Oh my God! He's trapped in an ATM vestibule with Jill Goodacre! (on phone) Chandler, listen. (says something intentionally garbled),OK... my weirdest place would have to be... the women's room on the second floor of the New York CIty public library.,We have a winner!,It's never gonna happen.,You and Rachel.,Because you waited too long to make your move, and now you're in the friend zone.,Ross, you're mayor of the zone.,Priesthood! Look Ross, I'm telling you, she has no idea w...  \n",
       "2  There's nothing to tell! He's just some guy I work with!,Okay, everybody relax. This is not even a date. It's just two people going out to dinner and- not having sex.,And they weren't looking at you before?!,Are you okay, sweetie,(explaining to the others) Carol moved her stuff out today.,(to Ross) Let me get you some coffee.,No you don't.,Oh really, so that hysterical phone call I got from a woman at sobbing 3:00 A.M., \"I'll never have grandchildren, I'll never have grandchildren.\" was what?  A wrong number,Rachel?!,(pointing at Rachel) De-caff. (to All) Okay, everybody, this is Rachel, another Lincoln High survivor. (to Rachel) This is everybody, this is Chandler, and Phoebe, and Joey, and- you remember my brother Ross,So you wanna tell us now, or are we waiting for four wet bridesmaids,Who wasn't invited to the wedding.,Now I'm guessing that he bought her the big pipe organ, and she's really not happy about it.,Well, I guess we've established who's staying here with Monica...,Just breathe, breathe.. that's it. Just try to think of nice calm things...,Okay, look, this is probably for the best, y'know? Independence. Taking control of your life.  The whole, 'hat' thing.,Joey, stop hitting on her! It's her wedding day!,Oh God, is it 6:30?  Buzz him in!,Maybe. Joey: Wait. Your 'not a real date' tonight is with Paul the Wine Guy,Yes!,Rach, wait, I can cancel...,(to Ross) Are, are you okay? I mean, do you want me to stay,(horrified) Really,Hi, come in! Paul, this is.. (They are all lined up next to the door.)... everybody, everybody, this is Paul.,Okay, umm-umm, I'll just--I'll be right back, I just gotta go ah, go ah...,Change!  Okay, sit down. (Shows Paul in) Two seconds.,(yelling from the bedroom) Shut up, Joey!,Oh my God!,My brother's going through that right now, he's such a mess. How did you get through it,-leg,You actually broke her watch?  Wow!  The worst thing I ever did was, I-I shredded by boyfriend's favorite bath towel.,That's right.,What?..... What, you wanna spell it out with noodles,Oh, so there is gonna be a fifth date,Yeah... yeah, I think there is. -What were you gonna say,(spitting out her drink in shock) Oh God, oh God, I am sorry... I am so sorry...,I know being spit on is probably not what you need right now. Um... how long,Wow! I'm-I'm-I'm glad you smashed her watch!,(pause)...Yeah. Yeah, I do.,(entering, to herself) Oh good, Lenny and Squigy are here.,Stop!,We'll talk later.,Shut up, and put my table back.,Yeah, we all have jobs. See, that's how we buy stuff.,Oh wait, wait, unless you happened to catch the Reruns' production of Pinocchio, at the little theater in the park.,So how you doing today? Did you sleep okay? Talk to Barry? I can't stop smiling.,I know, he's just so, so... Do you remember you and Tony DeMarco,Well, it's like that. With feelings.,Big time!,I think we are getting a little ahead of selves here. Okay. Okay. I am just going to get up, go to work and not think about him all day. Or else I'm just gonna get up and go to work.,What for,Hey Frannie, welcome back! How was Florida,How do you do that,You know Paul,You mean you know Paul like I know Paul,Why?! Why? Why, why would anybody do something like that,I hate men!  I hate men!,Is it me? Is it like I have some sort of beacon that only dogs and men with severe emotional problems can hear,I just thought he was nice, y'know,How'd you pay for them,And who pays for that,C'mon, you can't live off your parents your whole life.,All right, you ready,You can, I know you can!,Rachel!  That was a library card!,Welcome to the real world! It sucks. You're gonna love it!,Well, that's it (To Ross) You gonna crash on the couch,You be okay,That's Paul's watch. You just put it back where you found it. Oh boy. Alright. Goodnight, everybody.,See ya.... Waitwait, what's with you,What? I-I said you had a-,(to Phoebe) Would you stop,I said that you had a nice butt, it's just not a great butt.,What you guys don't understand is, for us, kissing is as important as any part of it.,Absolutely.,(taking a drink from Joey) Are you through with that,Whose little ball of paper is this?!,Look , I'm sorry, guys, I just don't wanna give them any more ammunition than they already have.,That's because as far as my parents are concerned, Ross can do no wrong. Y'see, he's the Prince. Apparently they had some big ceremony before I was born.,What,Easy Rach, we'll find it. (To all) Won't we!,You didn't.,I gave you one job! (Starts to examin the lasagne through the bottom of the glass pan.),(puts down the lasagne) I just... can't do it.,Wow. That is not a happy hi.,W-w-wh-... wha-... w-w-w-...,What does she mean by 'involved',Curry.,I'm sorry, why is this girl going to call me,No Mom, I don't have a restaurant, I work in a restaurant.,Ross, could you come and help me with the spaghetti, please,I know this is going to sound unbelievably selfish, but, were you planning on bringing up the whole baby/lesbian thing? Because I think it might take some of the heat off me.,What's that supposed to mean,No it's not.,(trying desperately to change the subject) So, Ross, what's going on with you? Any stories? (Digs her elbow into his hand.) No news, no little anecdotes to share with the folks,Boy, I know they say you can't change your parents,... boy, if you could- (To Ross) -I'd want yours.,Chandler, you're an only child, right? You don't have any of this.,(welling up) Mm-hmm.,No.,Am not!,(pushes him and starts to cry) Oh shut up!,Uh, no. Loosely translated 'We should do this again' means 'You will never see me naked'.,Uh, Ross.,No, no, no. They say it's the same as the distance from the tip of a guy's thumb to the tip of his index finger.,What did they do to you,We're with you. We got it.,(puling him up) Hey. Whaddya doing,Alright. I'm gonna go change, I've got a date.,'S'going pretty good, y'know? It's nice, and, we're having fun.,Let's see, today's Monday... Never.,No. Not after what happened with Steve.,Look, I don't even know how I feel about him yet. Just give me a chance to figure that out.,Nope. Schhorry.,I mean, why should I let them meet him? I mean, I bring a guy home, and within five minutes they're all over him. I mean, they're like- coyotes, picking off the weak members of the herd.,I know. I just wish that once, I'd bring a guy home that they actually liked.,Do you all promise,(shouts to Chandler) Chandler? Do you promise to be good,Hey. It's him. (On the intercom) Who is it,(to all) Okay, please be good, please. Just remember how much you all like me.,Hi. Alan, this is everybody. Everybody, this is Alan.,(to Alan) Thanks. I'll call you tomorrow. (Alan exits, to all) Okay. Okay, let's let the Alan-bashing begin. Who's gonna take the first shot, hmm,C'mon!,Wait a minute! We're talking about someone that I'm going out with,Really!,Hi.. how was the game,Fantastic! I have one question: How is that possible,Can I ask you guys a question? D'you ever think that Alan is maybe.. sometimes..,..I dunno, a little too Alan,Oh, why is it unfair,Did you ever go out with a guy your friends all really like,Okay.. Well, I'm going out with a guy my friends all really like.,Can you believe it? ...Y'know what? I just don't feel the thing. I mean, they feel the thing, I don't feel the thing.,I know.. it's gonna be really hard.,No, he'll be fine. It's the other five I'm worried about.,(entering) Hey. Where's Joey,Thanks. (Goes to fetch him.),Nothing. I just think it's nice when we're all here together.,(turns off the TV) Okay..,Please, guys, we have to talk.,Alright, we have to talk.,Okay. It's-it's about Alan. There's something that you should know. I mean, there's really no easy way to say this.. uh.. I've decided to break up with Alan.,No, nononono.. it's just.. things change. People change.,Look, I- I could go on pretending-,-but that wouldn't be fair to me, it wouldn't be fair to Alan- It wouldn't be fair to you!,I'm sorry..,I'll meet somone else. There'll be other Alans.,Are you guys gonna be okay,(dubious) I understand.,I'm, I'm really sorry.,Relieved,(entering) Hi.,Oh, y'know..,He said he's really gonna miss you guys. (dubious look),Alright. Phoebe,Hey, Joey, what would you do if you were omnipotent,..Excuse me,How does she do that,Would you look at her? She is so peaceful.,What's going on with you,Well, if you want, you can stay with Rachel and me tonight.,Oh, I was hoping you wouldn't remember.,Wow, you worked in a mine,Yeah, yeah.,(to Phoebe) I swear I've seen birds do this on Wild Kingdom.,Hey, Rach. How was it with your friends? (She and Phoebe scream.) Okay! How would you like some Tiki Death Punch? (She pours the contents of the blender into some glasses.),Weeeell, it's rum, and-,We thought since Phoebe was staying over tonight we'd have kinda like a slumber party thing. We got some trashy magazines, we got cookie dough, we got Twister... (The phone rings and Monica answers it.),Uh, Rach, it's the Visa card people.,(on phone) Could you please tell me what this is in reference to? (Listens) Yes, hold on. (To Rachel) Um, they say there's been some unusual activity on your account.,That is the unusual activity. Look, they just wanna see if you're okay.,(pauses then on the phone) Uh- Rachel has left the building, can you call back,You should feel great about yourself! You're doing this amazing independence thing!,Ah, the other Jack.,So what, you're not the only one. I mean, half the time we don't know where we're going. You've just gotta figure at some point it's all gonna come together, and it's just gonna be... un-floopy.,...Pheebs,No, you were right. I don't have a plan. (There's a knock on the door.),Phoebe,Do you have a plan,(leaping off of the couch and runs up) Wait! Did you say 'G.Stephanopoulos?',Wait, was this a-a small mediterranean guy with curiously intelligent good looks,Was he wearing a stunning blue suit,(staggered) Oh God.,Are you nuts?! We've got George Stephanopoulos' pizza! (Rachel pays him, Monica grabs some binoculars, and runs to the window.),I see...  \n",
       "3  Wait, does he eat chalk,Just, 'cause, I don't want her to go through what I went through with Carl- oh!,No.,Ooh! Oh! (She starts to pluck at the air just in front of Ross.),Fine!  Be murky!,If I let go of my hair, my head will fall off.,(sings) Raindrops on roses and rabbits and kittens, (Rachel and Monica turn to look at her.) bluebells and sleighbells and- something with mittens... La la la la...something and noodles with string.  These are a few...,(grins and walks to the kitchen and says to Chandler and Joey.) I helped!,What does that mean?   Does he sell it, drink it, or just complain a lot? (Chandler doesn't know.),Ooh, I just pulled out four eyelashes. That can't be good.,Oh, I wish I could, but I don't want to.,(singing) Love is sweet as summer showers, love is a wondrous work of art, but your love oh your love, your love...is like a giant pigeon...crapping on my heart.  La-la-la-la-la- (some guy gives her some change and to that guy) Thank you. (sings) La-la-la-la...ohhh!,Oh no, don't hate, you don't want to put that out into the universe.,All right, c'mere, gimme your feet. (She starts massaging them.),Give her a break, it's hard being on your own for the first time.,You're welcome. I remember when I first came to this city. I was fourteen. My mom had just killed herself and my step-dad was back in prison, and I got here, and I didn't know anybody. And I ended up living with this albino guy who was, like, cleaning windshields outside port authority, and then he killed himself, and then I found aromatherapy. So believe me, I know exactly how you feel.,(sings) I can't believe what I'm hearing here...,(sings) What I said you had...,Oh, was I doing it again,Oh, yeah!,...Then I've already seen this one! (Turns off the TV.),She's already fluffed that pillow... Monica, you know, you've already fluffed that- (Monica glares at her.) -but, it's fine!,Monica- Hi! Um, Monica, you're scaring me. I mean, you're like, you're like all chaotic and twirly. And not-not in a good way.,Yeah, it's beautiful.,No, look, don't touch that!,Doy! Probably right before she lost it!,(while everyone else is stunned) Ooh! I found it!,She is so great! I miss her.,Y'know, it's even worse when you're twins.,Yeah. We don't speak. She's like this high-powered, driven career type.,She's a waitress.,You know, if you tilt your head to the left, and relax your eyes, it kinda looks like an old potato.,Okay!,(entering) Hi guys!,Um, not so good. He walked me to the subway and said 'We should do this again!',Or, or, y'know, um, 'I think we should see other people' means 'Ha, ha, I already am'.,Yeah- no- I'm just- it's, I haven't worked- It's my bank.,It's nothing, it's just- Okay. I'm going through my mail, and I open up their monthly, you know, STATEMENT-,- and there's five hundred extra dollars in my account.,Yes, 'cause now I have to go down there, and deal with them.,It's not mine, I didn't earn it, if I kept it, it would be like stealing.,Okay. Okay, let's say I bought a really great pair of shoes. Do you know what I'd hear, with every step I took? 'Not-mine. Not-mine. Not-mine.' And even if I was happy, okay, and, and skipping- 'Not-not-mine, not-not-mine, not-not-mine, not-not-mine'...,Okay. I'd- just- I'd never be able to enjoy it. It would be like this giant karmic debt.,Oh, I can't believe you! You've been so good, for three years!,Oh, no! I- I can't drink this now!,'Dear Ms. Buffay. Thank you for calling attention to our error. We have credited your account with five hundred dollars. We're sorry for the inconvenience, and hope you'll accept this- (Searches in her purse) -football phone as our free gift.' Do you believe this?! Now I have a thousand dollars, and a football phone!,Yes, yes! Like the man in the shoe!,From the nursery rhyme. 'There was a crooked man, Who had a crooked smile, Who lived in a shoe, For a... while...',Hey, Lizzie.,I brought you alphabet soup.,Yes. But I left in the Ys. 'Cause, y'know, \"sometimes y\". Uh, I also have something else for you. (She searches in her purse.),No, but would you like a thousand dollars and a football phone,I know.,No, I want you to have it. I don't want it.,Oh, that's fine, no.,No. 'Cause you need that. No, it's okay, thanks.,Okay, alright, you buy me a soda, and then we're even. Okay,Okay.,No, I'm fine.,Huh!,I know! I know, I opened it up and there it was, just floating in there, like this tiny little hitch-hiker!,Does, um, anyone wanna see,Yeah, 'cause otherwise someone might get what they actually ordered.,Does anyone want the rest of this Pop-Tart,Sorry. ..Y'know, those stupid soda people gave me seven thousand dollars for the thumb.,And on my way over here, I stepped in gum. ...What is up with the universe?!,Wait, wait, I'm getting a deja vu...no, I'm not.,There it is!,You know.. you let your guard down, you start to really care about someone, and I just- I- (starts chewing her hair),Did he mention us,(shouting as he leaves) If you never smoke again I'll give you seven thousand dollars!,Okay, okay. If I were omnipotent for a day, I would want, um, world peace, no more hunger, good things for the rain-forest...And bigger boobs!,(waking and startling them) Oh! What what what! ...Hi.,I got no sleep last night!,My grandmother has this new boyfriend, and they're both kind of insecure in bed. Oh, and deaf. So they're constantly, like, having to reassure each other that they're having a good time. You have no idea how loud they are!,Thanks.,I remember the day I got my first pay check. There was a cave in in one of the mines, and eight people were killed.,I worked in a Dairy Queen, why,(to Monica) Look, look, I have elbows! (They scream.),Ooh! Ooh! And I brought Operation! But, um, I lost the tweezers, so we can't operate. But we can prep the guy!,You are just like Jack.,No, Jack and the Beanstalk.,Yeah, right! See, he gave up something, but then he got those magic beans. And then he woke up, and there was this, this big plant outside his window, full of possibilities and stuff.. And he lived in a village, and you live in the Village..,Oh, see, Jack did love the cow.,Floopy,Oh, like that's a word.,Oh, well... 'cause.... you just... I don't like this question.,What,I don't even have a 'pl'.,And-and a power tie,Big Bird's friend.,Oh, I wanna see! Lemme see! Lemme see! (She runs up and takes the binoculars.),Ooh, wait.. wait, I see a woman.,Definitely not his mother.,Oh, wait, she's walking across the floor.. she's walking.. she's walking.. she's going for the pizza- (Yelling) Hey, that's not for you, bitch! (Phoebe covers her mouth with her hand walks away from the window.),Yeah,Uh-huh.,Oh! Oh! Oh! Okay, fine, fine. Now I don't feel so bad about sleeping with Jason Hurley.,You'd already broken up.,A couple hours.,There he is! There he is!,Right- where we've been looking all night!,Oh, ok, you know what I don't get? The way guys can do so many mean things, and then not even care.,You know, if you want, I'll do it with you.,No, I mean you break up with Janice and I'll break up with Tony.,Yeah, I know, he's sweet, but it's just not fun anymore, you know? I don't know if it's me, or his hunger strike, or, I don't know.,(to Rachel) What's the matter? Why so scrunchy,(rhythmically) Uh-huh, uh-huh.,Are you gonna go over there,This is nice. We never do anything just the two of us.,Eww, I don't wanna do that.,Ok, have a good break-up.,Yeah, it was really hard.,Ok, you weren't there.,Ok, you can do this. It's just like pulling off a Band-aid. Just do it really fast, and then the wound is exposed.,Oh my god. (Chandler downs another espresso.) How many of those have you had,Chandler, easy, easy. Go to your happy place. La la la la la la la.,All right.,Wait here. Breathe.,It's like a gift.,Oh, I'd like that.,(seeing Rachel's clothes) What a neat idea. All your clothes match. I'm gonna do this.,Hey, how'd it go,Oh, he needed some time to grieve.,That oughta do it.,The exclamation point in the title scares me. (Gesturing) Y'know, it's not just Freud, it's Freud!,Oh, oh, but y'know, you always see these really beautiful women with these really nothing guys, you could be one of those guys.,Based on this play? ...Based on this play!,(reading Monica's palm) No, 'cause this line is passion, and this is... just a line.,Oh, yeah. That is not true. Ross, is this your fantasy,(to Rachel) I can't believe you tried to move the green ottoman.,Yeah, you are, Monica. Remember when I lived with you? You were like, a little, y'know, (psycho) Ree! Ree! Ree! Ree!,Ree! Ree! Ree! Ree! Ree!,Seriously, what-what's the part,No, I don't think this was your shot. I mean, I don't even think you just get one shot. I really believe big things are gonna happen for you, I do! You've gotta just keep thinking about the day that some kid is gonna run up to his friends and go 'I got the part! I got the part! I'm gonna be Joey Tribbiani's ass!'.,Hi. Um, I want to start with a song thats about that moment when you suddenly realize what life is all about. OK, here we go. (plays a chord, then the lights go out) OK, thank you very much.,Can I borrow the phone? I want to call my apartment and check on my grandma. (to Monica) What's my number,Well, I never call me.,(at window) Eww, look. Ugly Naked Guy lit a bunch of candles.,Oh... Milwaukee.,Oh, Rachel.,(singing) New York City has no power, and the milk is getting sour. But to me it is not scary, 'cause I stay away from dairy.... la la la, la la, la la... (she writes the lyrics down),About what,What surprise party,Well, he didn't tell me.,This is so typical. I'm always the last one to know everything.,Yuh-huh! I was the last one to know when Chandler got bitten by the peacock at the zoo. I was the last one to know when you had a crush on Joey when he was moving in. (Monica gestures at Phoebe to shut up; Joey looks surprised but pleased) Looks like I was second to last.,Oh, poor little Tooty is scared to death. We should find his owner.,(stops at a door) Oh no, the Mendels, they hate all liv...  \n",
       "4  Oh God Monica hi! Thank God! I just went to your building and you weren't there and then this guy with a big hammer said you might be here and you are, you are!,Hi, sure!,Oh God... well, it started about a half hour before the wedding. I was in the room where we were keeping all the presents, and I was looking at this gravy boat. This really gorgeous Lamauge gravy boat. When all of a sudden- (to the waitress that brought her coffee)Sweet 'n' Lo?- I realized that I was more turned on by this gravy boat than by Barry! And then I got really freaked out, and that's when it hit me: how much Barry looks like Mr. Potato Head. Y'know, I mean, I always knew looked familiar, but... Anyway, I just had to get out of there, and I started wondering 'Why am I doing this, and who am I doing this for?'. (to Monica) So anyway I just didn't know where to go, and I know that you and I have kinda drifted apart, but you're the only person I knew who lived here in the city.,Ooh, I was kinda hoping that wouldn't be an issue...,(on phone) Daddy, I just... I can't marry him! I'm sorry. I just don't love him. Well, it matters to me!,C'mon Daddy, listen to me! It's like, it's like, all of my life, everyone has always told me, 'You're a shoe! You're a shoe, you're a shoe, you're a shoe!'. And today I just stopped and I said, 'What if I don't wanna be a shoe? What if I wanna be a- a purse, y'know? Or a- or a hat! No, I'm not saying I want you to buy me a hat, I'm saying I am a ha- It's a metaphor, Daddy!,Look Daddy, it's my life. Well maybe I'll just stay here with Monica.,Well, maybe that's my decision. Well, maybe I don't need your money. Wait!! Wait, I said maybe!!,I'm all better now.,Please, no, go, that'd be fine!,Well, I was kinda supposed to be headed for Aruba on my honeymoon, so nothing!,Well actually thanks, but I think I'm just gonna hang out here tonight.  It's been kinda a long day.,Barry, I'm sorry... I am so sorry... I know you probably think that this is all about what I said the other day about you making love with your socks on, but it isn't... it isn't, it's about me, and I ju- (She stops talking and dials the phone.) Hi, machine cut me off again... anyway...look, look, I know that some girl is going to be incredibly lucky to become Mrs. Barry Finkel, but it isn't me, it's not me.  And not that I have any idea who me is right now, but you just have to give me a chance too... (The maching cuts her off again and she redials.),Oh...see... but Joanne loved Chachi! That's the difference!,Isn't this amazing? I mean, I have never made coffee before in my entire life.,Y'know, I figure if I can make coffee, there isn't anything I can't do.,Hello, Paul.,So, like, you guys all have jobs,Wow! Would I have seen you in anything,I can see that. You look like you slept with a hanger in your mouth.,Oh, yeah.,Oh wow. Are you in trouble.,Want a wedding dress?   Hardly used.,Oh, look, wish me luck!,I'm gonna go get one of those (Thinks) job things.,Guess what,Are you kidding? I'm trained for nothing! I was laughed out of twelve interviews today.,You would be too if you found John and David boots on sale, fifty percent off!,They're my new 'I don't need a job, I don't need my parents, I've got great boots' boots!,Uh, credit card.,Um... my... father.,Oh God, come on you guys, is this really necessary?  I mean, I can stop charging anytime I want.,I know that. That's why I was getting married.,Thank you.,No.  No, no, I'm not ready!  How can I be ready?  \"Hey, Rach!  You ready to jump out the airplane without your parachute?\"  Come on, I can't do this!,I don't think so.,Y'know what?  I think we can just leave it at that.  It's kinda like a symbolic gesture...,Hey Mon, look what I just found on the floor. (Monica smiles.) What,Sorry-,No, you have it, really, I don't want it-,Okay.,I knew.,I did.,Yeah, maybe...,Goodnight.,(walks up with a pot of coffee) Would anybody like more coffee,I'm just serving it.,Ugh. (To another customer that's leaving.) Excuse me, could you give this to that guy over there? (Hands him the coffee pot.) Go ahead. (He does so.) Thank you. (To the gang.) Sorry.  Okay, Las Vegas.,Everything you need to know is in that first kiss.,Yeah, well, word of advice: Bring back the comedian. Otherwise next time you're gonna find yourself sitting at home, listening to that album alone.,Has anybody seen my engagement ring,Oh God, oh God, oh God oh God oh God oh God.... (Starts to look under the couch cushions.),Oh, like I wasn't dreading tomorrow enough, having to give it back to him... 'Hi Barry! Remember me? I'm the girl in the veil who stomped on your heart in front of your entire family!' Oh God and now I'm gonna have to return the ring, without the ring, which makes it so much harder...,I know I had it this morning, and I know I had it when I was in the kitchen with...,(looks at the lasagne and realizes something) Ohhhhh, don't be mad...,Oh, I am sorry...,Oh, but look how straight those noodles are!,Well now, how-how do you fit into this whole thing,So what are you gonna do,You're twins,All right, you guys, I kinda gotta clean up now. (They all start to leave.),The lights, please..,I'm just cleaning up.,Uh.. okay, sure! Thanks! (She hands him the broom and sits down.),Oh.. a little..,A lot.,So, got any advice? Y'know, as someone who's recently been- dumped,Oh, you've got Carol tomorrow.. When did it get so complicated,Remember when we were in high school together,I mean, didn't you think you were just gonna meet somone, fall in love- and that'd be it? (Ross gazes at her.) ..Ross,Oh! Man, I never thought I'd be here.. (She leans back onto his hand.),Barry,(hesitates) Are you sure,I'm- uh- I'm okay... You look great!,I dumped him.,Oh, not much. I-I got a job.,Why are- why are you so tanned,Oh no. You went on our honeymoon alone,Mindy?! My maid of honour, Mindy?!,Oh! Well, um.. (Grabs his forehand) You've got plugs!,And you've got lenses! But you hate sticking your finger in your eye!,Okay..,Wow.,What,Anyway, um, (Gets the ring out of her purse.) I guess this belongs to you. And thank you for giving it to me.,(on phone) Hi, Mindy. Hi, it-it's Rachel. Yeah, I'm fine. I-I saw Barry today. Oh, yeah, yeah he-he told me. No, no, it's okay. I hope you two are very happy, I really do. Oh, oh, and Mind, y'know, if-if everything works out, and you guys end up getting married and having kids- and everything- I just hope they have his old hairline and your old nose. (Slams the phone down.) (To everyone) Okay, I know it was a cheap shot, but I feel so much better now.,What? He said 'we should do it again', that's good, right,Since when,And everybody knows this,(carrying a tray of drinks) Alright, don't tell me, don't tell me! (Starts handing them out.) Decaf cappucino for Joey.. Coffee black.. Late.. And an iced tea. I'm getting pretty good at this!,(leaving to serve others) Good for me!,Yeah, but if you spent it, it would be like shopping!,Chandler, what are you doing,This Alan again? How's it goin',Well, then can we meet him,What bank is this,And did you notice...? (She spreads her thumb and index finger.),What future boyfriends? Nono, I th- I think this could be, y'know, it.,I mean, it-it was like, it was like he made us into a team.,Well, no. That's impossible. You can never be too Alan.,It's worse than the thumb!,Well, I-I could live without it.,\"Indeed there isn't\"... I should really get back to work.,Ohh-ho-hooohhh. The hair comes out, and the gloves come on.,(holding the phone out to Chandler) Chandler? It's Alan, he wants to speak to you.,(to Ross, who has wandered up) God, he's good.,Yeah.,I think he's across the hall.,Uh, Joey..,We didn't change..,(tearful) I just can't believe this! I mean, with the holidays coming up- I wanted him to meet my family-,Remember when we went to Central Park and rented boats?.. That was fun.,See, there's always one guy. (Mocking) \"If I had a wish, I'd wish for three more wishes.\" (Joey enters.),Look-look-look-look-look, my first pay check! Look at the window, there's my name! Hi, me!,God, isn't this exciting? I earned this. I wiped tables for it, I steamed milk for it, and it was totally—(opens envelope)—not worth it. Who's FICA? Why's he getting all my money? I mean, what- Chandler, look at that.,Oh my God! (Rachel, Leslie, Kiki, and Joanne all scream and hug each other.,What are you guys doing here,(to a pregnant Leslie) Look at you, you are so big I can't believe it!,(to Joanne) So what's going on with you,So c'mon, you guys, tell me all the dirt!,Okay.,What? Guys, I'm not.,I'm not! This is what I'm doing now. I've got this job-,Okay, I'm not just waitressing. I'm.. I, um... I write the specials on the specials board, and, uh... and I, uh... I take the uh dead flowers out of the vase... Oh, and, um, sometimes Artelle lets me put the little chocolate blobbies on the cookies.,What's that,Okay. (Grabs the blender and starts to drink.),Oh, God, ask them what they want.,But I haven't used my card in weeks!,They wanna know if I'm okay. Okay.. they wanna know if I'm okay, okay, let's see. Well, let's see, the FICA guys took all my money, everyone I know is either getting married, or getting promoted, or getting pregnant, and I'm getting coffee! And it's not even for me! So if that sounds like I'm okay, okay, then you can tell them I'm okay, okay,Alright, c'mon! (Miserably) Let's play Twister!,Monica, what is so amazing? I gave up, like, everything. And for what,...Jack from downstairs,Okay, but Pheebs, Pheebs, Jack gave up a cow, I gave up an orthodontist. Okay, I-I-I know, I know I didn't love him-,But see, it was a plan. Y'know, it was clear. It was figured out, and now everything's just kinda like...,Yeah.,Okay, but Monica, what if- what if it doesn't come together,Okay, see, see, you guys, what if we don't get magic beans? I mean, what if all we've got are.. beans,I'm so sorry, you guys. I didn't mean to bring you down.,Thank God. Food. (She goes to answer the door.),(miserably) No, no, that's not what...  \n",
       "5  (mortified) Hi.,I just feel like someone reached down my throat, grabbed my small intestine, pulled it out of my mouth and tied it around my neck...,Thanks.,No, no don't! Stop cleansing my aura! No, just leave my aura alone, okay,I'll be fine, alright? Really, everyone. I hope she'll be very happy.,No I don't, to hell with her, she left me!,No!! Okay?! Why does everyone keep fixating on that? She didn't know, how should I know,I told mom and dad last night, they seemed to take it pretty well.,Sorry.,I don't want to be single, okay? I just... I just- I just wanna be married again!,Hi.,(in a deep voice) I'll have whatever Christine is having.,You can see where he'd have trouble.,Paul the Wine Guy, Paul,He finally asked you out,(choked voice) That'd be good...,(normal voice) No, go on! It's Paul the Wine Guy!,A wandering,So Rachel, what're you, uh... what're you up to tonight,Right, you're not even getting your honeymoon, God.. No, no, although, Aruba, this time of year... talk about your- (thinks) -big lizards... Anyway, if you don't feel like being alone tonight, Joey and Chandler are coming over to help me put together my new furniture.,Okay, sure.,(squatting and reading the instructions) I'm supposed to attach a brackety thing to the side things, using a bunch of these little worm guys. I have no brackety thing, I see no whim guys whatsoever and- I cannot feel my legs.,(clutching a beer can and sniffing) This was Carol's favorite beer. She always drank it out of the can, I should have known.,You guys.,I'm divorced!  I'm only 26 and I'm divorced!,That only took me an hour.,You know what the scariest part is? What if there's only one woman for everybody, y'know? I mean what if you get one woman- and that's it? Unfortunately in my case, there was only one woman- for her...,I honestly don't know if I'm hungry or horny.,(scornful) Grab a spoon. Do you know how long it's been since I've grabbed a spoon? Do the words 'Billy, don't be a hero' mean anything to you,Y'know, here's the thing. Even if I could get it together enough to- to ask a woman out,... who am I gonna ask? (He gazes out of the window.),I assume we're looking for an answer more sophisticated than 'to get you into bed'.,You got a job,The word you're looking for is 'Anyway'...,Come on, you made coffee!   You can do anything! (Chandler slowly tries to hide the now dead plant from that morning when he and Joey poured their coffee into it.),C'mon, cut. Cut, cut, cut,...,No. No, I gotta go home sometime.,Yeah.,Mmm. (They both reach for the last cookie) Oh, no-,No no no, go-,Split it,Okay. (They split it.) You know you probably didn't know this, but back in high school, I had a, um, major crush on you.,You did! Oh.... I always figured you just thought I was Monica's geeky older brother.,Oh. Listen, do you think- and try not to let my intense vulnerability become any kind of a factor here- but do you think it would be okay if I asked you out? Sometime? Maybe,Okay... okay, maybe I will...,Goodnight.,I just grabbed a spoon. (Ross exits and Monica has no idea what that means.),There's an image.,Yeah, and-and it's not that we don't like the comedian, it's that-that... that's not why we bought the ticket.,No, it's good, it is good, it's just that- mm- doesn't she seem a little angry,Does she.,Marsha, these are cave people. Okay? They have issues like 'Gee, that glacier's getting kinda close.' See,(trying to ignore her) No. No.,Okay, okay, yes, it is. (waves) How about I'll, uh, catch up with you in the Ice Age.,Hi.,You look great. I, uh... I hate that.,Ah, well, in here, anyone who... stands erect... So what's new? Still, uh...,Well... you never know. How's, um.. how's the family,Why- why are you here, Carol,Pregnant?!,(standing outside the door).....Hi.,Carol's pregnant.,Yeah. Do that for another two hours, you might be where I am right about now. (He enters.),Well, Carol says she and Susan want me to be involved, but if I'm not comfortable with it, I don't have to be involved.. basically it's entirely up to me.,Anyway, they want me to go down to this- sonogram thing with them tomorrow.,I have no idea. No matter what I do, though, I'm still gonna be a father.,I- I think they're great! I, I really do.,Aw, Mom...,Yeah. (They go to the kitchen.),(pulls his hand away) Okay! Okay. (To his parents) Look, I, uh- I realise you guys have been wondering what exactly happened between Carol and me, and, so, well, here's the deal. Carol's a lesbian. She's living with a woman named Susan. She's pregnant with my child, and she and Susan are going to raise the baby.,Well, y'know, these people are pros. They know what they're doing, they take their time, they get the job done.,Must pee. (Goes to pee.),...How long was I in there,D'ya.. uh.. d'ya need any help,Anyway.. um.. (Starts to sweep.) So, you- uh- you nervous about Barry tomorrow,Mm-hmm..,Mm.,Well, you may wanna steer clear of the word 'dumped'. Chances are he's gonna be this, this broken shell of a man, y'know, so you should try not to look too terrific, I know it'll be hard. Or, y'know, uh, hey!, I'll go down there, and I'll give Barry back his ring, and you can go with Carol and Susan to the OB/GYN...,Got me.,Yeah.,Yes, yes!,Me either... (He pulls up a stool so that he doesn't have to move his hand.),(entering) Sorry I'm late, I was stuck at work. There was this big dinosaur.. thing.. anyway.,How could I forget,(they shake hands) Hello, Susan. (To Carol) Good shake. Good shake. So, uh, we're just waiting for...,..Dr. Oberman. Okay. And is he-,-she, of course, she- uh- familiar with our.. special situation,Okay, that's great. (Susan gives her drink to Carol.) No, I'm- Oh.,(picks up a surgical instrament and mimes a duck with it) Quack, quack..,So, um- so how's this, uh, how's this gonna work? Y'know, with us? Y'know, when, like, important decisions have to be made,Well, uh, uh, I don't know, okay, okay, how about with the, uh, with the baby's name,Marlon?!,...As in Mouse,Still, you- you say Minnie, you hear Mouse. Um, how about, um.. how about Julia,'S'funny, um, uh, we agreed we'd spend the rest of our lives together. Things change, roll with the punches. I believe Julia's on the table..,Helen Geller? I don't think so.,Thank you!,What, it's gonna be Helen Willick,Well, wait a minute, wha- why is she in the title,Oh, 's'funny, really? Um, I don't remember you making any sperm.,No no no, she gets a credit, hey, I'm in there too.,Of course not, I'm... suggesting Geller-Willick-Bunch.,My way?! You-you think this is my way? Believe me, of all the ways I ever imagined this moment in my life being, this is not my way- y'know what? Uh, um, this is too hard. I'm not, I can't do-,You- uh- y'know what, I'm gonna go. I don't- I don't think I can be involved in this particular thing right now.,Oh my God.,Well? Isn't that amazing,Then don't do that, alright,(walks over to where Monica is standing)Monica. Whaddya think,Wh- are you welling up,You are, you're welling up.,You're gonna be an aunt.,Hey. Oh, oh, how'd it go,That's funny, that, no, because, uh, our parents actually did, uh, send our dog off to live on a farm.,What? Wh- hello? The Millners' farm in Connecticut? The Millners, they had this unbelievable farm, they had horses, and, and rabbits that he could chase and it was- it w- .....Oh my God, Chi Chi!,Can I use.. either thumb,Easy.,What is this?!,Hold on a second, alright? Just think about what you went through the last time you quit.,Yeah, well, you didn't know Chi Chi.,Hey, Pheebs.,...I'll go. Let's start with the way he kept picking at- no, I'm sorry, I can't do this, can't do this. We loved him.,...What shoe,...So I think Alan will become the yardstick against which all future boyfriends will be measured.,You know what I like most about him, though,The way he makes me feel about myself.,Well..,He was unbelievable. He was like that-that-that Bugs Bunny cartoon where Bugs is playing all the positions, right, but instead of Bugs it was first base-Alan, second base-Alan, third base-...,What,Yeah, it's his, uh, innate Alan-ness that-that-that we adore.,A thumb?!,Oh, now, don't listen to him, Pheebs, I think it's endearing.,You know, there's nothing wrong with speaking correctly.,Don't you realise what you're-you're doing to yourself,If only he were a woman.,Okay. I think it's time to change somebody's nicotine patch. (Does so.),(finishing changing Chandler's nicotine patch) There y'go.,Hey Pheebs, you gonna have the rest of that Pop-Tart?.. Pheebs,Hey, I might!,Is there somebody else,Who-who wants fair? Y'know, I just want things back. Y'know, the way they were.,Hey hey, we'll be fine. We're just gonna need a little time.,Yeah. He could row like a viking.,So how'd it go,You had a rough day, huh.. c'mere. (She sits down and Ross strokes her forehead.),Yeah, see.. you took mine. Chandler, what about you,Joey, uh- OMnipotent.,I cannot sleep in a public place.,It's okay, y'know, you just nodded off again.,Why,Funny, my birthday was seven months ago.,So, I'm guessing you had an extra ticket and couldn't decide which one of you got to bring a date,Oh my God, oh- is today the twentieth, October twentieth,Ohhh.,Today's the day Carol and I first.. consummated our physical relationship. (Joey is puzzled.) Sex. ..You know what, I-I'd better pass on the game. I think I'm just gonna go home and think about my ex-wife and her lesbian lover.,What are you doing,Alright, alright, maybe it'll take my mind off it. Do you promise to buy me a big thumb finger,You can totally, totally live on this.,Oh, by the way, great service tonight.,Carol was wearing boots just like those the night that we- we first- y'know. Fact, she, uh- she never took'em off, 'cause we-we- (off Chandler's look) Sorry. Sorry.,Peach pit.,(points) Peach pit. That night we, uh- we had-,Actually, nectarines, but basically...,Then, uh, then we got dressed, and I-I... I walked her to the- (looks up, realises, and points) -the bus stop... I'm fine.,(squeezing past people) Sorry...  "
      ]
     },
     "execution_count": 386,
     "metadata": {},
     "output_type": "execute_result"
    }
   ],
   "source": [
    "# Concating all lines goupby Character\n",
    "df_lcd_new=df_lcd.groupby('Character')['Dialogue'].apply(','.join).reset_index()\n",
    "df_lcd_new.head(6)\n",
    "#print (df_lcd_new[df_lcd_new['Character'] == 'Joey'])"
   ]
  },
  {
   "cell_type": "code",
   "execution_count": 387,
   "metadata": {},
   "outputs": [
    {
     "data": {
      "text/html": [
       "<div>\n",
       "<style scoped>\n",
       "    .dataframe tbody tr th:only-of-type {\n",
       "        vertical-align: middle;\n",
       "    }\n",
       "\n",
       "    .dataframe tbody tr th {\n",
       "        vertical-align: top;\n",
       "    }\n",
       "\n",
       "    .dataframe thead th {\n",
       "        text-align: right;\n",
       "    }\n",
       "</style>\n",
       "<table border=\"1\" class=\"dataframe\">\n",
       "  <thead>\n",
       "    <tr style=\"text-align: right;\">\n",
       "      <th></th>\n",
       "      <th>Character</th>\n",
       "      <th>Dialogue</th>\n",
       "    </tr>\n",
       "  </thead>\n",
       "  <tbody>\n",
       "    <tr>\n",
       "      <th>0</th>\n",
       "      <td>Monica</td>\n",
       "      <td>There's nothing to tell! He's just some guy I work with!</td>\n",
       "    </tr>\n",
       "    <tr>\n",
       "      <th>5</th>\n",
       "      <td>Monica</td>\n",
       "      <td>Okay, everybody relax. This is not even a date. It's just two people going out to dinner and- not having sex.</td>\n",
       "    </tr>\n",
       "    <tr>\n",
       "      <th>15</th>\n",
       "      <td>Monica</td>\n",
       "      <td>And they weren't looking at you before?!</td>\n",
       "    </tr>\n",
       "    <tr>\n",
       "      <th>19</th>\n",
       "      <td>Monica</td>\n",
       "      <td>Are you okay, sweetie</td>\n",
       "    </tr>\n",
       "    <tr>\n",
       "      <th>22</th>\n",
       "      <td>Monica</td>\n",
       "      <td>(explaining to the others) Carol moved her stuff out today.</td>\n",
       "    </tr>\n",
       "    <tr>\n",
       "      <th>...</th>\n",
       "      <td>...</td>\n",
       "      <td>...</td>\n",
       "    </tr>\n",
       "    <tr>\n",
       "      <th>61503</th>\n",
       "      <td>Monica</td>\n",
       "      <td>Oh, yeah, that's true.</td>\n",
       "    </tr>\n",
       "    <tr>\n",
       "      <th>61505</th>\n",
       "      <td>Monica</td>\n",
       "      <td>Wait a minute. What about that summer during college that you lived with grandma, and you tried to make it as a dancer</td>\n",
       "    </tr>\n",
       "    <tr>\n",
       "      <th>61507</th>\n",
       "      <td>Monica</td>\n",
       "      <td>Oh, honey, I forgot. I promised Treeger that we'd leave our keys.</td>\n",
       "    </tr>\n",
       "    <tr>\n",
       "      <th>61511</th>\n",
       "      <td>Monica</td>\n",
       "      <td>(crying) This is harder than I thought it would be.</td>\n",
       "    </tr>\n",
       "    <tr>\n",
       "      <th>61514</th>\n",
       "      <td>Monica</td>\n",
       "      <td>We got some time.</td>\n",
       "    </tr>\n",
       "  </tbody>\n",
       "</table>\n",
       "<p>8437 rows × 2 columns</p>\n",
       "</div>"
      ],
      "text/plain": [
       "      Character  \\\n",
       "0        Monica   \n",
       "5        Monica   \n",
       "15       Monica   \n",
       "19       Monica   \n",
       "22       Monica   \n",
       "...         ...   \n",
       "61503    Monica   \n",
       "61505    Monica   \n",
       "61507    Monica   \n",
       "61511    Monica   \n",
       "61514    Monica   \n",
       "\n",
       "                                                                                                                     Dialogue  \n",
       "0                                                                    There's nothing to tell! He's just some guy I work with!  \n",
       "5               Okay, everybody relax. This is not even a date. It's just two people going out to dinner and- not having sex.  \n",
       "15                                                                                   And they weren't looking at you before?!  \n",
       "19                                                                                                      Are you okay, sweetie  \n",
       "22                                                                (explaining to the others) Carol moved her stuff out today.  \n",
       "...                                                                                                                       ...  \n",
       "61503                                                                                                  Oh, yeah, that's true.  \n",
       "61505  Wait a minute. What about that summer during college that you lived with grandma, and you tried to make it as a dancer  \n",
       "61507                                                       Oh, honey, I forgot. I promised Treeger that we'd leave our keys.  \n",
       "61511                                                                     (crying) This is harder than I thought it would be.  \n",
       "61514                                                                                                       We got some time.  \n",
       "\n",
       "[8437 rows x 2 columns]"
      ]
     },
     "execution_count": 387,
     "metadata": {},
     "output_type": "execute_result"
    }
   ],
   "source": [
    "df_lcd[df_lcd['Character'] == 'Monica']"
   ]
  },
  {
   "cell_type": "code",
   "execution_count": 388,
   "metadata": {},
   "outputs": [],
   "source": [
    "# Check to make sure its working\n",
    "#df_lcd_new['Dialogue'] = df_lcd_new['Dialogue'].apply(text_process)\n",
    "df_lcd_new['Dialogue'] = df_lcd_new['Dialogue'].apply(round1)"
   ]
  },
  {
   "cell_type": "code",
   "execution_count": null,
   "metadata": {},
   "outputs": [],
   "source": [
    "# Let's take a look at the updated text\n",
    "#data_clean = df_lcd_new['Dialogue'].apply(round1)\n",
    "#data_clean = pd.DataFrame(df_lcd_new.Dialogue.apply(round1))\n",
    "df_lcd_new"
   ]
  },
  {
   "cell_type": "code",
   "execution_count": null,
   "metadata": {},
   "outputs": [],
   "source": []
  },
  {
   "cell_type": "code",
   "execution_count": null,
   "metadata": {},
   "outputs": [],
   "source": [
    "#set column as index\n",
    "data_clean = df_lcd_new.set_index('Character')\n",
    "data_clean\n"
   ]
  },
  {
   "cell_type": "code",
   "execution_count": null,
   "metadata": {},
   "outputs": [],
   "source": [
    "# We are going to create a document-term matrix using CountVectorizer, and exclude common English stop words\n",
    "from sklearn.feature_extraction.text import CountVectorizer\n",
    "cv = CountVectorizer(stop_words='english')\n",
    "#cv = CountVectorizer(stop_words='english',ngram_range=(1,2))\n",
    "data_cv = cv.fit_transform(data_clean['Dialogue'])\n",
    "data_dtm = pd.DataFrame(data_cv.toarray(), columns=cv.get_feature_names())\n",
    "data_dtm.index = data_clean.index\n",
    "data_dtm"
   ]
  },
  {
   "cell_type": "code",
   "execution_count": null,
   "metadata": {},
   "outputs": [],
   "source": [
    "# pickle imports\n",
    "import pickle\n",
    "\n",
    "# Let's pickle it for later use\n",
    "data_dtm.to_pickle(\"../pickle/dtm.pkl\")"
   ]
  },
  {
   "cell_type": "code",
   "execution_count": null,
   "metadata": {},
   "outputs": [],
   "source": [
    "# Let's also pickle the cleaned data (before we put it in document-term matrix format) and the CountVectorizer object\n",
    "data_clean.to_pickle('../pickle/data_clean.pkl')\n",
    "pickle.dump(cv, open(\"../pickle/cv.pkl\", \"wb\"))"
   ]
  },
  {
   "cell_type": "code",
   "execution_count": null,
   "metadata": {},
   "outputs": [],
   "source": [
    "## Analysis"
   ]
  },
  {
   "cell_type": "code",
   "execution_count": null,
   "metadata": {},
   "outputs": [],
   "source": [
    "# Read in the document-term matrix\n",
    "\n",
    "data = pd.read_pickle('../pickle/dtm.pkl')\n",
    "data = data.transpose()\n",
    "data.head()"
   ]
  },
  {
   "cell_type": "code",
   "execution_count": null,
   "metadata": {},
   "outputs": [],
   "source": [
    "# Find the top 30 words said for each resort\n",
    "top_dict = {}\n",
    "for c in data.columns:\n",
    "    top = data[c].sort_values(ascending=False).head(50)\n",
    "    top_dict[c]= list(zip(top.index, top.values))\n",
    "top_dict"
   ]
  },
  {
   "cell_type": "code",
   "execution_count": null,
   "metadata": {},
   "outputs": [],
   "source": [
    "# Print the top 15 words said for each resort\n",
    "for character, top_words in top_dict.items():\n",
    "    print(character)\n",
    "    print(', '.join([word for word, count in top_words[0:30]]))\n",
    "    print('---')"
   ]
  },
  {
   "cell_type": "markdown",
   "metadata": {},
   "source": [
    "NOTE: At this point, we could go on and create word clouds. However, by looking at these top words, you can see that some of them have very little meaning and could be added to a stop words list, so let's do just that.\n",
    "    "
   ]
  },
  {
   "cell_type": "code",
   "execution_count": null,
   "metadata": {},
   "outputs": [],
   "source": [
    "# Look at the most common top words --> add them to the stop word list\n",
    "from collections import Counter\n",
    "\n",
    "# Let's first pull out the top 30 words for each comedian\n",
    "words = []\n",
    "for character in data.columns:\n",
    "    top = [word for (word, count) in top_dict[character]]\n",
    "    for t in top:\n",
    "        words.append(t)\n",
    "        \n",
    "words"
   ]
  },
  {
   "cell_type": "code",
   "execution_count": null,
   "metadata": {},
   "outputs": [],
   "source": [
    "# Let's aggregate this list and identify the most common words along with how many routines they occur in\n",
    "Counter(words).most_common()"
   ]
  },
  {
   "cell_type": "code",
   "execution_count": null,
   "metadata": {},
   "outputs": [],
   "source": [
    "# If more than half of the characters have it as a top word, exclude it from the list\n",
    "add_stop_words = [word for word, count in Counter(words).most_common() if count > 0]\n",
    "add_stop_words_additional = ['chandler', 'joey', 'monica', 'phoebe', 'rachel', 'ross','guy','hi','start','ye','ha','pause','ah','huh','work','thi','does','didn','thought','didnt','actually','stop','wa','hand','people','talk']\n",
    "add_stop_words.extend(add_stop_words)\n",
    "add_stop_words.extend(add_stop_words_additional)"
   ]
  },
  {
   "cell_type": "code",
   "execution_count": null,
   "metadata": {},
   "outputs": [],
   "source": [
    "# Let's update our document-term matrix with the new list of stop words\n",
    "from sklearn.feature_extraction import text \n",
    "from sklearn.feature_extraction.text import CountVectorizer\n",
    "\n",
    "# Read in cleaned data\n",
    "data_clean = pd.read_pickle('../pickle/data_clean.pkl')\n",
    "\n",
    "data_clean\n"
   ]
  },
  {
   "cell_type": "code",
   "execution_count": null,
   "metadata": {},
   "outputs": [],
   "source": [
    "print (add_stop_words)\n",
    "# Add new stop words\n",
    "stop_words = text.ENGLISH_STOP_WORDS.union(add_stop_words)\n",
    "\n",
    "# Recreate document-term matrix\n",
    "cv = CountVectorizer(stop_words=stop_words)\n",
    "data_cv = cv.fit_transform(data_clean.Dialogue)\n",
    "data_stop = pd.DataFrame(data_cv.toarray(), columns=cv.get_feature_names())\n",
    "data_stop.index = data_clean.index\n"
   ]
  },
  {
   "cell_type": "code",
   "execution_count": null,
   "metadata": {},
   "outputs": [],
   "source": [
    "# Let's make some word clouds!\n",
    "# Terminal / Anaconda Prompt: conda install -c conda-forge wordcloud\n",
    "from wordcloud import WordCloud\n",
    "\n",
    "wc = WordCloud(stopwords=stop_words, background_color=\"white\", colormap=\"Dark2\",\n",
    "               max_font_size=150, random_state=42)\n"
   ]
  },
  {
   "cell_type": "code",
   "execution_count": null,
   "metadata": {},
   "outputs": [],
   "source": [
    "# Reset the output dimensions\n",
    "import matplotlib.pyplot as plt\n",
    "\n",
    "plt.rcParams['figure.figsize'] = [16, 6]\n",
    "character_names = ['Chandler', 'Joey', 'Monica', 'Phoebe', 'Rachel', 'Ross']\n",
    "\n",
    "# Create subplots for each character\n",
    "for index, character in enumerate(data.columns):\n",
    "    wc.generate(data_clean.Dialogue[character])\n",
    "    \n",
    "    plt.subplot(3, 4, index+1)\n",
    "    plt.imshow(wc, interpolation=\"bilinear\")\n",
    "    plt.axis(\"off\")\n",
    "    plt.title(character_names[index])\n",
    "    \n",
    "plt.show()"
   ]
  },
  {
   "cell_type": "code",
   "execution_count": null,
   "metadata": {},
   "outputs": [],
   "source": []
  }
 ],
 "metadata": {
  "kernelspec": {
   "display_name": "Python 3",
   "language": "python",
   "name": "python3"
  },
  "language_info": {
   "codemirror_mode": {
    "name": "ipython",
    "version": 3
   },
   "file_extension": ".py",
   "mimetype": "text/x-python",
   "name": "python",
   "nbconvert_exporter": "python",
   "pygments_lexer": "ipython3",
   "version": "3.7.6"
  }
 },
 "nbformat": 4,
 "nbformat_minor": 1
}
