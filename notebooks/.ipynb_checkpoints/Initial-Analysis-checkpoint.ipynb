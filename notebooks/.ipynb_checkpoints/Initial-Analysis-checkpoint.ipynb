{
 "cells": [
  {
   "cell_type": "code",
   "execution_count": 1,
   "metadata": {},
   "outputs": [
    {
     "name": "stdout",
     "output_type": "stream",
     "text": [
      "Hello World!\n"
     ]
    }
   ],
   "source": [
    "print (\"Hello World!\")"
   ]
  },
  {
   "cell_type": "markdown",
   "metadata": {},
   "source": [
    "Need to clean 'Scene' related details\n",
    "$ grep -i -P -o '.Scene.' merged.csv  | sort | uniq -c | sort -r\n",
    "   6487 [Scene:\n",
    "    152  scene\n",
    "     44  scene.\n",
    "     36  scenes\n",
    "     26  scene,\n",
    "     22 [Scene,\n",
    "     16 [Scene\n",
    "      8  Scene:\n",
    "      6  scene?\n",
    "      6  scene:\n",
    "      6  scene!\n",
    "      6  Scene\n",
    "      4  scene'\n",
    "      3 bscene\n",
    "      3 [scene:\n",
    "      2 [Scene;\n",
    "      2 [SCENE:\n",
    "      2 (Scene:\n",
    "      2 (Scene\n",
    "      2  Scenes\n",
    "      2  scene]\n",
    "      2  scene)\n",
    "      2  Scene!\n",
    "\n",
    "#total no. of lines contains 'scene' word\n",
    "$ grep -i -P -o '.Scene.' merged.csv  | wc -l\n",
    "6841\n",
    "\n",
    "#below count of lines are valid\n",
    "$ grep -i -P 'Scene' merged.csv | grep -i -P '^\\s*(\\[|\\()\\s*(Flashback |Tag )?scene(:|;|,| )' | wc -l\n",
    "6542\n",
    "\n",
    "#Need to clean up below lines which `\n",
    "\n",
    "$ grep -i -P '.Scene.' merged.csv | grep -i -P -v '^\\s*(\\[|\\()\\s*(Flashback |Tag )?scene(:|;|,| )' |  grep -i -P '(\\[|\\()\\s*(Flashback |Tag )?scene(:|;|,| )'\n",
    "Rachel: Ooh, I was kinda hoping that wouldn't be an issue... [Scene: Monica's Apartment, everyone is there and watching a Spanish Soap on TV and are trying to figure out what is going on.]\n",
    "Monica: That's right. [Scene: Monica's Apartment, Rachel is talking on the phone and pacing.]\n",
    "Chandler: Stay out of my freezer! [Scene: A Restaurant, Monica and Paul are still eating.]\n",
    "Credits [Scene: Central Perk. Russ enters. Chandler and Phoebe are sitting on the couch.]\n",
    "Rachel: Ooh, I was kinda hoping that wouldn't be an issue... [Scene: Monica's Apartment, everyone is there and watching a Spanish Soap on TV and are trying to figure out what is going on.]\n",
    "Monica: That's right. [Scene: Monica's Apartment, Rachel is talking on the phone and pacing.]\n",
    "Chandler: Stay out of my freezer! [Scene: A Restaurant, Monica and Paul are still eating.]\n",
    "Rachel: Ooh, I was kinda hoping that wouldn't be an issue... [Scene: Monica's Apartment, everyone is there and watching a Spanish Soap on TV and are trying to figure out what is going on.]\n",
    "Monica: That's right. [Scene: Monica's Apartment, Rachel is talking on the phone and pacing.]\n",
    "Chandler: Stay out of my freezer! [Scene: A Restaurant, Monica and Paul are still eating.]\n",
    "Credits [Scene: Central Perk. Russ enters. Chandler and Phoebe are sitting on the couch.]\n",
    "\n",
    "Season 9, Episode 8 --> Not in proper format\n"
   ]
  }
 ],
 "metadata": {
  "kernelspec": {
   "display_name": "Python 3",
   "language": "python",
   "name": "python3"
  },
  "language_info": {
   "codemirror_mode": {
    "name": "ipython",
    "version": 3
   },
   "file_extension": ".py",
   "mimetype": "text/x-python",
   "name": "python",
   "nbconvert_exporter": "python",
   "pygments_lexer": "ipython3",
   "version": "3.7.4"
  }
 },
 "nbformat": 4,
 "nbformat_minor": 2
}
